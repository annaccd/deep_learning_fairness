{
  "nbformat": 4,
  "nbformat_minor": 0,
  "metadata": {
    "colab": {
      "provenance": [],
      "include_colab_link": true
    },
    "kernelspec": {
      "name": "python3",
      "display_name": "Python 3"
    },
    "language_info": {
      "name": "python"
    }
  },
  "cells": [
    {
      "cell_type": "markdown",
      "metadata": {
        "id": "view-in-github",
        "colab_type": "text"
      },
      "source": [
        "<a href=\"https://colab.research.google.com/github/annaccd/deep_learning_fairness/blob/ACCD/tutorial_fairness_FINAL.ipynb\" target=\"_parent\"><img src=\"https://colab.research.google.com/assets/colab-badge.svg\" alt=\"Open In Colab\"/></a>"
      ]
    },
    {
      "cell_type": "markdown",
      "metadata": {
        "id": "13i7KQ9t-CV8"
      },
      "source": [
        "# Tutorial Notebook: What is the gender of a data scientist? Addressing bias in Natural Language Processing\n",
        "## GRAD-E1394 Deep Learning -- Assignment 3\n",
        "Author(s):\n",
        "* Angela Duarte Pardo, 214566@students.hertie-school.org\n",
        "* Anna Clara Deniz, 216496@students.hertie-school.org\n",
        "* Anna Weronika Matysiak, 217489@students.hertie-school.org\n",
        "* Francesca Giacco, 211256@students.hertie-school.org\n",
        "* Helena Bakic, 211553@students.hertie-school.org\n",
        "\n",
        "\n",
        "In this tutorial, we aim to show a simple and yet effective approach to address bias in natural language processing. It is expected that users of this tutorial will have a better understanding of gender bias in language models and how to minimise this bias with post processing techniques, as well as evaluate bias in a translation task.\n",
        "\n"
      ]
    },
    {
      "cell_type": "markdown",
      "metadata": {
        "id": "yNv0ANr5WcD_"
      },
      "source": [
        "# Table of Contents\n",
        "\n",
        "\n",
        "*   [Memo](#memo)\n",
        "*   [Overview](#overview)\n",
        "*   [Background & Prerequisites](#background-and-prereqs)\n",
        "*   [Software Requirements](#software-requirements)\n",
        "*   [Data Description](#data-description)\n",
        "*   [Methodology](#methodology)\n",
        "*   [Results & Discussion](#results-and-discussion)\n",
        "*   [References](#references)\n"
      ]
    },
    {
      "cell_type": "markdown",
      "metadata": {
        "id": "QH81wjfsJsv1"
      },
      "source": [
        "<a name=\"memo\"></a>\n",
        "# Memo\n",
        "\n",
        "\n"
      ]
    },
    {
      "cell_type": "markdown",
      "source": [
        "Natural Language Processing (NLP) and language models are more and more used during decision making processes in both the private and public sector. Some examples of decisions delegated to NLP models are CV screenings, websearch, recommendation systems. \n",
        "\n",
        "In March 2022  the EU commission released a [guide](https://joinup.ec.europa.eu/sites/default/files/document/2022-03/D02.01_Natural%20Language%20Processing%20for%20Public%20Services_0.pdf) on how to use NLP for public processes.  One tool currently in use is the “[e-translation tool](https://cef-at-service-catalogue.eu/catalogue/search/?q=&selected_facets=service_ownership_status_filter_exact!External)”, which can be used to translate documents in all EU languages. \n",
        "\n",
        "Language models are based on a mathematical representation of language, called embeddings. Embeddings are trained by the use of large text data. The issue is that such texts contain stereotypes and biases and therefore the models also learn and propagate these stereotypes. To be concrete, bias means for example that a word such as “programmer” is more likely associated by the model to a man than to a woman. (Bolukbasi et al. 2016). One possible consequence is that women are discriminated against during hiring processes. (Köchling et al., 2020)\n",
        "\n",
        "Training embeddings requires a lot of computational power and therefore pretrained embeddings such as [GloVe](https://nlp.stanford.edu/projects/glove/) and [Word2Vec](https://towardsdatascience.com/an-introduction-to-word2vec-in-nlp-854e1c288894) are widely used, without any regulation. These however have been shown to discriminate against women and some ethnical groups. (Petreski and  Hashim, 2022) \n",
        "\n",
        "There are several pieces of research showing that biased embeddings are problematic (May et. al 2019), backed by research arguing that language shapes society and the perception of roles (Leavy, 2018). ref Therefore it is crucial that language models do not propagate stereotypes. Governments are aware of the problem of bias in NLP. For example the Federal Anti-discrimination agency Germany sponsored a [study](https://www.antidiskriminierungsstelle.de/EN/homepage/_documents/download_diskr_risiken_verwendung_von_algorithmen.pdf?__blob=publicationFile&v=1) on the risk of discrimination using AI. What however seems to miss is tools to solve the problem. \n",
        "\n",
        "With our tutorial we will first demonstrate that embeddings are biased. Later, we will show how to debias the embeddings and how the output looks like after the debiasing process. Lastly, we will perform a translation task to show concretely the effect of debiasing."
      ],
      "metadata": {
        "id": "bW5-3bGm7n9I"
      }
    },
    {
      "cell_type": "markdown",
      "source": [
        "<a name=\"overview\"></a>\n",
        "# Overview\n"
      ],
      "metadata": {
        "id": "e2u40fYe3EOL"
      }
    },
    {
      "cell_type": "markdown",
      "source": [
        "This tutorial is specifically addressing the problem of gender bias in a language model that is used to perform a translation task. The approach used to minimise the gender bias is a post processing technique that debias the word embeddings that are then applied to the model. The tutorial then evaluates the performance of such an approach by comparing bias in a translation task, before and after the debias of the word embeddings."
      ],
      "metadata": {
        "id": "CbYjQTvg7svx"
      }
    },
    {
      "cell_type": "markdown",
      "metadata": {
        "id": "gQgijl46pYzn"
      },
      "source": [
        "<a name=\"background-and-prereqs\"></a>\n",
        "# Background & Prerequisites\n"
      ]
    },
    {
      "cell_type": "markdown",
      "metadata": {
        "id": "Cggbjmt87aGf"
      },
      "source": [
        "Apart from the technical background knowledge of python programming and basic knowledge of deep learning and neural networks, it is required that users of this tutorial have some understanding of word embeddings, language models, machine translation and bias. \n",
        "\n",
        "> Word Embeddings\n",
        "\n",
        "Word embeddings are a way of representing words as vectors, or numerical arrays, in a way that captures the meaning of the words. This is useful in language translation because it allows computers to understand the meaning of words in a sentence and how they relate to each other. \n",
        "\n",
        "They learn from large amounts of text data using a technique called neural network-based learning. This allows the word vectors to be adjusted and fine-tuned based on the relationships between words in the text data.\n",
        "\n",
        "> Language models\n",
        "\n",
        "Language models are a type of machine learning model that is trained to predict the next word in a sequence of words. This is useful in a variety of natural language processing tasks, such as language translation.\n",
        "\n",
        "They are typically trained using a technique called neural network-based learning, which involves feeding the model a large amount of text data and adjusting the model's internal parameters, or weights, to minimise the error in its predictions. The model learns to make predictions based on the patterns and relationships it detects in the text data.\n",
        "\n",
        "Once the model is trained, it can be used to generate text by feeding it a starting sequence of words and letting it predict the next word in the sequence. The model can then use its own predictions as input to generate the next word, and so on.\n",
        "\n",
        "> Machine translation\n",
        "\n",
        "Machine translation is a technology that allows computers to automatically translate text from one language to another. \n",
        "\n",
        "It works by using algorithms that are trained on large amounts of text data in both languages, so that they can learn the patterns and relationships between the words and sentences in each language.\n",
        "\n",
        "Once the algorithm is trained, it can be used to translate new text by taking a sentence in one language as input and outputting a translation of the sentence in the other language. \n",
        "\n",
        "> Bias\n",
        "\n",
        "Bias in language models refers to the systematic favouring of certain groups or individuals over others in the algorithms, data sets, and processes used in these models. \n",
        "\n",
        "Bias can arise from various sources, including the data sets used to train the algorithms, the algorithms themselves, and the ways in which the algorithms are applied. For example, if a language model is trained on a data set that is not representative of the full diversity of the population, it may produce biassed results when applied to other data sets.\n",
        "\n",
        "The impact of bias in natural language processing and language models can be far-reaching, as these models are used in a variety of tasks, such as language translation, speech recognition, and text generation. If a language model is biased, it may produce unfair or discriminatory results in these tasks, which can have negative consequences for the individuals affected.\n"
      ]
    },
    {
      "cell_type": "markdown",
      "metadata": {
        "id": "Ag9dvWcxqmEq"
      },
      "source": [
        "## Videos"
      ]
    },
    {
      "cell_type": "code",
      "metadata": {
        "colab": {
          "base_uri": "https://localhost:8080/",
          "height": 321
        },
        "id": "E4aK3MI9qhfJ",
        "outputId": "08f149b7-d22c-4cf1-c07f-0c0d4c397cd2"
      },
      "source": [
        "from IPython.display import YouTubeVideo\n",
        "YouTubeVideo('qpYyI9Tdtc4')"
      ],
      "execution_count": null,
      "outputs": [
        {
          "output_type": "execute_result",
          "data": {
            "text/plain": [
              "<IPython.lib.display.YouTubeVideo at 0x7f3dbe1fd2b0>"
            ],
            "text/html": [
              "\n",
              "        <iframe\n",
              "            width=\"400\"\n",
              "            height=\"300\"\n",
              "            src=\"https://www.youtube.com/embed/qpYyI9Tdtc4\"\n",
              "            frameborder=\"0\"\n",
              "            allowfullscreen\n",
              "        ></iframe>\n",
              "        "
            ],
            "image/jpeg": "[encoded data removed]"
          },
          "metadata": {},
          "execution_count": 1
        }
      ]
    },
    {
      "cell_type": "markdown",
      "metadata": {
        "id": "7BpQklEEIFDD"
      },
      "source": [
        "## Reading materials\n",
        "[Neural Network Embeddings Explained | by Will Koehrsen | Towards Data Science](https://towardsdatascience.com/neural-network-embeddings-explained-4d028e6f0526)\n",
        "\n",
        "[What does “fairness” mean for machine learning systems?](https://haas.berkeley.edu/wp-content/uploads/What-is-fairness_-EGAL2.pdf)\n",
        "\n",
        "[Gender Bias in Neural Machine Translation](https://www.cis.upenn.edu/wp-content/uploads/2021/10/Senior_Thesis_Yuxin_Liao.pdf)\n",
        "\n"
      ]
    },
    {
      "cell_type": "markdown",
      "metadata": {
        "id": "rSRCNgYzUwaf"
      },
      "source": [
        "<a name=\"software-requirements\"></a>\n",
        "# Software Requirements"
      ]
    },
    {
      "cell_type": "markdown",
      "source": [
        "Include in this section the software requirements, setup instructions, and library imports. \n",
        "\n",
        "Example:\n",
        "\n",
        "This notebook requires Python >= 3.7. The following libraries are required:\n",
        "*   pandas\n",
        "*   numpy\n",
        "*   matplotlib"
      ],
      "metadata": {
        "id": "BkRjk48r8D_P"
      }
    },
    {
      "cell_type": "code",
      "metadata": {
        "id": "jObV5LtDk0Vm"
      },
      "source": [
        "!pip install pandas numpy matplotlib "
      ],
      "execution_count": null,
      "outputs": []
    },
    {
      "cell_type": "code",
      "metadata": {
        "id": "xVzk4V7qUu2R"
      },
      "source": [
        "# Data visualization\n",
        "import matplotlib.pyplot as plt \n",
        "\n",
        "# Data manipulation\n",
        "import pandas as pd\n",
        "import numpy as np"
      ],
      "execution_count": null,
      "outputs": []
    },
    {
      "cell_type": "markdown",
      "metadata": {
        "id": "jXoiLncsU3pe"
      },
      "source": [
        "<a name=\"data-description\"></a>\n",
        "# Data Description\n",
        " "
      ]
    },
    {
      "cell_type": "markdown",
      "source": [
        "In this section, kindly provide a brief description of the dataset that you will use in this tutorial. Specify information such as the data type or file format (e.g. text, image, video, tabular), size, spatial resolution, temporal resolution, labels or categories, etc. Explicitly name the source of your dataset. If you are introducing a new dataset, feel free to include additional information (e.g. field survey sampling methods, dataset annotation efforts, etc.) or provide external links and resources that discuss the specific details of the dataset."
      ],
      "metadata": {
        "id": "FjxiRYJ58Kkp"
      }
    },
    {
      "cell_type": "markdown",
      "metadata": {
        "id": "PoF-BxSM5Jkc"
      },
      "source": [
        "## Data Download\n",
        "Provide instructions on how to retrieve the necessary data. \n",
        "\n",
        "This may include bash scripts, Python scripts, or other means of downloading the data."
      ]
    },
    {
      "cell_type": "code",
      "metadata": {
        "id": "Qh5FKi6Nopbr"
      },
      "source": [
        "# Insert data download code here, e.g.\n",
        "# !wget <data-download-link>.zip -O data.zip"
      ],
      "execution_count": null,
      "outputs": []
    },
    {
      "cell_type": "markdown",
      "metadata": {
        "id": "bSt6h_Q-oqjK"
      },
      "source": [
        "## Data Preprocessing\n",
        "Additionally, you can include any data preprocessing steps and exploratory data analyses (e.g. visualize data distributions, impute missing values, etc.) in this section to allow the users to better understand the dataset. \n",
        "\n",
        "In this section, you might also want to describe the different input and output variables, the train/val/test splits, and any data transformations."
      ]
    },
    {
      "cell_type": "code",
      "metadata": {
        "id": "0aBJ5aLZosk-"
      },
      "source": [
        "# Insert data pre-processing and exploratory data analysis\n",
        "# code here. Feel free to break this up into several code\n",
        "# cells, interleaved with explanatory text. "
      ],
      "execution_count": null,
      "outputs": []
    },
    {
      "cell_type": "markdown",
      "metadata": {
        "id": "qa9Iuu2GU52Z"
      },
      "source": [
        "<a name=\"methodology\"></a>\n",
        "# Methodology"
      ]
    },
    {
      "cell_type": "markdown",
      "source": [
        "Gender Bias can happen at various stages of model development, as we explained before. However, bias occurring in embeddings can then get amplified by models.\n",
        "\n",
        "In this section, we'll walk our readers step-by-step through three processes:\n",
        "\n",
        "*   Quantifying gender bias and debiasing pretrained GloVe embeddings.\n",
        "*   Implementing a 2-layered LSTM tranlation model with pretrained and debiased GloVe embeddings.\n",
        "*   Comparing the performance of our biased and debiased translation models in stereotypical vs non-stereotypical scenarios.\n",
        "\n",
        "Let's start with understanding how does bias occur in embeddings."
      ],
      "metadata": {
        "id": "F0yDJvD08Tl-"
      }
    },
    {
      "cell_type": "markdown",
      "metadata": {
        "id": "yWXsiZ5freTG"
      },
      "source": [
        "## Debiasing embeddings\n",
        "Embeddings are vector representation of words that encode their relations with other words in a given corpus. Because they are often trained with internet data, they can also encode societal bias in their representation.\n",
        "\n",
        "How does this bias look like? Well, similar words occur in similar contexts, which means that the embeddings can group together words that in society has traditionally –though erroneously– grouped together, as for example: men, computers, football and programmers; and women with homemaker, nanny and teachers. \n",
        "\n",
        "This was exactly the case in the paper \"Man is to computer programmer as woman is to homemaker? debiasing word embeddings.\" by Bolukbasy et al. (2016). The authors studied bias in embeddings by programming analogies: \"he is to king as she is to x\", and found that the algorithms were consistently picking professions stereotypically associated to women (homemaker, nurse,etc), even when the male professions were neutral. They therefore propose a debiasing method for the embeddings, so that the representation of neutral words such as  \"doctor\", \"teacher\", \"manager\" gets neutralized and stops being associated to any gender. \n",
        "\n",
        "Our implementation of the debiasing algorithm is based on the paper by Wang, et al. (2019), \"Double-Hard Debiasing: Tailoring Word-Embeddings for Gender Bias Mitigation\", where the authors improve the approach by Bolukbasy et al. by also tackling the fact that frequencies of words within texts can also determine closeness to other words and can add noise to the gender component. It is worth noting that this algorithm is a \"hard-debiasing\" algorithm, which means that the gender component of the embeddings is removed completely. Other –softer– methods isolate it without removing it, to access it in case of need. \n",
        "\n",
        "In the following section, we'll explain each step of the Double-Hard Debiasing algorithm as developed by Wang. et al. We also use the implementation by Hassiah (2018) as inspiration. "
      ]
    },
    {
      "cell_type": "markdown",
      "source": [
        "### Dependencies\n",
        "\n",
        "As always, let's first start by downloading and importing the necessary dependencies. "
      ],
      "metadata": {
        "id": "ZmnxoPu-e3QH"
      }
    },
    {
      "cell_type": "code",
      "source": [
        "!pip install matplotlib numpy scikit-learn scipy tqdm\n",
        "!pip install  gensim==4.1.2"
      ],
      "metadata": {
        "colab": {
          "base_uri": "https://localhost:8080/"
        },
        "id": "_zEOwnxhe2ea",
        "outputId": "e06f240f-0b05-4b35-c99a-c9a4048d4015"
      },
      "execution_count": 1,
      "outputs": [
        {
          "output_type": "stream",
          "name": "stdout",
          "text": [
            "Looking in indexes: https://pypi.org/simple, https://us-python.pkg.dev/colab-wheels/public/simple/\n",
            "Requirement already satisfied: matplotlib in /usr/local/lib/python3.8/dist-packages (3.2.2)\n",
            "Requirement already satisfied: numpy in /usr/local/lib/python3.8/dist-packages (1.21.6)\n",
            "Requirement already satisfied: scikit-learn in /usr/local/lib/python3.8/dist-packages (1.0.2)\n",
            "Requirement already satisfied: scipy in /usr/local/lib/python3.8/dist-packages (1.7.3)\n",
            "Requirement already satisfied: tqdm in /usr/local/lib/python3.8/dist-packages (4.64.1)\n",
            "Requirement already satisfied: cycler>=0.10 in /usr/local/lib/python3.8/dist-packages (from matplotlib) (0.11.0)\n",
            "Requirement already satisfied: kiwisolver>=1.0.1 in /usr/local/lib/python3.8/dist-packages (from matplotlib) (1.4.4)\n",
            "Requirement already satisfied: pyparsing!=2.0.4,!=2.1.2,!=2.1.6,>=2.0.1 in /usr/local/lib/python3.8/dist-packages (from matplotlib) (3.0.9)\n",
            "Requirement already satisfied: python-dateutil>=2.1 in /usr/local/lib/python3.8/dist-packages (from matplotlib) (2.8.2)\n",
            "Requirement already satisfied: six>=1.5 in /usr/local/lib/python3.8/dist-packages (from python-dateutil>=2.1->matplotlib) (1.15.0)\n",
            "Requirement already satisfied: threadpoolctl>=2.0.0 in /usr/local/lib/python3.8/dist-packages (from scikit-learn) (3.1.0)\n",
            "Requirement already satisfied: joblib>=0.11 in /usr/local/lib/python3.8/dist-packages (from scikit-learn) (1.2.0)\n",
            "Looking in indexes: https://pypi.org/simple, https://us-python.pkg.dev/colab-wheels/public/simple/\n",
            "Collecting gensim==4.1.2\n",
            "  Downloading gensim-4.1.2-cp38-cp38-manylinux_2_12_x86_64.manylinux2010_x86_64.whl (24.1 MB)\n",
            "\u001b[K     |████████████████████████████████| 24.1 MB 5.8 MB/s \n",
            "\u001b[?25hRequirement already satisfied: smart-open>=1.8.1 in /usr/local/lib/python3.8/dist-packages (from gensim==4.1.2) (5.2.1)\n",
            "Requirement already satisfied: numpy>=1.17.0 in /usr/local/lib/python3.8/dist-packages (from gensim==4.1.2) (1.21.6)\n",
            "Requirement already satisfied: scipy>=0.18.1 in /usr/local/lib/python3.8/dist-packages (from gensim==4.1.2) (1.7.3)\n",
            "Installing collected packages: gensim\n",
            "  Attempting uninstall: gensim\n",
            "    Found existing installation: gensim 3.6.0\n",
            "    Uninstalling gensim-3.6.0:\n",
            "      Successfully uninstalled gensim-3.6.0\n",
            "Successfully installed gensim-4.1.2\n"
          ]
        }
      ]
    },
    {
      "cell_type": "code",
      "source": [
        "#importing the necessary packages\n",
        "import codecs\n",
        "import json\n",
        "import operator\n",
        "from typing import Dict, List, Tuple, Union\n",
        "import numpy as np\n",
        "import scipy\n",
        "import tqdm\n",
        "\n",
        "%load_ext autoreload\n",
        "%autoreload 2"
      ],
      "metadata": {
        "id": "4dJ57_Qye-7S"
      },
      "execution_count": 2,
      "outputs": []
    },
    {
      "cell_type": "markdown",
      "source": [
        "Since the algorithm can be computationally intensive, it is good to have GPU access. It can also run in CPU, though."
      ],
      "metadata": {
        "id": "do-m2juJeEaa"
      }
    },
    {
      "cell_type": "code",
      "source": [
        "import torch\n",
        "# Checks whether GPU is enabled\n",
        "device = torch.device(\"cuda:0\" if torch.cuda.is_available() else \"cpu\")\n",
        "print(\"Device: {}\".format(device))\n",
        "\n",
        "# Gets a specific GPU model\n",
        "if str(device) == \"cuda:0\":\n",
        "  print(\"GPU: {}\".format(torch.cuda.get_device_name(0)))"
      ],
      "metadata": {
        "colab": {
          "base_uri": "https://localhost:8080/"
        },
        "id": "tLgSUpyRe9E-",
        "outputId": "0fe3bd2e-8465-4ce2-ca83-7fea97e83f3a"
      },
      "execution_count": 3,
      "outputs": [
        {
          "output_type": "stream",
          "name": "stdout",
          "text": [
            "Device: cpu\n"
          ]
        }
      ]
    },
    {
      "cell_type": "markdown",
      "source": [
        "We also mount the Google Drive folder where all the code, models and files are hosted. "
      ],
      "metadata": {
        "id": "jSZ8bxlweHbe"
      }
    },
    {
      "cell_type": "code",
      "source": [
        "#Mounting the drive where all the necessary files are.\n",
        "from google.colab import drive\n",
        "drive.mount('/content/drive')"
      ],
      "metadata": {
        "colab": {
          "base_uri": "https://localhost:8080/"
        },
        "id": "UKm_Nb4UfIlA",
        "outputId": "6bc8fbb8-8d15-4492-c7d5-fbe9e3b66ce4"
      },
      "execution_count": 4,
      "outputs": [
        {
          "output_type": "stream",
          "name": "stdout",
          "text": [
            "Mounted at /content/drive\n"
          ]
        }
      ]
    },
    {
      "cell_type": "markdown",
      "source": [
        "### Preparation procedures: \n",
        "\n",
        "\n",
        "*   Preprocessing the embeddings\n",
        "*   Getting gendered vocabulary and excluding it from the embeddings\n",
        "*   Getting the gendered-pairs for the gender direction\n",
        "*   Getting the necessary functions to compute the bias of a word. "
      ],
      "metadata": {
        "id": "KSTHYZs2pytl"
      }
    },
    {
      "cell_type": "markdown",
      "source": [
        "#### Getting and preprocessing Glove Embeddings \n",
        "\n",
        "Nowadays it is easy to access different pretrained GloVe 300-dimensional embeddings. The *Double-Hard debiasing algorithm* needs to process them in such a way that we can access both words and vectors without losing other important information represented in the embeddings. To do so, we will use data structures such as lists and dictionaries to get the vocabulary, vectors and indices stored in the emdeddings. \n",
        "\n",
        "Let's start at the beginning: "
      ],
      "metadata": {
        "id": "S8G5XkxifKfa"
      }
    },
    {
      "cell_type": "markdown",
      "source": [
        "We use Gensim to get the 300-dimensional embeddings trained on Wikipedia. "
      ],
      "metadata": {
        "id": "EHIJmEGcf1VL"
      }
    },
    {
      "cell_type": "code",
      "source": [
        "#Downloading the glove embeddings from gensim\n",
        "import gensim.downloader\n",
        "from gensim.scripts.glove2word2vec import glove2word2vec\n",
        "from gensim.models.keyedvectors import KeyedVectors\n",
        "\n",
        "glove_model = gensim.downloader.load('glove-wiki-gigaword-300')\n",
        "# Stores the weigths on a separate variable\n",
        "glove_weights = torch.FloatTensor(glove_model.vectors)"
      ],
      "metadata": {
        "id": "_H-gruMogppD",
        "outputId": "7f5c5b7c-d0d0-4ad3-f593-c4d5996d5596",
        "colab": {
          "base_uri": "https://localhost:8080/"
        }
      },
      "execution_count": 5,
      "outputs": [
        {
          "output_type": "stream",
          "name": "stdout",
          "text": [
            "[==================================================] 100.0% 376.1/376.1MB downloaded\n"
          ]
        }
      ]
    },
    {
      "cell_type": "markdown",
      "source": [
        "From the gensim model object that we created with the embeddings, we get the vocabulary (as a list), the vectors (list of arrays) and the words with their respective indices (dictionary, word: index)."
      ],
      "metadata": {
        "id": "_azM6djggUlc"
      }
    },
    {
      "cell_type": "code",
      "source": [
        "#Getting the vocabulary list, array of vectors per word and indices (word2idx)\n",
        "vocab=glove_model.index_to_key #list\n",
        "vectors=glove_model.vectors #list of arrays\n",
        "word2idx = {word: idx for idx, word in enumerate(vocab)} #dictionary: word, index\n",
        "print(f\"vectors shape: {vectors.shape}, word2idx length: {len(word2idx)}, vocab length: {len(vocab)}\")\n"
      ],
      "metadata": {
        "colab": {
          "base_uri": "https://localhost:8080/"
        },
        "id": "zgupAG-egs5J",
        "outputId": "5494811d-94f0-46e2-b27f-26fe08845209"
      },
      "execution_count": 6,
      "outputs": [
        {
          "output_type": "stream",
          "name": "stdout",
          "text": [
            "vectors shape: (400000, 300), word2idx length: 400000, vocab length: 400000\n"
          ]
        }
      ]
    },
    {
      "cell_type": "markdown",
      "source": [
        "We also create a dictionary word-vector, so that we can more easily access the vector corresponding to each word."
      ],
      "metadata": {
        "id": "fOQVfjgsg6Kn"
      }
    },
    {
      "cell_type": "code",
      "source": [
        "#Creating a dictionary to access the embeddings with word as key and vectors as values\n",
        "dict_glove = dict({})\n",
        "for idx, key in enumerate(glove_model.key_to_index):\n",
        "    dict_glove[key] = glove_model[key]"
      ],
      "metadata": {
        "id": "1lbhB_aDguz7"
      },
      "execution_count": 7,
      "outputs": []
    },
    {
      "cell_type": "markdown",
      "source": [
        "#### Loading female and male biased vocabulary\n",
        "Following [Wang et al.'s](https://github.com/uvavision/Double-Hard-Debias/blob/master/GloVe_Debias.ipynb) implementation of Double-Hard Debias algorithm, we upload some gender-specific words. We use here the original files that the authors use and thank them for making the files public. "
      ],
      "metadata": {
        "id": "JxMLScVthFW3"
      }
    },
    {
      "cell_type": "code",
      "source": [
        "# Getting female and male biased vocabulary from Wang et al.'s datafiles. \n",
        "# Creating a list of gender_specific words.\n",
        "\n",
        "with open('/content/drive/MyDrive/Deep Learning/dataDoubleHard/male_word_file.txt') as f:\n",
        "    gender_specific = [line.strip() for line in f]\n",
        "\n",
        "with open('/content/drive/MyDrive/Deep Learning/dataDoubleHard/female_word_file.txt') as f:\n",
        "    for l in f:\n",
        "        gender_specific.append(l.strip())\n",
        "\n",
        "with codecs.open('/content/drive/MyDrive/Deep Learning/dataDoubleHard/gender_specific_full.json') as f:\n",
        "    gender_specific.extend(json.load(f))"
      ],
      "metadata": {
        "id": "0MDg6C1FhLjc"
      },
      "execution_count": 8,
      "outputs": []
    },
    {
      "cell_type": "markdown",
      "source": [
        "#### Excluding the gender specific words from the vocabulary\n",
        "With this we hope to get the neutral words. This follows the approach of Bolukbasy et al. where all words that are not specifically gendered should be neutral, and not lean towards any side of the gender-continuum. \n",
        "\n",
        "In what follows we adapt the functions of Wang et al. to our use case, using a functional rather than object-oriented approach. "
      ],
      "metadata": {
        "id": "x20I5X-LhZCZ"
      }
    },
    {
      "cell_type": "code",
      "source": [
        "## Definition of functions that identify characters in the embeddings (digit-words, puntuation marks, etc)\n",
        "from tqdm import tqdm\n",
        "import string \n",
        "\n",
        "#Identifies punctuation\n",
        "def has_punct(w):\n",
        "    \"\"\"\n",
        "    Determines whether a word has punctuation marks\n",
        "\n",
        "    \"\"\"\n",
        "    if any([c in string.punctuation for c in w]):\n",
        "        return True\n",
        "    return False\n",
        "\n",
        "#Identifies digits from the embeddings\n",
        "def has_digit(w):\n",
        "    \"\"\"\n",
        "    Determines whether a word has any digits\n",
        "\n",
        "    \"\"\"\n",
        "    if any([c in '0123456789' for c in w]):\n",
        "        return True\n",
        "    return False\n",
        "\n",
        "## Removes gendered words from the vocabulary \n",
        "## With this, we obtain a limited_vocabulary that has only the non-gendered words. \n",
        "## The function was used in the original paper only limited the first 50000 words from the vocabulary, we removed the \n",
        "## gendered words from all the words in the embeddings \n",
        "def limit_vocab(word_vector, word_index, vocab, exclude = None):\n",
        "    \"\"\"\n",
        "    Limits the vocabulary by excluding specific words that are taken as parameters.\n",
        "    Returns the limited vectors, vocabulary and word indexes dictionary.\n",
        "\n",
        "    \"\"\"\n",
        "    vocab_limited = []\n",
        "    # Ignores words with punctiations, digits, hyphens, etc. \n",
        "    for word in tqdm(vocab[:400000]): \n",
        "        if word.lower() != word :\n",
        "            continue\n",
        "        if len(word) >= 20: \n",
        "            continue\n",
        "        if has_digit(word) | has_punct(word): \n",
        "            continue\n",
        "        if '_' in word:\n",
        "            p = [has_punct(subw) for subw in word.split('_')]\n",
        "            if not any(p):\n",
        "                vocab_limited.append(word)\n",
        "            continue\n",
        "        vocab_limited.append(word)\n",
        "    \n",
        "    #Excludes the words that are received as parameters\n",
        "    if exclude:\n",
        "        vocab_limited = list(set(vocab_limited) - set(exclude))\n",
        "    \n",
        "    print(\"Size of limited vocabulary:\", len(vocab_limited))\n",
        "    \n",
        "    # Finds the vectors corresponding to the limited vocabulary\n",
        "    wordvectors_limited = np.zeros((len(vocab_limited), len(word_vector[0, :])))\n",
        "    for index,word in enumerate(vocab_limited):\n",
        "        wordvectors_limited[index,:] = word_vector[word_index[word],:]\n",
        "    #Creates a word to index dictionary of the limited vocabulary\n",
        "    w2i_limited = {word: index for index, word in enumerate(vocab_limited)}\n",
        "    \n",
        "    return vocab_limited, wordvectors_limited, w2i_limited"
      ],
      "metadata": {
        "id": "R7t8jHCchbTk"
      },
      "execution_count": 9,
      "outputs": []
    },
    {
      "cell_type": "code",
      "source": [
        "# Using the function to remove gendered words from the embeddings.\n",
        "vocab_limited, vectors_limited, word2idx_limited = limit_vocab(vectors, word2idx, vocab, exclude = gender_specific)"
      ],
      "metadata": {
        "colab": {
          "base_uri": "https://localhost:8080/"
        },
        "id": "lDisIiZyhfcu",
        "outputId": "6c3a5b0f-833c-4991-fc12-11e031b532a1"
      },
      "execution_count": 10,
      "outputs": [
        {
          "output_type": "stream",
          "name": "stderr",
          "text": [
            "100%|██████████| 400000/400000 [00:01<00:00, 243462.80it/s]\n"
          ]
        },
        {
          "output_type": "stream",
          "name": "stdout",
          "text": [
            "Size of limited vocabulary: 326614\n"
          ]
        }
      ]
    },
    {
      "cell_type": "markdown",
      "source": [
        "#### Getting gendered pairs to calculate the gender direction\n",
        "\n",
        "These pairs were used in the Bolukbasy paper to calculate the gender direction of English embeddings. We use them in the same format as the authors did. "
      ],
      "metadata": {
        "id": "fD-TePMey8B_"
      }
    },
    {
      "cell_type": "code",
      "source": [
        "#Getting the gendered pairs to calculate afterwards the gender direction \n",
        "gendered_pairs = [\n",
        "    ['she', 'he'], ['herself', 'himself'], ['her', 'his'], ['daughter', 'son'], ['girl', 'boy'], ['mother', 'father'], \n",
        "    ['woman', 'man'], ['mary', 'john'], ['gal', 'guy'], ['female', 'male']]\n",
        "\n",
        "# Turning the pairs into a list of words for validation purposes.\n",
        "gendered_words=[]\n",
        "for pair in gendered_pairs: \n",
        "  for word in pair: \n",
        "    gendered_words.append(word)"
      ],
      "metadata": {
        "id": "-VNOa4klhivA"
      },
      "execution_count": 11,
      "outputs": []
    },
    {
      "cell_type": "markdown",
      "source": [
        "#### Functions to compute gender bias of a word"
      ],
      "metadata": {
        "id": "asBSMwqLhx4T"
      }
    },
    {
      "cell_type": "markdown",
      "source": [
        "##### Cosine similarity.\n",
        "As we studied in class, cosine similarity measures how close or similar two vectors are. Vectors are similar when the angle between them is close to 0 (and therefore the cosine value is close to 1)."
      ],
      "metadata": {
        "id": "HMhV3yjWh0Tw"
      }
    },
    {
      "cell_type": "code",
      "source": [
        "from numpy.linalg import norm\n",
        "\n",
        "#Function to measure the similarity between to vectors.\n",
        "def cosine_similarity(vector_1, vector_2):\n",
        "    \"\"\"\n",
        "    Calculates cosine similarity of two vectors. \n",
        "    Cosine Similarity measures the similarity of two word vectors. \n",
        "        Ie. vectors are similar when the angle between them is close to 0 (cosine close to 1).\n",
        "\n",
        "    \"\"\"\n",
        "    dot_product=np.dot(vector_1,vector_2)\n",
        "    norm_product=np.linalg.norm(vector_1)*np.linalg.norm(vector_2)\n",
        "    cosine_similarity = dot_product/norm_product\n",
        "    \n",
        "    return cosine_similarity"
      ],
      "metadata": {
        "id": "T3EJhr12h39d"
      },
      "execution_count": 12,
      "outputs": []
    },
    {
      "cell_type": "code",
      "source": [
        "#Validation with specific examples. \n",
        "print(\"cosine similarity of pretty, pretty: \", cosine_similarity(dict_glove[\"pretty\"], dict_glove[\"pretty\"]))\n",
        "print(\"cosine similarity of mother, father: \", cosine_similarity(dict_glove[\"mother\"], dict_glove[\"father\"]))\n",
        "print(\"cosine similarity of tall, short: \", cosine_similarity(dict_glove[\"tall\"], dict_glove[\"short\"]))"
      ],
      "metadata": {
        "colab": {
          "base_uri": "https://localhost:8080/"
        },
        "id": "iA-WPIjEiDb7",
        "outputId": "f9ae297c-06a3-4bfc-d611-c6150981bed7"
      },
      "execution_count": 13,
      "outputs": [
        {
          "output_type": "stream",
          "name": "stdout",
          "text": [
            "cosine similarity of pretty, pretty:  1.0\n",
            "cosine similarity of mother, father:  0.7568217\n",
            "cosine similarity of tall, short:  0.32517698\n"
          ]
        }
      ]
    },
    {
      "cell_type": "markdown",
      "source": [
        "##### Computing the bias of a word\n",
        "Gender bias of a word can be calculated as a substraction: the word's similarity to `he` word embedding \"minus\" the word's similarity to `she` word embedding. With this we get the following measures of bias: \n",
        "- if the word has no bias (gender neutral words) then its gender bias would be zero. \n",
        "- If it is more masculine, then its gender bias would be positive\n",
        "- If it is more feminine, then its gender bias would be negative\n",
        "\n",
        "The following function calculates the bias of a word: "
      ],
      "metadata": {
        "id": "aBpMEKT1iH_k"
      }
    },
    {
      "cell_type": "code",
      "source": [
        "# Function to compute the gender bias of a word. \n",
        "def compute_bias(word_vector, index, vocabulary, he_embedding, she_embedding):\n",
        "    \"\"\"\n",
        "    Compute the gender bias of each word as the difference between the cosine similarities with the \"he\" and \"she\" embeddings\n",
        "    Outputs a dictionary with words as keys and gender bias as values\n",
        "    \"\"\"\n",
        "    gender_bias = {}\n",
        "    for word in vocabulary:\n",
        "        vector = word_vector[index[word]]\n",
        "        gender_bias[word] = cosine_similarity(vector, he_embedding) - cosine_similarity(vector, she_embedding)\n",
        "    return gender_bias"
      ],
      "metadata": {
        "id": "WG5PkF5tiSnl"
      },
      "execution_count": 14,
      "outputs": []
    },
    {
      "cell_type": "code",
      "source": [
        "# To compute the gender bias, we need to get the embeddings of \"he\" and \"she\"\n",
        "he_embed = vectors[word2idx['he']]\n",
        "she_embed = vectors[word2idx['she']]\n",
        "\n",
        "# Using the gender bias function to compute the bias of all the words in the limited dataset (which contains the words that are supposed to be neutral)\n",
        "#We create a dictionary with the word as key and the bias as value\n",
        "gender_bias_original = compute_bias(vectors_limited,word2idx_limited, vocab_limited, he_embed, she_embed)"
      ],
      "metadata": {
        "id": "HhbCD5g5iU87"
      },
      "execution_count": 15,
      "outputs": []
    },
    {
      "cell_type": "code",
      "source": [
        "#Testing the gender-bias algorithm on a few words. \n",
        "#Thanks to @jmyao17 for the base list, which we augmented and validated on this exercise.\n",
        "print('Other words and their similarities:')\n",
        "words= ['lipstick', 'guns', 'science', 'arts', 'literature', 'warrior','doctor', 'tree', 'receptionist', \n",
        "             'technology',  'fashion', 'teacher', 'engineer', 'pilot', 'computer', 'singer', 'manager', 'homemaker']\n",
        "count=0\n",
        "for word in words:\n",
        "  if word not in gendered_words:\n",
        "    print(f\"Score for '{word}' in original embeddings:\", gender_bias_original[word])\n",
        "    count+=1\n"
      ],
      "metadata": {
        "colab": {
          "base_uri": "https://localhost:8080/"
        },
        "id": "0C_XBkLDiXhx",
        "outputId": "62afa79b-248a-47c0-a64b-f3e57299c617"
      },
      "execution_count": 16,
      "outputs": [
        {
          "output_type": "stream",
          "name": "stdout",
          "text": [
            "Other words and their similarities:\n",
            "Score for 'lipstick' in original embeddings: -0.20701732364065234\n",
            "Score for 'guns' in original embeddings: -0.007202808085716217\n",
            "Score for 'science' in original embeddings: 0.05747010930959373\n",
            "Score for 'arts' in original embeddings: -0.002059538248545767\n",
            "Score for 'literature' in original embeddings: 0.005329373681541294\n",
            "Score for 'warrior' in original embeddings: -0.054117263222540665\n",
            "Score for 'doctor' in original embeddings: -0.0038349633118061055\n",
            "Score for 'tree' in original embeddings: -0.03015877756800217\n",
            "Score for 'receptionist' in original embeddings: -0.1694939112720635\n",
            "Score for 'technology' in original embeddings: 0.09054202441188455\n",
            "Score for 'fashion' in original embeddings: -0.14799247344754451\n",
            "Score for 'teacher' in original embeddings: -0.04303611885177494\n",
            "Score for 'engineer' in original embeddings: 0.1435491729142003\n",
            "Score for 'pilot' in original embeddings: 0.04254437336120695\n",
            "Score for 'computer' in original embeddings: 0.05758040621618102\n",
            "Score for 'singer' in original embeddings: -0.14782127429677047\n",
            "Score for 'manager' in original embeddings: 0.13529132111493192\n",
            "Score for 'homemaker' in original embeddings: -0.20446101834574587\n"
          ]
        }
      ]
    },
    {
      "cell_type": "markdown",
      "source": [
        "There are some words, such as: \"lipstick\", \"homemaker\" and \"receptionist\", that are more feminine than \"technology\", \"engineer\", \"manager\", following western societal biases. Interestingly enough, \"tree\" and \"warrior\" and  seem to be more \"feminine\", while \"doctor\",\"guns\",\"literature\",\"arts\" appear to be very close to zero. "
      ],
      "metadata": {
        "id": "_sNicrFQ1uFF"
      }
    },
    {
      "cell_type": "markdown",
      "source": [
        "### Hard Debiasing of GloVe embeddings\n",
        "We use the Double-Hard debiasing algorithm proposed by Wang et al. in 2020. It is an improvement of the Hard-Debiasing algorithm proposed in Homemaker paper by Bolukbasy et al. Besides applying post-processing procedures to remove the gender ‘direction’ of the embeddings, this algorithm also takes care of word-frequencies that can act as harmful noise, preventing the algorithm from correctly identifying the “gender direction”.\n",
        "\n",
        "In the following four sections we define the functions that will be used to debias the embeddings. \n"
      ],
      "metadata": {
        "id": "xdb2BXV_iaig"
      }
    },
    {
      "cell_type": "markdown",
      "source": [
        "#### Identifying the 'gender direction' or 'gender subspace' in the embeddings\n",
        "To find the direction of the gender subspace, we use PCA. This methods allows us to get where the majority of of the variation of the gendered pairs happened. This direction will be our \"gender subspace\"."
      ],
      "metadata": {
        "id": "M557b4l-ig-r"
      }
    },
    {
      "cell_type": "code",
      "source": [
        "from sklearn.decomposition import PCA\n",
        "\n",
        "# Performs PCA to identify the principal components of gendered words\n",
        "def perform_PCA_gender_pairs(gender_pairs, word_vectors, word2index):\n",
        "    \"\"\"\n",
        "    Performs PCA on the difference of gendered word vectors in a pair.\n",
        "\n",
        "    \"\"\" \n",
        "    vector_matrix = []\n",
        "    count = 0\n",
        "    \n",
        "    if type(gender_pairs[0]) is list: #If input is list\n",
        "        \n",
        "        for feminine_word, masculine_word in gender_pairs:\n",
        "            #Ignoring words that are not in the embeddings.\n",
        "            if not (feminine_word in word2index and masculine_word in word2index): \n",
        "              continue\n",
        "\n",
        "            #Centering the gendered-vectors\n",
        "            center = (word_vectors[word2index[feminine_word], :] + word_vectors[word2index[masculine_word], :])/2\n",
        "            vector_matrix.append(word_vectors[word2index[feminine_word], :] - center)\n",
        "            vector_matrix.append(word_vectors[word2index[masculine_word], :] - center)\n",
        "            count += 1\n",
        "            \n",
        "    else:#if input not a list, append the word to the vector matrix.\n",
        "        for word in gender_pairs:\n",
        "            if not (word in word2index):\n",
        "               continue\n",
        "            vector_matrix.append(word_vectors[word2index[word], :])\n",
        "            count += 1\n",
        "        \n",
        "        embeddings = np.array(vector_matrix)\n",
        "        vectors_mean = np.mean(np.array(embeddings), axis=0)\n",
        "        wv_hat = np.zeros(embeddings.shape).astype(float)\n",
        "        #Mean-correcting the gendered pairs to calculate PCA with the covariance matrix.\n",
        "        for i in range(len(embeddings)):\n",
        "            wv_hat[i, :] = embeddings[i, :] - vectors_mean\n",
        "        vector_matrix = wv_hat\n",
        "\n",
        "    #Performs PCA on the gendered-matrix to find the gender direction        \n",
        "    matrix = np.array(vector_matrix)\n",
        "    pca = PCA()\n",
        "    pca.fit(matrix)\n",
        "    print('pairs used in PCA: ', count)\n",
        "    return pca\n"
      ],
      "metadata": {
        "id": "FzdDyJ9Xi8ax"
      },
      "execution_count": 17,
      "outputs": []
    },
    {
      "cell_type": "code",
      "source": [
        "#Use the PCA function to find the gender directions of the gendered pairs\n",
        "def find_gender_direction(gender_pairs, word_vectors, word2index_partial): \n",
        "  \"\"\"\n",
        "  Uses PCA to find the gender directions of the gendered pair vectors in the space.\n",
        "\n",
        "  \"\"\"\n",
        "  gender_directions = list()\n",
        "  for gender_word_list in [gender_pairs]:\n",
        "      gender_directions.append(perform_PCA_gender_pairs(gender_word_list, word_vectors, word2index_partial).components_[0])\n",
        "  return gender_directions"
      ],
      "metadata": {
        "id": "s5M2vmPGi-Y0"
      },
      "execution_count": 18,
      "outputs": []
    },
    {
      "cell_type": "markdown",
      "source": [
        "#### Neutralizing gender words\n",
        "After finding the gendered direction, we need to remove the projection of neutral words in the gender subspace. After doing this, we get ortoghonal vectors to the gender subspace that are neutralized because they are no longer leaning towards the gender direction. "
      ],
      "metadata": {
        "id": "kiGIgZZAjAxr"
      }
    },
    {
      "cell_type": "code",
      "source": [
        "#Remove vector projections\n",
        "def remove_vector_projection(vector1, vector2):\n",
        "   \"\"\"\n",
        "   Removes the projection of vector 1 on vector 2\n",
        "\n",
        "   \"\"\"\n",
        "   difference = vector1 - vector2 * vector1.dot(vector2) / vector2.dot(vector2)\n",
        "   return difference"
      ],
      "metadata": {
        "id": "GR9PWVu6jD39"
      },
      "execution_count": 19,
      "outputs": []
    },
    {
      "cell_type": "code",
      "source": [
        "#Remove the gender component through the removing vector projection function.\n",
        "def remove_gender_component(vocab_partial, vectors, w2i_partial, gender_directions): \n",
        "    \"\"\"\n",
        "    Removes the gender projection of the vectors to neutralize them\n",
        "\n",
        "    \"\"\"\n",
        "    debiased_vectors = np.zeros((len(vocab_partial), len(vectors[0, :]))).astype(float)\n",
        "    for i, w in enumerate(vocab_partial):\n",
        "        u = vectors[w2i_partial[w], :]\n",
        "        for gender_direction in gender_directions:\n",
        "            u = remove_vector_projection(u, gender_direction)\n",
        "            debiased_vectors[w2i_partial[w], :] = u\n",
        "    return debiased_vectors"
      ],
      "metadata": {
        "id": "tsLMInMvjE5K"
      },
      "execution_count": 20,
      "outputs": []
    },
    {
      "cell_type": "markdown",
      "source": [
        "#### Finding frequency direction\n",
        "\n",
        "Wang et al.s' contribution to embedding debiasing is concentrated on the fact that higher frequencies of words can influence how close they are to the gendered pairs: if computer and men are talked about more often, it is likely that they get closely in the embeddings. So according to Wang et al., if we don't take care of the frequency features, our debiasing algorithms might not get the gender direction right and might then have limited efficiency. \n",
        "\n",
        "The following functions find and remove the frequency features by also performing PCA but this time on all the vectors in the embeddings. "
      ],
      "metadata": {
        "id": "lYiHdn6ljmhY"
      }
    },
    {
      "cell_type": "code",
      "source": [
        "from sklearn.decomposition import PCA\n",
        "\n",
        "# get main PCA components on descentralized word embeddings\n",
        "def get_main_pca_all(word_vectors):\n",
        "    \"\"\"\n",
        "    performs PCA on all vectors received as parameters\n",
        "\n",
        "    \"\"\"\n",
        "    #Mean-correcting the gendered pairs to calculate PCA with the covariance matrix.\n",
        "    word_vectors_mean = np.mean(np.array(word_vectors), axis=0)\n",
        "    word_vectors_hat = np.zeros(word_vectors.shape).astype(float)\n",
        "\n",
        "    for i in range(len(word_vectors)):\n",
        "        word_vectors_hat[i, :] = word_vectors[i, :] - word_vectors_mean\n",
        "\n",
        "    main_pca = PCA()\n",
        "    main_pca.fit(word_vectors_hat)\n",
        "    \n",
        "    return main_pca\n"
      ],
      "metadata": {
        "id": "25fmS2Qmjt-7"
      },
      "execution_count": 21,
      "outputs": []
    },
    {
      "cell_type": "code",
      "source": [
        "#Function to remove the frequency features. We obtain a new version of embeddings without the frequency component.\n",
        "def remove_frequency_features(vocab_partial, word_vectors, word2index, word2index_partial, component_ids): \n",
        "  \"\"\"\n",
        "  Removes frequency features by substracting the projection on the most frequent words space\n",
        "\n",
        "  \"\"\"\n",
        "  components=[]\n",
        "  for i in component_ids:\n",
        "    components.append(main_pca.components_[i])\n",
        "  \n",
        "  word_vec_frequency = np.zeros((len(vocab_partial), word_vectors.shape[1])).astype(float)\n",
        "  \n",
        "  for i, word in enumerate(vocab_partial):\n",
        "    vector = word_vectors[word2index[word],:]\n",
        "    proj = np.zeros(vector.shape).astype(float)\n",
        "        # removes the component of vector in the direction of principal_component\n",
        "    for principal_component in components:\n",
        "        proj += np.dot(np.dot(np.transpose(principal_component), vector), principal_component)\n",
        "    word_vec_frequency[word2index_partial[word], :] = word_vectors[word2index[word], :] - proj -vectors_mean\n",
        "                                                                                                                                                                                                                                                                                                                                                   \n",
        "  return word_vec_frequency"
      ],
      "metadata": {
        "id": "tUg4Wmrejxn4"
      },
      "execution_count": 22,
      "outputs": []
    },
    {
      "cell_type": "markdown",
      "source": [
        "#### Double-Hard debiasing function\n",
        "\n",
        "Following Wang et al., we remove the frequency features from the embeddings before neutralizing them by removing the gender projection. "
      ],
      "metadata": {
        "id": "36ky8K9XDd-k"
      }
    },
    {
      "cell_type": "code",
      "source": [
        "#Hard debiasing function\n",
        "def hard_debias(wv, w2i, w2i_partial, vocab_partial, component_ids):\n",
        "    \"\"\"\n",
        "    Function that performs the Double-Hard debiasing. It does this in three steps: \n",
        "    1. Removing the frequency features\n",
        "    2. Identifying the gendered directions\n",
        "    3. Removing the gender component from the embeddings. \n",
        "\n",
        "    \"\"\"\n",
        "    # get rid of frequency features\n",
        "    wv_f= remove_frequency_features(vocab_partial, wv, w2i, w2i_partial, component_ids)\n",
        "        \n",
        "    # debiasing: \n",
        "    # 1. finding the gender direction\n",
        "    gender_directions=find_gender_direction(gendered_pairs, wv_f, w2i_partial)\n",
        "    # 2. Removing the gender projection. \n",
        "    wv_debiased=remove_gender_component(vocab_partial, wv_f, w2i_partial, gender_directions) \n",
        "        \n",
        "    return wv_debiased"
      ],
      "metadata": {
        "id": "zZo6N4gJj1I-"
      },
      "execution_count": 23,
      "outputs": []
    },
    {
      "cell_type": "markdown",
      "source": [
        "##### Find the optimal frequency direction\n",
        "Finally, to he able to use the double-hard debiasing algorithm, we need to find the optimal direction for the debiasing. This is done by performing K-Mean clustering and finding the allignment that is closer to the ground truth (as provided by the female and male words uploaded at the beginning)."
      ],
      "metadata": {
        "id": "763DrcPKkACF"
      }
    },
    {
      "cell_type": "code",
      "source": [
        "#Gets embeddings\n",
        "def extract_vectors(words, word_vectors, word2index):\n",
        "    \"\"\"\n",
        "    Gets the GloVe vectors of the words passed as parameter.\n",
        "\n",
        "    \"\"\"\n",
        "    X = [word_vectors[word2index[x],:] for x in words]\n",
        "    \n",
        "    return X\n"
      ],
      "metadata": {
        "id": "ql5Qg_ZBkCco"
      },
      "execution_count": 24,
      "outputs": []
    },
    {
      "cell_type": "code",
      "source": [
        "from sklearn.cluster import KMeans\n",
        "#evaluates embeddings with respect to ground truth\n",
        "def cluster_and_evaluate(words, X, random_state, y_true, num=2):\n",
        "    \"\"\"\n",
        "    Uses the K-Means algorithm to cluster selected words and computing the alignment between them and the ground truth\n",
        "\n",
        "    \"\"\"\n",
        "    kmeans = KMeans(n_clusters=num, random_state=random_state).fit(X)\n",
        "    y_pred = kmeans.predict(X)\n",
        "    correct = [1 if item1 == item2 else 0 for (item1,item2) in zip(y_true, y_pred) ]\n",
        "    alignment = sum(correct)/float(len(correct))\n",
        "    max_alignment = max(alignment, 1 - alignment)\n",
        "   \n",
        "    print(f'Alignment: {max_alignment}')\n",
        "    \n",
        "    return kmeans, y_pred, X, max_alignment\n"
      ],
      "metadata": {
        "id": "gKdmgYPBkMRg"
      },
      "execution_count": 25,
      "outputs": []
    },
    {
      "cell_type": "code",
      "source": [
        "#Function to get the optimal debiasing direction\n",
        "def getting_optimal_direction(vectors, word2idx, w2i_partial, vocab_partial, male_words, female_words):\n",
        "  \"\"\"\n",
        "  Determine the optimal frequency alignment for the debiasing: \n",
        "  A value close to 1 indicates stronger bias, whereas a value close to 0.5 indicates perfect debiasing. \n",
        "\n",
        "  \"\"\"\n",
        "  alignments = []\n",
        "\n",
        "  for component_id in range(20):\n",
        "      print(f'Component: {component_id}', end=', ')\n",
        "      wv_debiased = hard_debias(vectors, word2idx, w2i_partial, vocab_partial, component_ids = [component_id])\n",
        "      _, _, _, alignment = cluster_and_evaluate(male_words + female_words, \n",
        "                                           extract_vectors(male_words + female_words, wv_debiased, w2i_partial), 1, y_true)\n",
        "      alignments.append(alignment)\n",
        "   \n",
        "  optimal_frequency_direction = alignments.index(min(alignments))\n",
        "  return alignments, optimal_frequency_direction"
      ],
      "metadata": {
        "id": "SDhfDnA7FyLu"
      },
      "execution_count": 26,
      "outputs": []
    },
    {
      "cell_type": "markdown",
      "source": [
        "### Finally! Putting everything together: Using the Double-Hard Debiasing algorithm"
      ],
      "metadata": {
        "id": "jm0hc1jKj6jP"
      }
    },
    {
      "cell_type": "markdown",
      "source": [
        "So we are going to use of the functions defined above to find the optimal direction for debiasing (i.e. the most gender-neutral direction) after removing the frequency features from our embeddings."
      ],
      "metadata": {
        "id": "kpb9j6tnF90L"
      }
    },
    {
      "cell_type": "code",
      "source": [
        "#Find the main principal components of all vectors for the frequency features removal\n",
        "main_pca = get_main_pca_all(vectors)\n",
        "vectors_mean = np.mean(np.array(vectors), axis=0)\n"
      ],
      "metadata": {
        "id": "O8aC8jXNjv-V"
      },
      "execution_count": 27,
      "outputs": []
    },
    {
      "cell_type": "code",
      "source": [
        "#Getting the gendered words ready to get the ground truth and the optimal direction for debiasing\n",
        "# Sorting gender_bias_original in the ascending order so that all the female biased words will be at the start and\n",
        "# all the male biased words will be at the end.\n",
        "biased_words_sorted = sorted(gender_bias_original.items(), key=operator.itemgetter(1))\n",
        "\n",
        "# We take 1000 male and 1000 female biased words, following Hassiakh's approach\n",
        "size = 1000\n",
        "female_words = [word for word, bias in biased_words_sorted[:size]]\n",
        "male_words = [word for word, bias in biased_words_sorted[-size:]]\n",
        "\n",
        "#Getting the ground truth: first 1000 words are female, the last are male\n",
        "y_true = [1]*size + [0]*size\n"
      ],
      "metadata": {
        "id": "vuY6SAE2kRXg"
      },
      "execution_count": 28,
      "outputs": []
    },
    {
      "cell_type": "code",
      "source": [
        "#Getting the limited vocabulary of gendered words. \n",
        "g_vocab = list(set(male_words + female_words + [word for word in gendered_words if word in word2idx]))\n",
        "g_w2i = dict()\n",
        "for idx, w in enumerate(g_vocab):\n",
        "    g_w2i[w] = idx\n",
        "\n",
        "#Finding the more neutral direction to debiase the embeddings. \n",
        "alignments, optimal_direction=getting_optimal_direction(vectors, word2idx, g_w2i, g_vocab, male_words, female_words)"
      ],
      "metadata": {
        "id": "exAmGj2_kg2h",
        "colab": {
          "base_uri": "https://localhost:8080/"
        },
        "outputId": "29211ceb-3e18-4457-f153-75f43d1ad790"
      },
      "execution_count": 29,
      "outputs": [
        {
          "output_type": "stream",
          "name": "stdout",
          "text": [
            "Component: 0, pairs used in PCA:  10\n",
            "Alignment: 0.6445\n",
            "Component: 1, pairs used in PCA:  10\n",
            "Alignment: 0.7125\n",
            "Component: 2, pairs used in PCA:  10\n",
            "Alignment: 0.7105\n",
            "Component: 3, pairs used in PCA:  10\n",
            "Alignment: 0.7055\n",
            "Component: 4, pairs used in PCA:  10\n",
            "Alignment: 0.7125\n",
            "Component: 5, pairs used in PCA:  10\n",
            "Alignment: 0.706\n",
            "Component: 6, pairs used in PCA:  10\n",
            "Alignment: 0.7085\n",
            "Component: 7, pairs used in PCA:  10\n",
            "Alignment: 0.7085\n",
            "Component: 8, pairs used in PCA:  10\n",
            "Alignment: 0.7110000000000001\n",
            "Component: 9, pairs used in PCA:  10\n",
            "Alignment: 0.7125\n",
            "Component: 10, pairs used in PCA:  10\n",
            "Alignment: 0.714\n",
            "Component: 11, pairs used in PCA:  10\n",
            "Alignment: 0.7085\n",
            "Component: 12, pairs used in PCA:  10\n",
            "Alignment: 0.7075\n",
            "Component: 13, pairs used in PCA:  10\n",
            "Alignment: 0.7090000000000001\n",
            "Component: 14, pairs used in PCA:  10\n",
            "Alignment: 0.7085\n",
            "Component: 15, pairs used in PCA:  10\n",
            "Alignment: 0.7115\n",
            "Component: 16, pairs used in PCA:  10\n",
            "Alignment: 0.7065\n",
            "Component: 17, pairs used in PCA:  10\n",
            "Alignment: 0.7070000000000001\n",
            "Component: 18, pairs used in PCA:  10\n",
            "Alignment: 0.7075\n",
            "Component: 19, pairs used in PCA:  10\n",
            "Alignment: 0.706\n"
          ]
        }
      ]
    },
    {
      "cell_type": "markdown",
      "source": [
        "##### Debiasing embeddings in the optimal direction."
      ],
      "metadata": {
        "id": "Sj0k_GZHkxVE"
      }
    },
    {
      "cell_type": "code",
      "source": [
        "#Using the hard debiasing algorithm in the optimal direction\n",
        "debiased_vectors= hard_debias(vectors, word2idx, word2idx, vocab, [optimal_direction])"
      ],
      "metadata": {
        "colab": {
          "base_uri": "https://localhost:8080/"
        },
        "id": "GKkdu_tsk3C8",
        "outputId": "915a4d1c-8532-4323-a06a-b862fa6dc0ca"
      },
      "execution_count": 30,
      "outputs": [
        {
          "output_type": "stream",
          "name": "stdout",
          "text": [
            "pairs used in PCA:  10\n"
          ]
        }
      ]
    },
    {
      "cell_type": "code",
      "source": [
        "#Making sure our debiased embeddings have the same shape as the original ones\n",
        "debiased_vectors.shape"
      ],
      "metadata": {
        "colab": {
          "base_uri": "https://localhost:8080/"
        },
        "id": "pWsVXQrNk6QZ",
        "outputId": "472017c2-9aee-499e-b632-7f6952acc0a0"
      },
      "execution_count": 31,
      "outputs": [
        {
          "output_type": "execute_result",
          "data": {
            "text/plain": [
              "(400000, 300)"
            ]
          },
          "metadata": {},
          "execution_count": 31
        }
      ]
    },
    {
      "cell_type": "markdown",
      "source": [
        "We did it! We got the 400.000 words in 300-dimensional vectors of the original embeddings. "
      ],
      "metadata": {
        "id": "nBU-ocCTHFWi"
      }
    },
    {
      "cell_type": "markdown",
      "source": [
        "### Saving debiased embeddings in a txt file\n",
        "\n",
        "It is always good to save the debiased embeddings for future use. "
      ],
      "metadata": {
        "id": "w1mBiKZsllWm"
      }
    },
    {
      "cell_type": "code",
      "source": [
        "#Saves embeddings in txt file. \n",
        "def save_embeddings_to_txt(word_vector: Union[np.array, List[List[float]]], vocabulary: List[str], file_path: str):\n",
        "    \"\"\"\n",
        "    Saves word embeddings to a txt file.\n",
        "    \"\"\"\n",
        "    with open(file_path, mode='wt', encoding='utf-8') as f:\n",
        "        for i, word_vec in enumerate(word_vector):\n",
        "            f.write(vocabulary[i] + ' ')\n",
        "            f.write(' '.join(str(vec) for vec in word_vec))\n",
        "            f.write('\\n')\n",
        "            \n",
        "#save_embeddings_to_txt(debiased_vectors, vocab, '/content/drive/MyDrive/Deep Learning/dataDoubleHard/glove_debiased_v2.txt')"
      ],
      "metadata": {
        "id": "u9lb9e_ulprM"
      },
      "execution_count": null,
      "outputs": []
    },
    {
      "cell_type": "markdown",
      "source": [
        "### Evaluation of the debiased embeddings\n",
        "\n",
        "But how do we know if our embeddings are actually de-biased? We will perform here two checks: \n",
        "- A qualitative evaluation that compares bias on original and debiased embeddings\n",
        "- A quantitative evaluation that uses K-means clustering to provide some insights into the debiasing results. "
      ],
      "metadata": {
        "id": "xRDInrXslA3W"
      }
    },
    {
      "cell_type": "markdown",
      "source": [
        "#### Qualitative evaluation: comparing bias\n",
        "As we did in the original embeddings, we will calculate the bias of the limited vocabulary of the gendered words"
      ],
      "metadata": {
        "id": "60tmTjbulEer"
      }
    },
    {
      "cell_type": "code",
      "source": [
        "#Limiting the vocabulary to non-gendered words in the debiased embeddings\n",
        "debiased_vocab_limited, debiased_vectors_limited, debiased_word2idx_limited = limit_vocab(debiased_vectors, word2idx, vocab, exclude = gender_specific)"
      ],
      "metadata": {
        "colab": {
          "base_uri": "https://localhost:8080/"
        },
        "id": "a1LjtQBhKfeH",
        "outputId": "9d31165a-f22a-4c7b-d80c-498970c332b6"
      },
      "execution_count": 32,
      "outputs": [
        {
          "output_type": "stream",
          "name": "stderr",
          "text": [
            "100%|██████████| 400000/400000 [00:01<00:00, 237301.73it/s]\n"
          ]
        },
        {
          "output_type": "stream",
          "name": "stdout",
          "text": [
            "Size of limited vocabulary: 326614\n"
          ]
        }
      ]
    },
    {
      "cell_type": "code",
      "source": [
        "# Finding gender bias of non-gendereed words in the debiased embeddings\n",
        "# If this gender bias is > 0 then the word is biased towards male and if < 0 then biased towards female.\n",
        "gender_debiased = compute_bias(debiased_vectors_limited, debiased_word2idx_limited, debiased_vocab_limited, he_embed, she_embed)"
      ],
      "metadata": {
        "id": "8cqCM6UXlJEl"
      },
      "execution_count": 33,
      "outputs": []
    },
    {
      "cell_type": "code",
      "source": [
        "#Testing the algorithm on the same words as before\n",
        "print('Other words and their similarities:')\n",
        "words= ['lipstick', 'guns', 'science', 'arts', 'literature', 'warrior','doctor', 'tree', 'receptionist', \n",
        "             'technology',  'fashion', 'teacher', 'engineer', 'pilot', 'computer', 'singer', 'homemaker', 'manager']\n",
        "#finding gender bias for neutral words in biased and debiased embeddings\n",
        "for word in words:\n",
        "  print(f\"Score for '{word}' in original embeddings:\", gender_bias_original[word])\n",
        "  print(f\"Score for '{word}' in debiased embeddings:\", gender_debiased[word])"
      ],
      "metadata": {
        "colab": {
          "base_uri": "https://localhost:8080/"
        },
        "id": "A09rs2sWlK7M",
        "outputId": "6e2bacc5-5106-4e2c-9659-f611a4916ab6"
      },
      "execution_count": 34,
      "outputs": [
        {
          "output_type": "stream",
          "name": "stdout",
          "text": [
            "Other words and their similarities:\n",
            "Score for 'lipstick' in original embeddings: -0.20701732364065234\n",
            "Score for 'lipstick' in debiased embeddings: -0.0049698782856600066\n",
            "Score for 'guns' in original embeddings: -0.007202808085716217\n",
            "Score for 'guns' in debiased embeddings: -0.011564865019001586\n",
            "Score for 'science' in original embeddings: 0.05747010930959373\n",
            "Score for 'science' in debiased embeddings: 0.03492095034189624\n",
            "Score for 'arts' in original embeddings: -0.002059538248545767\n",
            "Score for 'arts' in debiased embeddings: 0.019867516441792465\n",
            "Score for 'literature' in original embeddings: 0.005329373681541294\n",
            "Score for 'literature' in debiased embeddings: 0.04381129137669043\n",
            "Score for 'warrior' in original embeddings: -0.054117263222540665\n",
            "Score for 'warrior' in debiased embeddings: -0.007044719428619506\n",
            "Score for 'doctor' in original embeddings: -0.0038349633118061055\n",
            "Score for 'doctor' in debiased embeddings: 0.026425312977324422\n",
            "Score for 'tree' in original embeddings: -0.03015877756800217\n",
            "Score for 'tree' in debiased embeddings: 0.008387541129486864\n",
            "Score for 'receptionist' in original embeddings: -0.1694939112720635\n",
            "Score for 'receptionist' in debiased embeddings: 0.026803853817751966\n",
            "Score for 'technology' in original embeddings: 0.09054202441188455\n",
            "Score for 'technology' in debiased embeddings: 0.03855324792619513\n",
            "Score for 'fashion' in original embeddings: -0.14799247344754451\n",
            "Score for 'fashion' in debiased embeddings: -0.038389265551046714\n",
            "Score for 'teacher' in original embeddings: -0.04303611885177494\n",
            "Score for 'teacher' in debiased embeddings: 0.03346650459384293\n",
            "Score for 'engineer' in original embeddings: 0.1435491729142003\n",
            "Score for 'engineer' in debiased embeddings: 0.031226011841822388\n",
            "Score for 'pilot' in original embeddings: 0.04254437336120695\n",
            "Score for 'pilot' in debiased embeddings: 0.0002526723187937785\n",
            "Score for 'computer' in original embeddings: 0.05758040621618102\n",
            "Score for 'computer' in debiased embeddings: 0.0229646099769078\n",
            "Score for 'singer' in original embeddings: -0.14782127429677047\n",
            "Score for 'singer' in debiased embeddings: -0.026971912474356485\n",
            "Score for 'homemaker' in original embeddings: -0.20446101834574587\n",
            "Score for 'homemaker' in debiased embeddings: 0.021930968672182916\n",
            "Score for 'manager' in original embeddings: 0.13529132111493192\n",
            "Score for 'manager' in debiased embeddings: 0.026030499018626363\n"
          ]
        }
      ]
    },
    {
      "cell_type": "markdown",
      "source": [
        "As we can see in the previous list, the model did very well in the words that were classified as very feminine or very masculine: \n",
        "\n",
        "*   \"lipstick\", \"homemaker\", \"singer\", \"fashion\", \"warrior\" and \"receptionist\" got results closer to zero. \n",
        "*   \"technology\", \"engineer\", \"manager\", \"pilot\" also got smaller gender bias scores. \n",
        "\n",
        "However, the words that before were closer to zero, such as  \"doctor\",\"guns\",\"literature\",\"arts\", got then embedded as more masculine after the debiasing algorithm. This could potentially signal a limitation of the method, as it is moving words that are already close to neutral."
      ],
      "metadata": {
        "id": "pifY5MaDNloW"
      }
    },
    {
      "cell_type": "markdown",
      "source": [
        "Since the words chosen for this qualitative part were not necessarily occupations, we decided to do one more evaluation on the WinoBias dataset occupations. After taking the occupations and finding them on our neutral words datasets, we obtained the following results:"
      ],
      "metadata": {
        "id": "uRLU3rIaI2Cw"
      }
    },
    {
      "cell_type": "code",
      "source": [
        "#Getting WinoBias Occupations\n",
        "occupations = ['assistant','secretary','data scientist', 'scientist', 'politician','janitor', 'hairdresser','teacher', 'bartender','midwife','doctor','ballerina','dancer','pediatrician','surgeon', 'physician', 'shopkeeper',  'nurse', 'interior designer', 'architect', 'maid', 'housekeeper', 'soprano', 'baritone', 'servant',  'vocalists', 'guitarists','carpenter','clerk','manager','supervisor','driver','software developer','lawyer','pitcher', 'bookkeeper', 'infielder', 'receptionist', 'investigator', 'pundit', 'chancellor', 'maestro','lecturer','salesperson','homemaker', 'receptionist','librarian', 'nanny', 'bookkeeper', 'stylist','housekeeper','guidance counselor','skipper', 'protege','philosopher','captain', 'architect', 'financier', 'warrior', 'broadcaster', 'magician', 'figher','pilot', 'boss']\n",
        "\n",
        "#Filling a Dictionary with the professions and their biased scores\n",
        "occupation_score_original={}\n",
        "for word in occupations: \n",
        "  if word  in vocab_limited: \n",
        "    occupation_score_original[word]=gender_bias_original[word]\n",
        "\n",
        "occupation_score_debiased={}\n",
        "for word in occupations: \n",
        "   if word in debiased_vocab_limited: \n",
        "    occupation_score_debiased[word]=gender_debiased[word]\n",
        "\n",
        "#Getting a dataframe with the professions on the limited vocabulary with the gender bias scores for both the original and debiased embeddings. \n",
        "import pandas as pd\n",
        "gender_score_df=pd.DataFrame.from_dict(occupation_score_original, orient='index').rename(columns={0: \"original_score\"})\n",
        "debiased_gender_score_df=pd.DataFrame.from_dict(occupation_score_debiased, orient='index').rename(columns={0: \"debiased_score\"})\n",
        "\n",
        "occupations_df=pd.merge(gender_score_df,debiased_gender_score_df, right_index=True,left_index=True).reset_index()\n",
        "\n",
        "occupations_df_long=pd.melt(occupations_df, id_vars=[\"index\"], value_vars=[\"original_score\", \"debiased_score\"])\n",
        "\n",
        "occupations_df_long[\"value\"].astype(\"float\")\n",
        "\n",
        "\n",
        "#Plotting these scores to see the differences\n",
        "import plotly.express as px\n",
        "\n",
        "fig=px.bar(occupations_df_long, x=\"value\",y=\"index\", color=\"variable\", orientation=\"h\", barmode=\"group\",\n",
        "           labels=dict(index=\"Wino Gender Occupations\", value=\"Gender Bias\", variable=\"Embeddings\"),\n",
        "           height=1000, width=800) \n",
        "fig.update_xaxes(range=[-0.3,0.3])\n",
        "fig.show()"
      ],
      "metadata": {
        "id": "PeVwMLn2IOOZ",
        "outputId": "b2ece3dc-21e7-48be-fe32-c6710a9af79c",
        "colab": {
          "base_uri": "https://localhost:8080/",
          "height": 1000
        }
      },
      "execution_count": 35,
      "outputs": [
        {
          "output_type": "display_data",
          "data": {
            "text/html": [
              "<html>\n",
              "<head><meta charset=\"utf-8\" /></head>\n",
              "<body>\n",
              "    <div>            <script src=\"https://cdnjs.cloudflare.com/ajax/libs/mathjax/2.7.5/MathJax.js?config=TeX-AMS-MML_SVG\"></script><script type=\"text/javascript\">if (window.MathJax) {MathJax.Hub.Config({SVG: {font: \"STIX-Web\"}});}</script>                <script type=\"text/javascript\">window.PlotlyConfig = {MathJaxConfig: 'local'};</script>\n",
              "        <script src=\"https://cdn.plot.ly/plotly-2.8.3.min.js\"></script>                <div id=\"78983856-398f-4f92-82a7-745d42743d0a\" class=\"plotly-graph-div\" style=\"height:1000px; width:800px;\"></div>            <script type=\"text/javascript\">                                    window.PLOTLYENV=window.PLOTLYENV || {};                                    if (document.getElementById(\"78983856-398f-4f92-82a7-745d42743d0a\")) {                    Plotly.newPlot(                        \"78983856-398f-4f92-82a7-745d42743d0a\",                        [{\"alignmentgroup\":\"True\",\"hovertemplate\":\"Embeddings=original_score<br>Gender Bias=%{x}<br>Wino Gender Occupations=%{y}<extra></extra>\",\"legendgroup\":\"original_score\",\"marker\":{\"color\":\"#636efa\",\"pattern\":{\"shape\":\"\"}},\"name\":\"original_score\",\"offsetgroup\":\"original_score\",\"orientation\":\"h\",\"showlegend\":true,\"textposition\":\"auto\",\"x\":[0.06595100553428468,0.05841245780818838,0.07561483419946127,0.09275594251364205,0.012418448705254742,-0.15602757226443376,-0.04303611885177494,-0.04597600969728717,-0.21109530881487346,-0.0038349633118061055,-0.15663764797140398,-0.1153402063319477,0.045878499720612975,0.06149396708167401,-9.0057361958603e-05,-0.187379750137653,0.10353056532688769,-0.18063141647038367,-0.17980755698232442,0.0323032422956438,-0.12547035618013863,0.045485407289486156,0.017175519587953103,-0.012428074191218608,0.13529132111493192,-0.079018325459213,0.08920782893296511,0.038840352765017405,0.1460165253220066,-0.060888376392123314,0.1121739547646885,-0.1694939112720635,0.015325201882288975,0.01696347321745724,0.027801614781412465,0.06761312552481841,0.014609755309681505,-0.05380582407105239,-0.20446101834574587,-0.10089888600810537,-0.18153940932059365,-0.17916487963912578,0.09906924250698589,0.03350498034925865,0.0948467141035568,0.10935211356015398,0.12139093283463248,-0.054117263222540665,0.09398087287206668,0.04764292002796432,0.04254437336120695,0.10863314535281815],\"xaxis\":\"x\",\"y\":[\"assistant\",\"secretary\",\"scientist\",\"politician\",\"janitor\",\"hairdresser\",\"teacher\",\"bartender\",\"midwife\",\"doctor\",\"dancer\",\"pediatrician\",\"surgeon\",\"physician\",\"shopkeeper\",\"nurse\",\"architect\",\"housekeeper\",\"soprano\",\"servant\",\"vocalists\",\"guitarists\",\"carpenter\",\"clerk\",\"manager\",\"supervisor\",\"driver\",\"lawyer\",\"pitcher\",\"bookkeeper\",\"infielder\",\"receptionist\",\"investigator\",\"pundit\",\"chancellor\",\"maestro\",\"lecturer\",\"salesperson\",\"homemaker\",\"librarian\",\"nanny\",\"stylist\",\"skipper\",\"protege\",\"philosopher\",\"captain\",\"financier\",\"warrior\",\"broadcaster\",\"magician\",\"pilot\",\"boss\"],\"yaxis\":\"y\",\"type\":\"bar\"},{\"alignmentgroup\":\"True\",\"hovertemplate\":\"Embeddings=debiased_score<br>Gender Bias=%{x}<br>Wino Gender Occupations=%{y}<extra></extra>\",\"legendgroup\":\"debiased_score\",\"marker\":{\"color\":\"#EF553B\",\"pattern\":{\"shape\":\"\"}},\"name\":\"debiased_score\",\"offsetgroup\":\"debiased_score\",\"orientation\":\"h\",\"showlegend\":true,\"textposition\":\"auto\",\"x\":[0.023723680929235103,0.014127605403974286,0.04196640076682917,0.038664517623741845,0.036086455708550125,-0.022397923992085123,0.03346650459384293,0.017267434951944105,0.007587193293605049,0.026425312977324422,0.004939386780922539,0.007942849591278278,0.017792488302993903,0.03697177968602566,0.04113323341919045,0.016521068331485145,0.010999903757422436,0.021039491712730896,-0.010070522293398138,0.04286430028982563,-0.0224822343224763,-0.02871482449085261,-0.009687261728708041,0.03586127626722463,0.026030499018626363,0.0012202806109519737,0.03175026899055139,0.017714448693024742,0.04515037916990425,0.03442326634063986,0.0432472654523722,0.026803853817751966,0.03013935023519937,0.03664017192564614,0.024456196684829568,0.0026580709689926763,0.06713048081484024,0.037651140526216514,0.021930968672182916,0.03868464641832681,0.000681667110918549,-0.03619901279391102,-0.010662374533149083,-0.01810608076012782,0.01586073688094103,-0.01306798676191967,0.00934930032230133,-0.007044719428619506,0.04277610892829595,0.018996313576931934,0.0002526723187937785,0.0055411752264241665],\"xaxis\":\"x\",\"y\":[\"assistant\",\"secretary\",\"scientist\",\"politician\",\"janitor\",\"hairdresser\",\"teacher\",\"bartender\",\"midwife\",\"doctor\",\"dancer\",\"pediatrician\",\"surgeon\",\"physician\",\"shopkeeper\",\"nurse\",\"architect\",\"housekeeper\",\"soprano\",\"servant\",\"vocalists\",\"guitarists\",\"carpenter\",\"clerk\",\"manager\",\"supervisor\",\"driver\",\"lawyer\",\"pitcher\",\"bookkeeper\",\"infielder\",\"receptionist\",\"investigator\",\"pundit\",\"chancellor\",\"maestro\",\"lecturer\",\"salesperson\",\"homemaker\",\"librarian\",\"nanny\",\"stylist\",\"skipper\",\"protege\",\"philosopher\",\"captain\",\"financier\",\"warrior\",\"broadcaster\",\"magician\",\"pilot\",\"boss\"],\"yaxis\":\"y\",\"type\":\"bar\"}],                        {\"template\":{\"data\":{\"bar\":[{\"error_x\":{\"color\":\"#2a3f5f\"},\"error_y\":{\"color\":\"#2a3f5f\"},\"marker\":{\"line\":{\"color\":\"#E5ECF6\",\"width\":0.5},\"pattern\":{\"fillmode\":\"overlay\",\"size\":10,\"solidity\":0.2}},\"type\":\"bar\"}],\"barpolar\":[{\"marker\":{\"line\":{\"color\":\"#E5ECF6\",\"width\":0.5},\"pattern\":{\"fillmode\":\"overlay\",\"size\":10,\"solidity\":0.2}},\"type\":\"barpolar\"}],\"carpet\":[{\"aaxis\":{\"endlinecolor\":\"#2a3f5f\",\"gridcolor\":\"white\",\"linecolor\":\"white\",\"minorgridcolor\":\"white\",\"startlinecolor\":\"#2a3f5f\"},\"baxis\":{\"endlinecolor\":\"#2a3f5f\",\"gridcolor\":\"white\",\"linecolor\":\"white\",\"minorgridcolor\":\"white\",\"startlinecolor\":\"#2a3f5f\"},\"type\":\"carpet\"}],\"choropleth\":[{\"colorbar\":{\"outlinewidth\":0,\"ticks\":\"\"},\"type\":\"choropleth\"}],\"contour\":[{\"colorbar\":{\"outlinewidth\":0,\"ticks\":\"\"},\"colorscale\":[[0.0,\"#0d0887\"],[0.1111111111111111,\"#46039f\"],[0.2222222222222222,\"#7201a8\"],[0.3333333333333333,\"#9c179e\"],[0.4444444444444444,\"#bd3786\"],[0.5555555555555556,\"#d8576b\"],[0.6666666666666666,\"#ed7953\"],[0.7777777777777778,\"#fb9f3a\"],[0.8888888888888888,\"#fdca26\"],[1.0,\"#f0f921\"]],\"type\":\"contour\"}],\"contourcarpet\":[{\"colorbar\":{\"outlinewidth\":0,\"ticks\":\"\"},\"type\":\"contourcarpet\"}],\"heatmap\":[{\"colorbar\":{\"outlinewidth\":0,\"ticks\":\"\"},\"colorscale\":[[0.0,\"#0d0887\"],[0.1111111111111111,\"#46039f\"],[0.2222222222222222,\"#7201a8\"],[0.3333333333333333,\"#9c179e\"],[0.4444444444444444,\"#bd3786\"],[0.5555555555555556,\"#d8576b\"],[0.6666666666666666,\"#ed7953\"],[0.7777777777777778,\"#fb9f3a\"],[0.8888888888888888,\"#fdca26\"],[1.0,\"#f0f921\"]],\"type\":\"heatmap\"}],\"heatmapgl\":[{\"colorbar\":{\"outlinewidth\":0,\"ticks\":\"\"},\"colorscale\":[[0.0,\"#0d0887\"],[0.1111111111111111,\"#46039f\"],[0.2222222222222222,\"#7201a8\"],[0.3333333333333333,\"#9c179e\"],[0.4444444444444444,\"#bd3786\"],[0.5555555555555556,\"#d8576b\"],[0.6666666666666666,\"#ed7953\"],[0.7777777777777778,\"#fb9f3a\"],[0.8888888888888888,\"#fdca26\"],[1.0,\"#f0f921\"]],\"type\":\"heatmapgl\"}],\"histogram\":[{\"marker\":{\"pattern\":{\"fillmode\":\"overlay\",\"size\":10,\"solidity\":0.2}},\"type\":\"histogram\"}],\"histogram2d\":[{\"colorbar\":{\"outlinewidth\":0,\"ticks\":\"\"},\"colorscale\":[[0.0,\"#0d0887\"],[0.1111111111111111,\"#46039f\"],[0.2222222222222222,\"#7201a8\"],[0.3333333333333333,\"#9c179e\"],[0.4444444444444444,\"#bd3786\"],[0.5555555555555556,\"#d8576b\"],[0.6666666666666666,\"#ed7953\"],[0.7777777777777778,\"#fb9f3a\"],[0.8888888888888888,\"#fdca26\"],[1.0,\"#f0f921\"]],\"type\":\"histogram2d\"}],\"histogram2dcontour\":[{\"colorbar\":{\"outlinewidth\":0,\"ticks\":\"\"},\"colorscale\":[[0.0,\"#0d0887\"],[0.1111111111111111,\"#46039f\"],[0.2222222222222222,\"#7201a8\"],[0.3333333333333333,\"#9c179e\"],[0.4444444444444444,\"#bd3786\"],[0.5555555555555556,\"#d8576b\"],[0.6666666666666666,\"#ed7953\"],[0.7777777777777778,\"#fb9f3a\"],[0.8888888888888888,\"#fdca26\"],[1.0,\"#f0f921\"]],\"type\":\"histogram2dcontour\"}],\"mesh3d\":[{\"colorbar\":{\"outlinewidth\":0,\"ticks\":\"\"},\"type\":\"mesh3d\"}],\"parcoords\":[{\"line\":{\"colorbar\":{\"outlinewidth\":0,\"ticks\":\"\"}},\"type\":\"parcoords\"}],\"pie\":[{\"automargin\":true,\"type\":\"pie\"}],\"scatter\":[{\"marker\":{\"colorbar\":{\"outlinewidth\":0,\"ticks\":\"\"}},\"type\":\"scatter\"}],\"scatter3d\":[{\"line\":{\"colorbar\":{\"outlinewidth\":0,\"ticks\":\"\"}},\"marker\":{\"colorbar\":{\"outlinewidth\":0,\"ticks\":\"\"}},\"type\":\"scatter3d\"}],\"scattercarpet\":[{\"marker\":{\"colorbar\":{\"outlinewidth\":0,\"ticks\":\"\"}},\"type\":\"scattercarpet\"}],\"scattergeo\":[{\"marker\":{\"colorbar\":{\"outlinewidth\":0,\"ticks\":\"\"}},\"type\":\"scattergeo\"}],\"scattergl\":[{\"marker\":{\"colorbar\":{\"outlinewidth\":0,\"ticks\":\"\"}},\"type\":\"scattergl\"}],\"scattermapbox\":[{\"marker\":{\"colorbar\":{\"outlinewidth\":0,\"ticks\":\"\"}},\"type\":\"scattermapbox\"}],\"scatterpolar\":[{\"marker\":{\"colorbar\":{\"outlinewidth\":0,\"ticks\":\"\"}},\"type\":\"scatterpolar\"}],\"scatterpolargl\":[{\"marker\":{\"colorbar\":{\"outlinewidth\":0,\"ticks\":\"\"}},\"type\":\"scatterpolargl\"}],\"scatterternary\":[{\"marker\":{\"colorbar\":{\"outlinewidth\":0,\"ticks\":\"\"}},\"type\":\"scatterternary\"}],\"surface\":[{\"colorbar\":{\"outlinewidth\":0,\"ticks\":\"\"},\"colorscale\":[[0.0,\"#0d0887\"],[0.1111111111111111,\"#46039f\"],[0.2222222222222222,\"#7201a8\"],[0.3333333333333333,\"#9c179e\"],[0.4444444444444444,\"#bd3786\"],[0.5555555555555556,\"#d8576b\"],[0.6666666666666666,\"#ed7953\"],[0.7777777777777778,\"#fb9f3a\"],[0.8888888888888888,\"#fdca26\"],[1.0,\"#f0f921\"]],\"type\":\"surface\"}],\"table\":[{\"cells\":{\"fill\":{\"color\":\"#EBF0F8\"},\"line\":{\"color\":\"white\"}},\"header\":{\"fill\":{\"color\":\"#C8D4E3\"},\"line\":{\"color\":\"white\"}},\"type\":\"table\"}]},\"layout\":{\"annotationdefaults\":{\"arrowcolor\":\"#2a3f5f\",\"arrowhead\":0,\"arrowwidth\":1},\"autotypenumbers\":\"strict\",\"coloraxis\":{\"colorbar\":{\"outlinewidth\":0,\"ticks\":\"\"}},\"colorscale\":{\"diverging\":[[0,\"#8e0152\"],[0.1,\"#c51b7d\"],[0.2,\"#de77ae\"],[0.3,\"#f1b6da\"],[0.4,\"#fde0ef\"],[0.5,\"#f7f7f7\"],[0.6,\"#e6f5d0\"],[0.7,\"#b8e186\"],[0.8,\"#7fbc41\"],[0.9,\"#4d9221\"],[1,\"#276419\"]],\"sequential\":[[0.0,\"#0d0887\"],[0.1111111111111111,\"#46039f\"],[0.2222222222222222,\"#7201a8\"],[0.3333333333333333,\"#9c179e\"],[0.4444444444444444,\"#bd3786\"],[0.5555555555555556,\"#d8576b\"],[0.6666666666666666,\"#ed7953\"],[0.7777777777777778,\"#fb9f3a\"],[0.8888888888888888,\"#fdca26\"],[1.0,\"#f0f921\"]],\"sequentialminus\":[[0.0,\"#0d0887\"],[0.1111111111111111,\"#46039f\"],[0.2222222222222222,\"#7201a8\"],[0.3333333333333333,\"#9c179e\"],[0.4444444444444444,\"#bd3786\"],[0.5555555555555556,\"#d8576b\"],[0.6666666666666666,\"#ed7953\"],[0.7777777777777778,\"#fb9f3a\"],[0.8888888888888888,\"#fdca26\"],[1.0,\"#f0f921\"]]},\"colorway\":[\"#636efa\",\"#EF553B\",\"#00cc96\",\"#ab63fa\",\"#FFA15A\",\"#19d3f3\",\"#FF6692\",\"#B6E880\",\"#FF97FF\",\"#FECB52\"],\"font\":{\"color\":\"#2a3f5f\"},\"geo\":{\"bgcolor\":\"white\",\"lakecolor\":\"white\",\"landcolor\":\"#E5ECF6\",\"showlakes\":true,\"showland\":true,\"subunitcolor\":\"white\"},\"hoverlabel\":{\"align\":\"left\"},\"hovermode\":\"closest\",\"mapbox\":{\"style\":\"light\"},\"paper_bgcolor\":\"white\",\"plot_bgcolor\":\"#E5ECF6\",\"polar\":{\"angularaxis\":{\"gridcolor\":\"white\",\"linecolor\":\"white\",\"ticks\":\"\"},\"bgcolor\":\"#E5ECF6\",\"radialaxis\":{\"gridcolor\":\"white\",\"linecolor\":\"white\",\"ticks\":\"\"}},\"scene\":{\"xaxis\":{\"backgroundcolor\":\"#E5ECF6\",\"gridcolor\":\"white\",\"gridwidth\":2,\"linecolor\":\"white\",\"showbackground\":true,\"ticks\":\"\",\"zerolinecolor\":\"white\"},\"yaxis\":{\"backgroundcolor\":\"#E5ECF6\",\"gridcolor\":\"white\",\"gridwidth\":2,\"linecolor\":\"white\",\"showbackground\":true,\"ticks\":\"\",\"zerolinecolor\":\"white\"},\"zaxis\":{\"backgroundcolor\":\"#E5ECF6\",\"gridcolor\":\"white\",\"gridwidth\":2,\"linecolor\":\"white\",\"showbackground\":true,\"ticks\":\"\",\"zerolinecolor\":\"white\"}},\"shapedefaults\":{\"line\":{\"color\":\"#2a3f5f\"}},\"ternary\":{\"aaxis\":{\"gridcolor\":\"white\",\"linecolor\":\"white\",\"ticks\":\"\"},\"baxis\":{\"gridcolor\":\"white\",\"linecolor\":\"white\",\"ticks\":\"\"},\"bgcolor\":\"#E5ECF6\",\"caxis\":{\"gridcolor\":\"white\",\"linecolor\":\"white\",\"ticks\":\"\"}},\"title\":{\"x\":0.05},\"xaxis\":{\"automargin\":true,\"gridcolor\":\"white\",\"linecolor\":\"white\",\"ticks\":\"\",\"title\":{\"standoff\":15},\"zerolinecolor\":\"white\",\"zerolinewidth\":2},\"yaxis\":{\"automargin\":true,\"gridcolor\":\"white\",\"linecolor\":\"white\",\"ticks\":\"\",\"title\":{\"standoff\":15},\"zerolinecolor\":\"white\",\"zerolinewidth\":2}}},\"xaxis\":{\"anchor\":\"y\",\"domain\":[0.0,1.0],\"title\":{\"text\":\"Gender Bias\"},\"range\":[-0.3,0.3]},\"yaxis\":{\"anchor\":\"x\",\"domain\":[0.0,1.0],\"title\":{\"text\":\"Wino Gender Occupations\"}},\"legend\":{\"title\":{\"text\":\"Embeddings\"},\"tracegroupgap\":0},\"margin\":{\"t\":60},\"barmode\":\"group\",\"height\":1000,\"width\":800},                        {\"responsive\": true}                    ).then(function(){\n",
              "                            \n",
              "var gd = document.getElementById('78983856-398f-4f92-82a7-745d42743d0a');\n",
              "var x = new MutationObserver(function (mutations, observer) {{\n",
              "        var display = window.getComputedStyle(gd).display;\n",
              "        if (!display || display === 'none') {{\n",
              "            console.log([gd, 'removed!']);\n",
              "            Plotly.purge(gd);\n",
              "            observer.disconnect();\n",
              "        }}\n",
              "}});\n",
              "\n",
              "// Listen for the removal of the full notebook cells\n",
              "var notebookContainer = gd.closest('#notebook-container');\n",
              "if (notebookContainer) {{\n",
              "    x.observe(notebookContainer, {childList: true});\n",
              "}}\n",
              "\n",
              "// Listen for the clearing of the current output cell\n",
              "var outputEl = gd.closest('.output');\n",
              "if (outputEl) {{\n",
              "    x.observe(outputEl, {childList: true});\n",
              "}}\n",
              "\n",
              "                        })                };                            </script>        </div>\n",
              "</body>\n",
              "</html>"
            ]
          },
          "metadata": {}
        }
      ]
    },
    {
      "cell_type": "markdown",
      "source": [
        "The results are very encouraging: most of the gender bias scores for the WinoBias professions got pushed closer to zero (with the exception of lecturer, whose gender biased increased and became more masculine). Let's see if the quantitative evaluation confirms these results"
      ],
      "metadata": {
        "id": "7KbUn_pMJ01F"
      }
    },
    {
      "cell_type": "markdown",
      "source": [
        "#### Quantitative evaluation: K-Means Clustering. \n",
        "\n",
        "Finally, to get a more objective sense of how well our debiasing method did overall, we performed K-Means clustering on gender words to classify them according to their closeness to the ground truth. We then used TSNE to reduce the dimentionality of our embeddings to plot them in a 2-dimensional scatter plot. \n",
        "\n",
        "This scatter plot tells us whether the words are biased or not: \n",
        "- if biased, two distinct and separated clusters will appear\n",
        "- if completely unbiased, then the clusters will be mixed together, suggesting that no more gendered information is encoded on neutral words. \n",
        "\n",
        "Let's see what we get:"
      ],
      "metadata": {
        "id": "wEs9YQOZlSDv"
      }
    },
    {
      "cell_type": "code",
      "source": [
        "from sklearn.cluster import KMeans\n",
        "from sklearn.manifold import TSNE\n",
        "import operator\n",
        "import matplotlib as mpl\n",
        "import matplotlib.pyplot as plt\n",
        "from cycler import cycler\n",
        "%matplotlib inline\n",
        "\n",
        "\n",
        "#Defining functions to perform the quantitative evaluation of the embeddings. \n",
        "# Here we follow closely the approach by Wang et al.\n",
        "# Normalizing the vectors. \n",
        "def normalize(word_vectors):\n",
        "    \"\"\"\n",
        "    Normalize the vectors by dividing by their norm along rows\n",
        "\n",
        "    \"\"\"\n",
        "    # normalize vectors\n",
        "    norms = np.apply_along_axis(np.linalg.norm, 1, word_vectors)\n",
        "    word_vectors = word_vectors / norms[:, np.newaxis]\n",
        "    return word_vectors\n",
        "\n",
        "#Using TSNE to reduce dimensionality and plot the embeddings on a 2d space. \n",
        "def visualize(vectors, y_true, y_pred, ax, title, random_state):\n",
        "    \"\"\"\n",
        "    Uses TSNE to reduce the dimensionality of the embeddings to be able to visualize them in a 2-d plot.\n",
        "    \n",
        "    \"\"\"\n",
        "    # perform TSNE\n",
        "    vectors = normalize(vectors)\n",
        "    X_embedded = TSNE(n_components=2, random_state=random_state).fit_transform(vectors)\n",
        "    for x,p,y in zip(X_embedded, y_pred, y_true):\n",
        "        \n",
        "        if y:\n",
        "            ax.scatter(x[0], x[1], marker = '.', c = 'c', label=\"feminine words\")\n",
        "        else:\n",
        "            ax.scatter(x[0], x[1], marker = 'x', c = 'darkviolet', label=\"masculine words\")\n",
        "    ax.set_title(title)\n",
        "    \n",
        "    return ax\n",
        "\n",
        "#Using K-means to cluster the gendered words with respect to the ground truth. \n",
        "# Using TSNE to reduce dimensionality and plot the embeddings on a 2d space. \n",
        "def cluster_and_visualize(words, X1, title, random_state, tsne_random_state, y_true, num=2):\n",
        "    \"\"\"\n",
        "    Clusters the embeddings using K-Means algorithm (that calculates their alignment with respect to ground truth)\n",
        "    Then visualizes them by reducing their dimensionality through TSNE\n",
        "\n",
        "    \"\"\"\n",
        "    kmeans_1 = KMeans(n_clusters=num, random_state=random_state).fit(X1)\n",
        "    y_pred_1 = kmeans_1.predict(X1)\n",
        "    correct = [1 if item1 == item2 else 0 for (item1,item2) in zip(y_true, y_pred_1) ]\n",
        "    alignment = sum(correct)/float(len(correct))\n",
        "    max_alignment = max(alignment, 1 - alignment)\n",
        "    print('Alignment', max_alignment)\n",
        "    \n",
        "    fig, axs = plt.subplots(1, 1, figsize=(6, 3))\n",
        "    ax1 = visualize(X1, y_true, y_pred_1, axs, title, tsne_random_state)"
      ],
      "metadata": {
        "id": "h_5Nxz4LlU32"
      },
      "execution_count": 36,
      "outputs": []
    },
    {
      "cell_type": "code",
      "source": [
        "# Setting random states for reproductibility of results\n",
        "random_state = 0\n",
        "tsne_random_state = 5"
      ],
      "metadata": {
        "id": "bWCFHiVBlZoo"
      },
      "execution_count": 37,
      "outputs": []
    },
    {
      "cell_type": "code",
      "source": [
        "import warnings\n",
        "warnings.filterwarnings('ignore')"
      ],
      "metadata": {
        "id": "jSWZ8EtiXNEC"
      },
      "execution_count": 38,
      "outputs": []
    },
    {
      "cell_type": "markdown",
      "source": [
        "##### Plotting the clusters for the original and debiased GloVe embeddings "
      ],
      "metadata": {
        "id": "o1SwQ3D3V4wj"
      }
    },
    {
      "cell_type": "code",
      "source": [
        "#Getting the clusters for the original embeddings\n",
        "glove_plot= cluster_and_visualize(male_words + female_words, \n",
        "                      extract_vectors(male_words + female_words, vectors_limited, word2idx_limited), \n",
        "                          'GloVe Embeddings', \n",
        "                      random_state, \n",
        "                      tsne_random_state,\n",
        "                      y_true)"
      ],
      "metadata": {
        "colab": {
          "base_uri": "https://localhost:8080/",
          "height": 245
        },
        "id": "zhFRzF4glcCK",
        "outputId": "ec85e2c5-7630-4559-85da-fa0d6d37cb9a"
      },
      "execution_count": 39,
      "outputs": [
        {
          "output_type": "stream",
          "name": "stdout",
          "text": [
            "Alignment 1.0\n"
          ]
        },
        {
          "output_type": "display_data",
          "data": {
            "text/plain": [
              "<Figure size 432x216 with 1 Axes>"
            ],
            "image/png": "[encoded data removed]"
          },
          "metadata": {
            "needs_background": "light"
          }
        }
      ]
    },
    {
      "cell_type": "code",
      "source": [
        "#Getting the clusters for the debiased embeddings\n",
        "cluster_and_visualize(male_words + female_words, \n",
        "                      extract_vectors(male_words + female_words, debiased_vectors_limited, debiased_word2idx_limited), \n",
        "                          'Debiased GloVe Embeddins',\n",
        "                      random_state, \n",
        "                      tsne_random_state, \n",
        "                      y_true)"
      ],
      "metadata": {
        "id": "pcKlzKr1ljL8",
        "colab": {
          "base_uri": "https://localhost:8080/",
          "height": 245
        },
        "outputId": "00ccba82-25c4-436c-c7a2-a853b0a57fa1"
      },
      "execution_count": 40,
      "outputs": [
        {
          "output_type": "stream",
          "name": "stdout",
          "text": [
            "Alignment 0.644\n"
          ]
        },
        {
          "output_type": "display_data",
          "data": {
            "text/plain": [
              "<Figure size 432x216 with 1 Axes>"
            ],
            "image/png": "[encoded data removed]"
          },
          "metadata": {
            "needs_background": "light"
          }
        }
      ]
    },
    {
      "cell_type": "markdown",
      "source": [
        "As the plots show, the original embeddings are biased: neutral words encode gender information in such a way that we get two very distinct and separated clusters of words. \n",
        "\n",
        "Our results show that the Double-Hard Debias algorithm manages to produce GloVe embeddings that encode less gender information, which results in the mixing up of the two groups in the plot.\n",
        "\n",
        "Our result is still not perfect: it gets an allignment of 0.64 (close to 0.5, but not exactly) and the groups are still not perfectly mixed up. The authors of the original paper got a better result, as shown in the next picture:\n",
        "\n",
        "<img src='https://drive.google.com/uc?id=1600VcvK65UnSq2LHbyOTBCyeMWZlEfQN'>\n",
        "\n",
        "The difference in our results might be due to the different decisions in the processing of the embeddings.\n",
        "\n",
        "To get a sense of the difference we could maybe use the WEAT score, which we didn't get to in this tutorial. Word Embeddings Association Test is a measure developed by Caliskan et al. that compares the association of female and male words with some target words. It could be a good way to understand why our results are so different from the ones presented in the paper. \n"
      ],
      "metadata": {
        "id": "2fz51ZFBWibM"
      }
    },
    {
      "cell_type": "markdown",
      "source": [
        "## Machine translation from scratch\n",
        "\n",
        "For the translation task, we tried a sequence to sequence approach inspired by Assignment 3 of the Deep Learning course at Hertie School. We did a few modifications to fit our task: \n",
        "We adapted it to fit a English-Spanish translation task.\n",
        "We enlarged the dataset used in the homework (point 8) to include sentences of the UN dataset related to professions.\n",
        "We changed the preprocessing functions for our model to be able to include sentences with up to 30 words and starting with expressions different from “I am”, “You are”, etc. \n",
        "With this we got 242,643 sentence pairs that when filtered amounted to 72.476 words in English and 94.148 in Spanish.\n",
        "Since the task was considerably more complex, we used an “LSTM” encoder and an “LSTM” decoder with 2 hidden layers and a dropout rate of 0.2.\n",
        "We trained with GloVe embeddings downloaded from Gensim and with our own debiased embeddings. \n",
        "Although we ran our models on GPU and in two parallel colab notebooks, we didn’t get the results we were expecting. After more than 12 hours of training time, our error rate for both models was still at 3.0 (here [texto del enlace](https://colab.research.google.com/drive/1g7SQwvyI86pca139fQqMYSb6FIX8nZkq?usp=sharing) is the training for the debiased embeddings model) and the sentences were not completely translated. Because of that, we couldn’t then evaluate our translation models as planned. This could be one of the tasks to try in the future. "
      ],
      "metadata": {
        "id": "sJ_J1-VQJ7Be"
      }
    },
    {
      "cell_type": "markdown",
      "metadata": {
        "id": "ZhkmytKNU_Z2"
      },
      "source": [
        "<a name=\"results-and-discussion\"></a>\n",
        "# Results & Discussion"
      ]
    },
    {
      "cell_type": "markdown",
      "source": [
        "In this section, describe and contextualize the results shown in the tutorial. Briefly describe the performance metrics and cross validation techniques used."
      ],
      "metadata": {
        "id": "H_xyA1s98Z93"
      }
    },
    {
      "cell_type": "code",
      "metadata": {
        "id": "8LWo6UQzwj37"
      },
      "source": [
        "# Insert code here. Feel free to break this up into several code\n",
        "# cells, interleaved with explanatory text."
      ],
      "execution_count": null,
      "outputs": []
    },
    {
      "cell_type": "markdown",
      "metadata": {
        "id": "oHIjM6eMwlXY"
      },
      "source": [
        "## Limitations\n",
        "**Embeddings**\n",
        "\n",
        "Even though we got a very decent result in our debiasing of the embeddings, the *Double-Hard Debiasing Algorithm* has some limitations:\n",
        "- Since it is a hard algorithm it completely removes the gender projection of neutral words, this means that information is lost from the embeddings and it could potentially affect other tasks. \n",
        "- Also, by removing the frequency features, our debiased embeddings cannot be used anymore in analytical tasks that are based on the frequencies of usage of words, as Twitter data analysis for instance. \n",
        "- Because of the nature of the embeddings, we have information about their closeness to other words, but not of their meanings. This is one of the reasons that we didn't take \"man\" as a gendered word: since it is used as proxy for \"humanity\" or of \"males\", it could bias our results. However, we don't know if any other word was also used to signal a different meaning. \n",
        "\n",
        "As for our approach in this tutorial, there are also limitations: \n",
        "- We didn't equalize the gendered-words in the embeddings, this means that words such as grandmother and grandfather still have different norms in our embeddings, which can bias some tasks. Equalizing them can solve this issue, while providing a good opportunity to differentiate between words that are neutral and words that require information of their gender. \n",
        "- We have a measure of the aligment of our embeddings with respect to gender neutrality, but not of their distribution with respect to gender atributes sets. For this, it would be good to calculate the WEAT scores and to compare them with the authors results. \n",
        "\n",
        "**Translation Task**\n",
        "- Very hard to get a decent model, that could pick all the gendered nuances of complex sentences. We tried the model that we used in class, with a larger and more complex data set, but after more than 12 hours of training we still didn't get decent translations. \n",
        "\n",
        " "
      ]
    },
    {
      "cell_type": "markdown",
      "metadata": {
        "id": "CLLCQpv14Gsx"
      },
      "source": [
        "## Next Steps\n",
        "\n",
        "*   Get your hands dirty! Take this notebook, copy it and try to run everything yourself.\n",
        "*   As for the embeddings, you could also try using word2vec embeddings and comparing the results to the ones we got with GloVe.\n",
        "*   You could also try equalizing gendered words and WEAT as a measure to compare your results to ours and to the original authors'.\n"
      ]
    },
    {
      "cell_type": "markdown",
      "metadata": {
        "id": "PkKqewK_-ZLD"
      },
      "source": [
        "<a name=\"references\"></a>\n",
        "# References\n",
        "\n",
        "\n"
      ]
    },
    {
      "cell_type": "markdown",
      "source": [
        "**Debiasing Embeddings**\n",
        "- Hassiah, K. (2018). Testing Double Hard Debias Algorithm; https://colab.research.google.com/github/hassiahk/Double-Hard-Debias/blob/main/notebooks/GloVe_Double_Hard_Debias.ipynb#scrollTo=cWmFR9KbPnCt\n",
        "- jmyao17. Operations on word vectors.\n",
        "- Tolga Bolukbasi, Kai-Wei Chang, James Y. Zou, Venkatesh Saligrama, and Adam Tauman Kalai. 2016. Man is to computer programmer as woman is to homemaker? debiasing word embeddings. In NIPS.\n",
        "- Wang, T., Lin, X. V., Rajani, N. F., Ordonez, V., & Xiong, C. (2019). DOUBLE-HARD DEBIASING: TAILORING WORD EMBEDDINGS FOR GENDER BIAS MITIGATION."
      ],
      "metadata": {
        "id": "WJQ1wmn38lGf"
      }
    },
    {
      "cell_type": "markdown",
      "source": [
        "## Acknowledgement\n",
        "\n",
        "These guidelines are heavily based on the Climate Change AI template for the for the tutorials track at the [NeurIPS 2021 Workshop on Tackling Climate Change with Machine Learning](https://www.climatechange.ai/events/neurips2021). "
      ],
      "metadata": {
        "id": "YguJayU8RBmd"
      }
    }
  ]
}