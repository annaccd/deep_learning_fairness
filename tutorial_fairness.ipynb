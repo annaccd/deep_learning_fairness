{
  "nbformat": 4,
  "nbformat_minor": 0,
  "metadata": {
    "colab": {
      "provenance": [],
      "toc_visible": true
    },
    "kernelspec": {
      "name": "python3",
      "display_name": "Python 3"
    },
    "language_info": {
      "name": "python"
    },
    "gpuClass": "standard"
  },
  "cells": [
    {
      "cell_type": "markdown",
      "metadata": {
        "id": "13i7KQ9t-CV8"
      },
      "source": [
        "# Tutorial Notebook Template\n",
        "## GRAD-E1394 Deep Learning -- Assignment 3\n",
        "Author(s):\n",
        "*   Author, Email\n",
        "\n",
        "This serves as a template for Assignment 3. \n",
        "\n",
        "To get started, replace the tutorial notebook title and author information accordingly (one bullet point per group member). Replace the information in this cell with a brief summary of the tutorial as well as users' expected learning outcomes. \n",
        "\n"
      ]
    },
    {
      "cell_type": "markdown",
      "metadata": {
        "id": "yNv0ANr5WcD_"
      },
      "source": [
        "# Table of Contents\n",
        "\n",
        "\n",
        "*   [Memo](#memo)\n",
        "*   [Overview](#overview)\n",
        "*   [Background & Prerequisites](#background-and-prereqs)\n",
        "*   [Software Requirements](#software-requirements)\n",
        "*   [Data Description](#data-description)\n",
        "*   [Methodology](#methodology)\n",
        "*   [Results & Discussion](#results-and-discussion)\n",
        "*   [References](#references)\n"
      ]
    },
    {
      "cell_type": "markdown",
      "metadata": {
        "id": "rqD_ftUYJE1n"
      },
      "source": [
        "# General Guidelines\n",
        "*(Please remove this and other guideline sections from your final tutorial submission.)*\n",
        "\n",
        "This template should help you create your tutorial. You may introduce modifications and extensions but adhere to the general principles for writing the tutorial:\n",
        "\n",
        "*   Be brief. \n",
        "    *  Keep it short and simple. Avoid unnecessary complexity.\n",
        "*   Clearly illustrate how the content relates to public policy. \n",
        "    *  Identify the ways in which this tutorial would help the users (your collegues) in their work.\n",
        "*   Provide enough context.\n",
        "    *  Explain important concepts directly in the tutorial notebook, but feel free to direct users to external resources when necessary.  \n",
        "*   Avoid or minimize the use of jargon. \n",
        "    *  Ideally, the content can be understood by both an ML audience and by people who are relatively new to ML and deep learning.\n",
        "*   Focus on readability and usability. \n",
        "    *  Interleave code cells with explanatory text, keeping your audience in mind.\n",
        "*   Follow guidelines to avoid plagiarism. \n",
        "    * Any verbatim text needs to be put in quotation marks. \n",
        "    * Do not copy code.\n",
        "    * Clearly reference ideas and work of others.\n",
        "    * [Hertie School Code of Conduct](https://hertieschool-f4e6.kxcdn.com/fileadmin/5_WhoWeAre/Code_of_Conduct.pdf)\n",
        "* Ensure reproducibility.\n",
        "    * Ensure that your notebook can be rerun by somebody else on a different machine in a reasonable amount of time. If the task is computationally expensive, provide an additional, smaller data sample for fast reproduction, and use that in your tutorial. \n",
        "\n",
        "## Additional Instructions\n",
        "We highly recommend that you follow the [Ten simple rules for writing and sharing computational analyses using Jupyter Notebooks](https://journals.plos.org/ploscompbiol/article?id=10.1371/journal.pcbi.1007007). We summarize the ten rules as follows:\n",
        "\n",
        "<center><img src=\"https://journals.plos.org/ploscompbiol/article/figure/image?size=large&id=info:doi/10.1371/journal.pcbi.1007007.g001\" width=400>\n",
        "\n",
        "<small>Rule, Adam, et al. \"Ten simple rules for writing and sharing computational analyses in Jupyter Notebooks.\" PLoS computational biology 15.7 (2019).</small></center>\n",
        "\n",
        "### Rule 1: Tell a story for an audience\n",
        "* Interleave explanatory text and code to tell a compelling story.\n",
        "* Describe not just what you did but why you did it.\n",
        "* How you tell your story depends on your goal and your audience.\n",
        "\n",
        "### Rule 2: Document the process, not just the results\n",
        "* Document relevant interactive explorations.\n",
        "* Don't wait until the end to add explanatory text.\n",
        "* Generate publication-ready version of figures from the get-go.\n",
        "\n",
        "### Rule 3: Use cell divisions to make steps clear\n",
        "* Each cell should perform one meaningful step in the analysis.\n",
        "* Think one cell = one paragraph, function, or task (e.g. creating a plot).\n",
        "* Avoid long cells (50+ lines) \n",
        "* Organize your notebook into sections/subsections.  \n",
        "\n",
        "### Rule 4: Modularize code\n",
        "* Avoid duplicate code (no copy-pasting!)\n",
        "* Wrap the code that you want to reuse in a function.\n",
        "* Use descriptive and meaningful variable and function names.\n",
        "\n",
        "### Rule 5: Record dependencies\n",
        "* Manage your dependencies using a package or environment manager (e.g. pip,conda)\n",
        "* Feel free to use tools like Binder or Docker to generate a \"container\" for better reproducibility. \n",
        "\n",
        "### Rule 6: Use version control\n",
        "- Google colab allows you to view revision history.\n",
        "- You can also opt to use Git and Github for version control.\n",
        "- As Jupyter uses JSON for serialization, tracking raw changes on GitHub is difficult. [ReviewNB](https://www.reviewnb.com/) and [nbdime](https://github.com/jupyter/nbdime) can help to generate human-readable diffs.\n",
        "\n",
        "### Rule 7: Build a pipeline\n",
        "* A well-designed notebook can be generalized into a pipeline.\n",
        "* Place key variable declarations at the top/beginning of the notebook.\n",
        "* Make a habit of regularly restarting your kernel and rerunning all cells.\n",
        "* Before submitting, reinstall all dependencies and rerun all cells in a new enviroment to ensure reproducibility.\n",
        "\n",
        "### Rule 8: Share and explain your data\n",
        "* Properly reference the data you use. \n",
        "* If using your own data, make your data or a sample of your data publicly available along with the notebook.\n",
        "* You can opt to host public copies of your data.\n",
        "\n",
        "### Rule 9: Design your notebooks to be read, run, and explored\n",
        "* Read: For code hosted in a public repository, add README and LICENSE files.\n",
        "* Run: Consider using Google Colab, Binder, or Docker for seamless replication.\n",
        "* Explore: Consider how you can design your notebook so future users can built on top of your work.\n",
        "\n",
        "### Rule 10: Advocate for open research"
      ]
    },
    {
      "cell_type": "markdown",
      "metadata": {
        "id": "QH81wjfsJsv1"
      },
      "source": [
        "<a name=\"memo\"></a>\n",
        "# Memo - FRANCI\n",
        "\n",
        "Write a memo for the leadership explaining in layman's terms why this topic is relevant for public policy. Discuss relevant research works, real-world examples of successful applications, and organizations and governments that apply such approaches for policy making. \n",
        "\n",
        "500 W\n",
        "\n",
        "Search for austrian case or other specific policy implementation area/case - something very concrete\n",
        "\n",
        "\n"
      ]
    },
    {
      "cell_type": "markdown",
      "source": [
        "<a name=\"overview\"></a>\n",
        "# Overview - ANNA, IN THE END\n",
        "\n",
        "In this section, provide a summary of the main contributions of the tutorial notebook. Note that the tutorial should introduce or demonstrate the use of a method, dataset, tool, or technology to address a problem related to public policy. Be clear on the goal of the tutorial and the expected learning outcomes for the users. \n"
      ],
      "metadata": {
        "id": "e2u40fYe3EOL"
      }
    },
    {
      "cell_type": "markdown",
      "metadata": {
        "id": "gQgijl46pYzn"
      },
      "source": [
        "<a name=\"background-and-prereqs\"></a>\n",
        "# Background & Prerequisites - ANNA \n",
        "\n",
        "You will need to specify the prerequisites and basic knowledge required for the tutorial. Afterwards, please provide a brief explanation of the most important concepts necessary for the users to follow the tutorial. \n",
        "\n",
        "Deep learning concepts - embeddings, machine translation, bias, how do language models work (language models)"
      ]
    },
    {
      "cell_type": "markdown",
      "metadata": {
        "id": "Ag9dvWcxqmEq"
      },
      "source": [
        "## Videos\n",
        "You may also opt to include short videos explaining relevant concepts.\n",
        "\n",
        "Example:\n",
        "\n",
        "SEARCH SOMETHING ON LANGUAGE MODELS"
      ]
    },
    {
      "cell_type": "code",
      "metadata": {
        "colab": {
          "base_uri": "https://localhost:8080/",
          "height": 321
        },
        "id": "E4aK3MI9qhfJ",
        "outputId": "044bd042-37c7-43d2-8a19-78dbc2dd6e46"
      },
      "source": [
        "from IPython.display import YouTubeVideo\n",
        "YouTubeVideo('aircAruvnKk')"
      ],
      "execution_count": null,
      "outputs": [
        {
          "output_type": "execute_result",
          "data": {
            "text/html": [
              "\n",
              "        <iframe\n",
              "            width=\"400\"\n",
              "            height=\"300\"\n",
              "            src=\"https://www.youtube.com/embed/aircAruvnKk\"\n",
              "            frameborder=\"0\"\n",
              "            allowfullscreen\n",
              "        ></iframe>\n",
              "        "
            ],
            "text/plain": [
              "<IPython.lib.display.YouTubeVideo at 0x7fd7ed14f0d0>"
            ],
            "image/jpeg": "[encoded data removed]"
          },
          "metadata": {
            "tags": []
          },
          "execution_count": 1
        }
      ]
    },
    {
      "cell_type": "markdown",
      "metadata": {
        "id": "7BpQklEEIFDD"
      },
      "source": [
        "## Reading materials\n",
        "Please include additional resources (e.g. research papers, blog posts, textbooks) for the readers to further study the topic of your tutorial.\n",
        "\n",
        "SAME AS BACKGROUND"
      ]
    },
    {
      "cell_type": "markdown",
      "metadata": {
        "id": "rSRCNgYzUwaf"
      },
      "source": [
        "<a name=\"software-requirements\"></a>\n",
        "# Software Requirements - ALL, IN THE END\n",
        "Include in this section the software requirements, setup instructions, and library imports. \n",
        "\n",
        "Example:\n",
        "\n",
        "This notebook requires Python >= 3.7. The following libraries are required:\n",
        "*   pandas\n",
        "*   numpy\n",
        "*   matplotlib"
      ]
    },
    {
      "cell_type": "code",
      "metadata": {
        "id": "jObV5LtDk0Vm"
      },
      "source": [
        "!pip install pandas numpy matplotlib "
      ],
      "execution_count": null,
      "outputs": []
    },
    {
      "cell_type": "code",
      "metadata": {
        "id": "xVzk4V7qUu2R"
      },
      "source": [
        "# Data visualization\n",
        "import matplotlib.pyplot as plt \n",
        "\n",
        "# Data manipulation\n",
        "import pandas as pd\n",
        "import numpy as np"
      ],
      "execution_count": null,
      "outputs": []
    },
    {
      "cell_type": "markdown",
      "metadata": {
        "id": "jXoiLncsU3pe"
      },
      "source": [
        "<a name=\"data-description\"></a> \n",
        "# Data Description - ANIA\n",
        "\n",
        "In this section, kindly provide a brief description of the dataset that you will use in this tutorial. Specify information such as the data type or file format (e.g. text, image, video, tabular), size, spatial resolution, temporal resolution, labels or categories, etc. Explicitly name the source of your dataset. If you are introducing a new dataset, feel free to include additional information (e.g. field survey sampling methods, dataset annotation efforts, etc.) or provide external links and resources that discuss the specific details of the dataset.\n",
        " "
      ]
    },
    {
      "cell_type": "markdown",
      "metadata": {
        "id": "PoF-BxSM5Jkc"
      },
      "source": [
        "## Data Download\n",
        "Provide instructions on how to retrieve the necessary data. \n",
        "\n",
        "This may include bash scripts, Python scripts, or other means of downloading the data."
      ]
    },
    {
      "cell_type": "code",
      "metadata": {
        "id": "Qh5FKi6Nopbr"
      },
      "source": [
        "# Insert data download code here, e.g.\n",
        "# !wget <data-download-link>.zip -O data.zip"
      ],
      "execution_count": null,
      "outputs": []
    },
    {
      "cell_type": "markdown",
      "metadata": {
        "id": "bSt6h_Q-oqjK"
      },
      "source": [
        "## Data Preprocessing\n",
        "Additionally, you can include any data preprocessing steps and exploratory data analyses (e.g. visualize data distributions, impute missing values, etc.) in this section to allow the users to better understand the dataset. \n",
        "\n",
        "In this section, you might also want to describe the different input and output variables, the train/val/test splits, and any data transformations."
      ]
    },
    {
      "cell_type": "code",
      "metadata": {
        "id": "0aBJ5aLZosk-"
      },
      "source": [
        "# Insert data pre-processing and exploratory data analysis\n",
        "# code here. Feel free to break this up into several code\n",
        "# cells, interleaved with explanatory text. "
      ],
      "execution_count": null,
      "outputs": []
    },
    {
      "cell_type": "markdown",
      "metadata": {
        "id": "qa9Iuu2GU52Z"
      },
      "source": [
        "<a name=\"methodology\"></a>\n",
        "# Methodology - ANGELA AND HELENA\n",
        "\n",
        "In this section, describe a step-by-step walkthrough of the methodology, in the form of code cells. Feel free to make use of markdown headings to break this section up into smaller subsections, preferrably one section per task. \n",
        "\n",
        "Reminders:\n",
        "*   Split the code into small, digestible chunks. \n",
        "*   Use text cells to describe each code block.\n",
        "*   Avoid duplicate code through modularization.\n",
        "*   Focus on learning outcomes."
      ]
    },
    {
      "cell_type": "markdown",
      "metadata": {
        "id": "yWXsiZ5freTG"
      },
      "source": [
        "## Debiasing embeddings - Angela\n",
        "Replace the heading with the appropriate title for each subtask."
      ]
    },
    {
      "cell_type": "code",
      "metadata": {
        "id": "6CeKQHfyrU7k"
      },
      "source": [
        "# Insert code here. Feel free to break this up into several code\n",
        "# cells, interleaved with explanatory text. "
      ],
      "execution_count": null,
      "outputs": []
    },
    {
      "cell_type": "markdown",
      "source": [
        "### Dependencies"
      ],
      "metadata": {
        "id": "ZmnxoPu-e3QH"
      }
    },
    {
      "cell_type": "code",
      "source": [
        "!pip install matplotlib numpy scikit-learn scipy tqdm\n",
        "!pip install  gensim==4.1.2"
      ],
      "metadata": {
        "id": "_zEOwnxhe2ea",
        "outputId": "a4c5d9e8-3f21-481a-8fe2-e79125e4a9dc",
        "colab": {
          "base_uri": "https://localhost:8080/"
        }
      },
      "execution_count": 1,
      "outputs": [
        {
          "output_type": "stream",
          "name": "stdout",
          "text": [
            "Looking in indexes: https://pypi.org/simple, https://us-python.pkg.dev/colab-wheels/public/simple/\n",
            "Requirement already satisfied: matplotlib in /usr/local/lib/python3.8/dist-packages (3.2.2)\n",
            "Requirement already satisfied: numpy in /usr/local/lib/python3.8/dist-packages (1.21.6)\n",
            "Requirement already satisfied: scikit-learn in /usr/local/lib/python3.8/dist-packages (1.0.2)\n",
            "Requirement already satisfied: scipy in /usr/local/lib/python3.8/dist-packages (1.7.3)\n",
            "Requirement already satisfied: tqdm in /usr/local/lib/python3.8/dist-packages (4.64.1)\n",
            "Requirement already satisfied: python-dateutil>=2.1 in /usr/local/lib/python3.8/dist-packages (from matplotlib) (2.8.2)\n",
            "Requirement already satisfied: pyparsing!=2.0.4,!=2.1.2,!=2.1.6,>=2.0.1 in /usr/local/lib/python3.8/dist-packages (from matplotlib) (3.0.9)\n",
            "Requirement already satisfied: kiwisolver>=1.0.1 in /usr/local/lib/python3.8/dist-packages (from matplotlib) (1.4.4)\n",
            "Requirement already satisfied: cycler>=0.10 in /usr/local/lib/python3.8/dist-packages (from matplotlib) (0.11.0)\n",
            "Requirement already satisfied: six>=1.5 in /usr/local/lib/python3.8/dist-packages (from python-dateutil>=2.1->matplotlib) (1.15.0)\n",
            "Requirement already satisfied: joblib>=0.11 in /usr/local/lib/python3.8/dist-packages (from scikit-learn) (1.2.0)\n",
            "Requirement already satisfied: threadpoolctl>=2.0.0 in /usr/local/lib/python3.8/dist-packages (from scikit-learn) (3.1.0)\n",
            "Looking in indexes: https://pypi.org/simple, https://us-python.pkg.dev/colab-wheels/public/simple/\n",
            "Collecting gensim==4.1.2\n",
            "  Downloading gensim-4.1.2-cp38-cp38-manylinux_2_12_x86_64.manylinux2010_x86_64.whl (24.1 MB)\n",
            "\u001b[K     |████████████████████████████████| 24.1 MB 1.8 MB/s \n",
            "\u001b[?25hRequirement already satisfied: numpy>=1.17.0 in /usr/local/lib/python3.8/dist-packages (from gensim==4.1.2) (1.21.6)\n",
            "Requirement already satisfied: smart-open>=1.8.1 in /usr/local/lib/python3.8/dist-packages (from gensim==4.1.2) (5.2.1)\n",
            "Requirement already satisfied: scipy>=0.18.1 in /usr/local/lib/python3.8/dist-packages (from gensim==4.1.2) (1.7.3)\n",
            "Installing collected packages: gensim\n",
            "  Attempting uninstall: gensim\n",
            "    Found existing installation: gensim 3.6.0\n",
            "    Uninstalling gensim-3.6.0:\n",
            "      Successfully uninstalled gensim-3.6.0\n",
            "Successfully installed gensim-4.1.2\n"
          ]
        }
      ]
    },
    {
      "cell_type": "code",
      "source": [
        "import torch\n",
        "# Check is GPU is enabled\n",
        "device = torch.device(\"cuda:0\" if torch.cuda.is_available() else \"cpu\")\n",
        "print(\"Device: {}\".format(device))\n",
        "\n",
        "# Get specific GPU model\n",
        "if str(device) == \"cuda:0\":\n",
        "  print(\"GPU: {}\".format(torch.cuda.get_device_name(0)))"
      ],
      "metadata": {
        "id": "tLgSUpyRe9E-",
        "outputId": "ee968bed-2944-4a93-f034-1d5cae770942",
        "colab": {
          "base_uri": "https://localhost:8080/"
        }
      },
      "execution_count": 2,
      "outputs": [
        {
          "output_type": "stream",
          "name": "stdout",
          "text": [
            "Device: cpu\n"
          ]
        }
      ]
    },
    {
      "cell_type": "code",
      "source": [
        "import codecs\n",
        "import json\n",
        "import operator\n",
        "from typing import Dict, List, Tuple, Union\n",
        "import numpy as np\n",
        "import scipy\n",
        "import tqdm\n",
        "\n",
        "%load_ext autoreload\n",
        "%autoreload 2"
      ],
      "metadata": {
        "id": "4dJ57_Qye-7S"
      },
      "execution_count": 3,
      "outputs": []
    },
    {
      "cell_type": "code",
      "source": [
        "from google.colab import drive\n",
        "drive.mount('/content/drive')"
      ],
      "metadata": {
        "id": "UKm_Nb4UfIlA",
        "outputId": "daf7eb10-8062-47b0-fdb6-a3347777a8e4",
        "colab": {
          "base_uri": "https://localhost:8080/"
        }
      },
      "execution_count": 4,
      "outputs": [
        {
          "output_type": "stream",
          "name": "stdout",
          "text": [
            "Mounted at /content/drive\n"
          ]
        }
      ]
    },
    {
      "cell_type": "markdown",
      "source": [
        "### Preprocessing"
      ],
      "metadata": {
        "id": "KSTHYZs2pytl"
      }
    },
    {
      "cell_type": "markdown",
      "source": [
        "#### Downloading Glove Embeddings "
      ],
      "metadata": {
        "id": "S8G5XkxifKfa"
      }
    },
    {
      "cell_type": "code",
      "source": [
        "#Downloading the glove embeddings from gensim\n",
        "import gensim.downloader\n",
        "from gensim.scripts.glove2word2vec import glove2word2vec\n",
        "from gensim.models.keyedvectors import KeyedVectors\n",
        "\n",
        "#word2vec_vectors = gensim.downloader.load('word2vec-google-news-300')\n",
        "#weights = torch.FloatTensor(word2vec_vectors.vectors) \n",
        "\n",
        "glove_model = gensim.downloader.load('glove-wiki-gigaword-300')\n",
        "glove_weights = torch.FloatTensor(glove_model.vectors)"
      ],
      "metadata": {
        "id": "_H-gruMogppD",
        "outputId": "02bc679f-4a3f-4f7f-8844-ad4c2d587e04",
        "colab": {
          "base_uri": "https://localhost:8080/"
        }
      },
      "execution_count": 5,
      "outputs": [
        {
          "output_type": "stream",
          "name": "stdout",
          "text": [
            "[=================================================-] 99.8% 375.3/376.1MB downloaded\n"
          ]
        }
      ]
    },
    {
      "cell_type": "code",
      "source": [
        "#Getting the vocabulary list, array of vectors per word and indices (word2idx)\n",
        "vocab=glove_model.index_to_key #list\n",
        "vectors=glove_model.vectors #list of arrays\n",
        "word2idx = {word: idx for idx, word in enumerate(vocab)} #dictionary: word, index\n",
        "print(f\"vectors shape: {vectors.shape}, word2idx length: {len(word2idx)}, vocab length: {len(vocab)}\")\n"
      ],
      "metadata": {
        "id": "zgupAG-egs5J",
        "outputId": "ebdcef01-d028-474f-e7d6-0b6cf300c3e4",
        "colab": {
          "base_uri": "https://localhost:8080/"
        }
      },
      "execution_count": 6,
      "outputs": [
        {
          "output_type": "stream",
          "name": "stdout",
          "text": [
            "vectors shape: (400000, 300), word2idx length: 400000, vocab length: 400000\n"
          ]
        }
      ]
    },
    {
      "cell_type": "code",
      "source": [
        "#creating a dictionary to access the embeddings with word as key and vectors as values\n",
        "dict_glove = dict({})\n",
        "for idx, key in enumerate(glove_model.key_to_index):\n",
        "    dict_glove[key] = glove_model[key]"
      ],
      "metadata": {
        "id": "1lbhB_aDguz7"
      },
      "execution_count": 7,
      "outputs": []
    },
    {
      "cell_type": "markdown",
      "source": [
        "#### Loading female and male biased vocabulary\n",
        "- Source: [Wang et.al.](https://github.com/uvavision/Double-Hard-Debias/blob/master/GloVe_Debias.ipynb) implementation of Double-Hard debias algorithm"
      ],
      "metadata": {
        "id": "JxMLScVthFW3"
      }
    },
    {
      "cell_type": "code",
      "source": [
        "# Getting female and male biased vocabulary from datafiles into a list of gender_specific words.\n",
        "\n",
        "with open('/content/drive/MyDrive/Deep Learning/dataDoubleHard/male_word_file.txt') as f:\n",
        "    gender_specific = [line.strip() for line in f]\n",
        "\n",
        "with open('/content/drive/MyDrive/Deep Learning/dataDoubleHard/female_word_file.txt') as f:\n",
        "    for l in f:\n",
        "        gender_specific.append(l.strip())\n",
        "\n",
        "with codecs.open('/content/drive/MyDrive/Deep Learning/dataDoubleHard/gender_specific_full.json') as f:\n",
        "    gender_specific.extend(json.load(f))"
      ],
      "metadata": {
        "id": "0MDg6C1FhLjc"
      },
      "execution_count": 8,
      "outputs": []
    },
    {
      "cell_type": "markdown",
      "source": [
        "#### Excluding the gender specific words from the vocabulary\n",
        "- with this we hope to get the neutral words. This follows the approach of the Homemaker paper **insert reference** where all words that are not gendered should be neutral."
      ],
      "metadata": {
        "id": "x20I5X-LhZCZ"
      }
    },
    {
      "cell_type": "code",
      "source": [
        "## Function to clean the embeddings: remove digit-words, puntuation marks, etc. \n",
        "## The function also removes gendered words\n",
        "## The function was used in the original paper, limiting it to the first 50000 words from the vocabulary. \n",
        "## We used it on all words from the vocabulary\n",
        "from tqdm import tqdm\n",
        "import string \n",
        "\n",
        "def has_punct(w):\n",
        "    if any([c in string.punctuation for c in w]):\n",
        "        return True\n",
        "    return False\n",
        "\n",
        "def has_digit(w):\n",
        "    if any([c in '0123456789' for c in w]):\n",
        "        return True\n",
        "    return False\n",
        "\n",
        "\n",
        "def limit_vocab(word_vector, word_index, vocab, exclude = None):\n",
        "    vocab_limited = []\n",
        "    for word in tqdm(vocab[:400000]): \n",
        "        if word.lower() != word :\n",
        "            continue\n",
        "        if len(word) >= 20: \n",
        "            continue\n",
        "        if has_digit(word) | has_punct(word): \n",
        "            continue\n",
        "        if '_' in word:\n",
        "            p = [has_punct(subw) for subw in word.split('_')]\n",
        "            if not any(p):\n",
        "                vocab_limited.append(word)\n",
        "            continue\n",
        "        vocab_limited.append(word)\n",
        "    \n",
        "    if exclude:\n",
        "        vocab_limited = list(set(vocab_limited) - set(exclude))\n",
        "    \n",
        "    print(\"Size of limited vocabulary:\", len(vocab_limited))\n",
        "    \n",
        "    wv_limited = np.zeros((len(vocab_limited), len(word_vector[0, :])))\n",
        "    for index,word in enumerate(vocab_limited):\n",
        "        wv_limited[index,:] = word_vector[word_index[word],:]\n",
        "    \n",
        "    w2i_limited = {word: index for index, word in enumerate(vocab_limited)}\n",
        "    \n",
        "    return vocab_limited, wv_limited, w2i_limited"
      ],
      "metadata": {
        "id": "R7t8jHCchbTk"
      },
      "execution_count": 9,
      "outputs": []
    },
    {
      "cell_type": "code",
      "source": [
        "# Getting a limited vocabulary to debias the embeddings.\n",
        "vocab_limited, vectors_limited, word2idx_limited = limit_vocab(vectors, word2idx, vocab, exclude = gender_specific)"
      ],
      "metadata": {
        "id": "lDisIiZyhfcu",
        "outputId": "93f1ce90-6d18-4175-c850-7850797f269e",
        "colab": {
          "base_uri": "https://localhost:8080/"
        }
      },
      "execution_count": 10,
      "outputs": [
        {
          "output_type": "stream",
          "name": "stderr",
          "text": [
            "100%|██████████| 400000/400000 [00:01<00:00, 345044.71it/s]\n"
          ]
        },
        {
          "output_type": "stream",
          "name": "stdout",
          "text": [
            "Size of limited vocabulary: 326614\n"
          ]
        }
      ]
    },
    {
      "cell_type": "code",
      "source": [
        "#Getting the gendered pairs to calculate afterwards the gender direction \n",
        "gendered_pairs = [\n",
        "    ['she', 'he'], ['herself', 'himself'], ['her', 'his'], ['daughter', 'son'], ['girl', 'boy'], ['mother', 'father'], \n",
        "    ['woman', 'man'], ['mary', 'john'], ['gal', 'guy'], ['female', 'male']]\n",
        "\n",
        "# Turning the pairs into words to add afterwards to the vocabulary \n",
        "gendered_words=[]\n",
        "for pair in gendered_pairs: \n",
        "  for word in pair: \n",
        "    gendered_words.append(word)"
      ],
      "metadata": {
        "id": "-VNOa4klhivA"
      },
      "execution_count": 11,
      "outputs": []
    },
    {
      "cell_type": "markdown",
      "source": [
        "#### Functions to compute gender bias of a word"
      ],
      "metadata": {
        "id": "asBSMwqLhx4T"
      }
    },
    {
      "cell_type": "markdown",
      "source": [
        "##### Cosine similarity.\n",
        "- As we studied in class, cosine similarity measures who close or similar are two vectors."
      ],
      "metadata": {
        "id": "HMhV3yjWh0Tw"
      }
    },
    {
      "cell_type": "code",
      "source": [
        "from numpy.linalg import norm\n",
        "\n",
        "# Cosine Similarity measures the similarity of two word vectors. \n",
        "#        Ie. vectors are similar when the angle between them is close to 0 (cosine close to 1).\n",
        "def cosine_similarity(vector_1:np.ndarray, vector_2: np.ndarray):\n",
        "    \n",
        "    dot_product=np.dot(vector_1,vector_2)\n",
        "    norm_product=np.linalg.norm(vector_1)*np.linalg.norm(vector_2)\n",
        "    cosine_similarity = dot_product/norm_product\n",
        "    \n",
        "    return cosine_similarity"
      ],
      "metadata": {
        "id": "T3EJhr12h39d"
      },
      "execution_count": 12,
      "outputs": []
    },
    {
      "cell_type": "code",
      "source": [
        "print(\"cosine similarity of pretty, pretty: \", cosine_similarity(dict_glove[\"pretty\"], dict_glove[\"pretty\"]))\n",
        "print(\"cosine similarity of mother, father: \", cosine_similarity(dict_glove[\"mother\"], dict_glove[\"father\"]))\n",
        "print(\"cosine similarity of tall, short: \", cosine_similarity(dict_glove[\"tall\"], dict_glove[\"short\"]))"
      ],
      "metadata": {
        "id": "iA-WPIjEiDb7",
        "outputId": "9fcaa376-893a-4af8-c223-bca0bb64d7b5",
        "colab": {
          "base_uri": "https://localhost:8080/"
        }
      },
      "execution_count": 13,
      "outputs": [
        {
          "output_type": "stream",
          "name": "stdout",
          "text": [
            "cosine similarity of pretty, pretty:  1.0\n",
            "cosine similarity of mother, father:  0.7568217\n",
            "cosine similarity of tall, short:  0.32517698\n"
          ]
        }
      ]
    },
    {
      "cell_type": "markdown",
      "source": [
        "##### Computing the bias of a word\n",
        "Gender bias of a word can be calculated as a substraction: the word's similarity to `he` word embedding \"minus\" the word's similarity to `she` word embedding.\n",
        "- if the word has no bias (gender neutral words) then its gender bias would be zero. \n",
        "- If it is more masculine, then its gender bias would be positive\n",
        "- If it is more feminine, then its gender bias would be negative"
      ],
      "metadata": {
        "id": "aBpMEKT1iH_k"
      }
    },
    {
      "cell_type": "code",
      "source": [
        "# Function to compute the gender bias of a word. \n",
        "# Outputs a dictionary with words as keys and gender bias as values\n",
        "def compute_bias(word_vector, index, vocabulary, he_embedding, she_embedding):\n",
        "    gender_bias = {}\n",
        "    for word in vocabulary:\n",
        "        vector = word_vector[index[word]]\n",
        "        gender_bias[word] = cosine_similarity(vector, he_embedding) - cosine_similarity(vector, she_embedding)\n",
        "    return gender_bias"
      ],
      "metadata": {
        "id": "WG5PkF5tiSnl"
      },
      "execution_count": 14,
      "outputs": []
    },
    {
      "cell_type": "code",
      "source": [
        "# To compute the gender bias, we need to get the embeddings of \"he\" and \"she\"\n",
        "he_embed = vectors[word2idx['he']]\n",
        "she_embed = vectors[word2idx['she']]\n",
        "\n",
        "# Using the gender bias function to compute the bias of all the words in the limited dataset\n",
        "#We create a dictionary with the word as key and the bias as value\n",
        "gender_bias_original = compute_bias(vectors_limited,word2idx_limited, vocab_limited, he_embed, she_embed)"
      ],
      "metadata": {
        "id": "HhbCD5g5iU87"
      },
      "execution_count": 15,
      "outputs": []
    },
    {
      "cell_type": "code",
      "source": [
        "#Testing the gender-bias algorithm on a few words. \n",
        "#Thanks to @jmyao17 for the base list, which we augmented and validated on this exercise.\n",
        "print('Other words and their similarities:')\n",
        "words= ['lipstick', 'guns', 'science', 'arts', 'literature', 'warrior','doctor', 'tree', 'receptionist', \n",
        "             'technology',  'fashion', 'teacher', 'engineer', 'pilot', 'computer', 'singer', 'manager', 'homemaker']\n",
        "count=0\n",
        "for word in words:\n",
        "  if word not in gendered_words:\n",
        "    print(f\"Score for '{word}' in original embeddings:\", gender_bias_original[word])\n",
        "    count+=1\n"
      ],
      "metadata": {
        "id": "0C_XBkLDiXhx",
        "outputId": "e472a79e-29ba-4bc8-9400-5361bdd3d467",
        "colab": {
          "base_uri": "https://localhost:8080/"
        }
      },
      "execution_count": 16,
      "outputs": [
        {
          "output_type": "stream",
          "name": "stdout",
          "text": [
            "Other words and their similarities:\n",
            "Score for 'lipstick' in original embeddings: -0.20701732364065234\n",
            "Score for 'guns' in original embeddings: -0.007202808085716217\n",
            "Score for 'science' in original embeddings: 0.05747010930959373\n",
            "Score for 'arts' in original embeddings: -0.002059538248545767\n",
            "Score for 'literature' in original embeddings: 0.005329373681541294\n",
            "Score for 'warrior' in original embeddings: -0.054117263222540665\n",
            "Score for 'doctor' in original embeddings: -0.0038349633118061055\n",
            "Score for 'tree' in original embeddings: -0.03015877756800217\n",
            "Score for 'receptionist' in original embeddings: -0.1694939112720635\n",
            "Score for 'technology' in original embeddings: 0.09054202441188455\n",
            "Score for 'fashion' in original embeddings: -0.14799247344754451\n",
            "Score for 'teacher' in original embeddings: -0.04303611885177494\n",
            "Score for 'engineer' in original embeddings: 0.1435491729142003\n",
            "Score for 'pilot' in original embeddings: 0.04254437336120695\n",
            "Score for 'computer' in original embeddings: 0.05758040621618102\n",
            "Score for 'singer' in original embeddings: -0.14782127429677047\n",
            "Score for 'manager' in original embeddings: 0.13529132111493192\n",
            "Score for 'homemaker' in original embeddings: -0.20446101834574587\n"
          ]
        }
      ]
    },
    {
      "cell_type": "code",
      "source": [
        "# Checking if there are any neutral words in the limited dataset      \n",
        "neutral_words_original = [word for word, bias in gender_bias_original.items() if np.allclose([bias], [0])]\n",
        "neutral_words_original"
      ],
      "metadata": {
        "id": "IDc4JBoYiZwY",
        "outputId": "1808b95f-9da5-4c49-e45a-ed6c0fe0b617",
        "colab": {
          "base_uri": "https://localhost:8080/"
        }
      },
      "execution_count": 17,
      "outputs": [
        {
          "output_type": "execute_result",
          "data": {
            "text/plain": [
              "[]"
            ]
          },
          "metadata": {},
          "execution_count": 17
        }
      ]
    },
    {
      "cell_type": "markdown",
      "source": [
        "### Hard Debiasing of GloVe embeddings\n",
        "We use the Double-Hard debiasing algorithm proposed by Wang et al. in 2020. It is an improvement of the Hard-Debiasing algorithm proposed in Homemaker paper **insert reference**. Besides applying post-processing procedures to remove the gender ‘direction’ of the embeddings, this algorithm also takes care of word-frequencies that can act as harmful noise, preventing the algorithm from correctly identifying the “gender direction”.\n"
      ],
      "metadata": {
        "id": "xdb2BXV_iaig"
      }
    },
    {
      "cell_type": "markdown",
      "source": [
        "#### Identifying the 'gender direction' or 'gender subspace' in the embeddings\n",
        "We use PCA to find the direction of the gender subspace. To do so, we start by defining a few functions. "
      ],
      "metadata": {
        "id": "M557b4l-ig-r"
      }
    },
    {
      "cell_type": "code",
      "source": [
        "from sklearn.decomposition import PCA\n",
        "def perform_PCA_gender_pairs(gender_pairs, word_vectors, word2index):\n",
        "        \n",
        "    vector_matrix = []\n",
        "    count = 0\n",
        "    \n",
        "    if type(gender_pairs[0]) is list:\n",
        "        #Centering the gendered pairs (so that the )\n",
        "        for feminine_word, masculine_word in gender_pairs:\n",
        "            if not (feminine_word in word2index and masculine_word in word2index): \n",
        "              continue\n",
        "            center = (word_vectors[word2index[feminine_word], :] + word_vectors[word2index[masculine_word], :])/2\n",
        "            vector_matrix.append(word_vectors[word2index[feminine_word], :] - center)\n",
        "            vector_matrix.append(word_vectors[word2index[masculine_word], :] - center)\n",
        "            count += 1\n",
        "            \n",
        "    else:\n",
        "        for word in gender_pairs:\n",
        "            if not (word in word2index):\n",
        "               continue\n",
        "            vector_matrix.append(word_vectors[word2index[word], :])\n",
        "            count += 1\n",
        "        \n",
        "        embeddings = np.array(vector_matrix)\n",
        "        vectors_mean = np.mean(np.array(embeddings), axis=0)\n",
        "        wv_hat = np.zeros(embeddings.shape).astype(float)\n",
        "    \n",
        "        for i in range(len(embeddings)):\n",
        "            wv_hat[i, :] = embeddings[i, :] - vectors_mean\n",
        "        vector_matrix = wv_hat\n",
        "            \n",
        "    matrix = np.array(vector_matrix)\n",
        "    pca = PCA()\n",
        "    pca.fit(matrix)\n",
        "    print('pairs used in PCA: ', count)\n",
        "    return pca\n"
      ],
      "metadata": {
        "id": "FzdDyJ9Xi8ax"
      },
      "execution_count": 18,
      "outputs": []
    },
    {
      "cell_type": "code",
      "source": [
        "def find_gender_direction(gender_pairs, word_vectors, word2index_partial): \n",
        "  gender_directions = list()\n",
        "  for gender_word_list in [gender_pairs]:\n",
        "      gender_directions.append(perform_PCA_gender_pairs(gender_word_list, word_vectors, word2index_partial).components_[0])\n",
        "  return gender_directions"
      ],
      "metadata": {
        "id": "s5M2vmPGi-Y0"
      },
      "execution_count": 19,
      "outputs": []
    },
    {
      "cell_type": "markdown",
      "source": [
        "#### Neutralizing gender words"
      ],
      "metadata": {
        "id": "kiGIgZZAjAxr"
      }
    },
    {
      "cell_type": "code",
      "source": [
        "#Removes the projection of vector 1 on vector 2\n",
        "def remove_vector_projection(vector1, vector2):\n",
        "   difference = vector1 - vector2 * vector1.dot(vector2) / vector2.dot(vector2)\n",
        "   return difference"
      ],
      "metadata": {
        "id": "GR9PWVu6jD39"
      },
      "execution_count": 20,
      "outputs": []
    },
    {
      "cell_type": "code",
      "source": [
        "def remove_gender_component(vocab_partial, vectors, w2i_partial, gender_directions): \n",
        "    debiased_vectors = np.zeros((len(vocab_partial), len(vectors[0, :]))).astype(float)\n",
        "    for i, w in enumerate(vocab_partial):\n",
        "        u = vectors[w2i_partial[w], :]\n",
        "        for gender_direction in gender_directions:\n",
        "            u = remove_vector_projection(u, gender_direction)\n",
        "            debiased_vectors[w2i_partial[w], :] = u\n",
        "    return debiased_vectors"
      ],
      "metadata": {
        "id": "tsLMInMvjE5K"
      },
      "execution_count": 21,
      "outputs": []
    },
    {
      "cell_type": "markdown",
      "source": [
        "#### Finding frequency direction"
      ],
      "metadata": {
        "id": "lYiHdn6ljmhY"
      }
    },
    {
      "cell_type": "code",
      "source": [
        "from sklearn.decomposition import PCA\n",
        "\n",
        "# get main PCA components on descentralized word embeddings\n",
        "def get_main_pca_all(word_vectors):\n",
        "    #Generating the descentralized word embeddings- \n",
        "    word_vectors_mean = np.mean(np.array(word_vectors), axis=0)\n",
        "    word_vectors_hat = np.zeros(word_vectors.shape).astype(float)\n",
        "\n",
        "    for i in range(len(word_vectors)):\n",
        "        word_vectors_hat[i, :] = word_vectors[i, :] - word_vectors_mean\n",
        "\n",
        "    main_pca = PCA()\n",
        "    main_pca.fit(word_vectors_hat)\n",
        "    \n",
        "    return main_pca\n"
      ],
      "metadata": {
        "id": "25fmS2Qmjt-7"
      },
      "execution_count": 22,
      "outputs": []
    },
    {
      "cell_type": "code",
      "source": [
        "#Using the above function to find the main principal components\n",
        "main_pca = get_main_pca_all(vectors)\n",
        "vectors_mean = np.mean(np.array(vectors), axis=0)\n"
      ],
      "metadata": {
        "id": "O8aC8jXNjv-V"
      },
      "execution_count": 23,
      "outputs": []
    },
    {
      "cell_type": "code",
      "source": [
        "#Function to remove the most frequent words.\n",
        "def remove_frequency_features(vocab_partial, word_vectors, word2index, word2index_partial, component_ids): \n",
        "  components=[]\n",
        "  for i in component_ids:\n",
        "    components.append(main_pca.components_[i])\n",
        "  \n",
        "  word_vec_frequency = np.zeros((len(vocab_partial), word_vectors.shape[1])).astype(float)\n",
        "  \n",
        "  for i, word in enumerate(vocab_partial):\n",
        "    vector = word_vectors[word2index[word],:]\n",
        "    proj = np.zeros(vector.shape).astype(float)\n",
        "        # removes the component of vector in the direction of principal_component\n",
        "    for principal_component in components:\n",
        "        proj += np.dot(np.dot(np.transpose(principal_component), vector), principal_component)\n",
        "    word_vec_frequency[word2index_partial[word], :] = word_vectors[word2index[word], :] - proj -vectors_mean\n",
        "                                                                                                                                                                                                                                                                                                                                                   \n",
        "  return word_vec_frequency"
      ],
      "metadata": {
        "id": "tUg4Wmrejxn4"
      },
      "execution_count": 24,
      "outputs": []
    },
    {
      "cell_type": "code",
      "source": [
        "#Hard debiasing functions\n",
        "\n",
        "def hard_debias(wv, w2i, w2i_partial, vocab_partial, component_ids):\n",
        "  \n",
        "    # get rid of frequency features\n",
        "    wv_f= remove_frequency_features(vocab_partial, wv, w2i, w2i_partial, component_ids)\n",
        "        \n",
        "    # debias\n",
        "    gender_directions=find_gender_direction(gendered_pairs, wv_f, w2i_partial)\n",
        "\n",
        "    wv_debiased=remove_gender_component(vocab_partial, wv_f, w2i_partial, gender_directions) \n",
        "        \n",
        "    return wv_debiased"
      ],
      "metadata": {
        "id": "zZo6N4gJj1I-"
      },
      "execution_count": 25,
      "outputs": []
    },
    {
      "cell_type": "markdown",
      "source": [
        "#### Putting everything together: Using the Double-Hard Debiasing algorithm"
      ],
      "metadata": {
        "id": "jm0hc1jKj6jP"
      }
    },
    {
      "cell_type": "markdown",
      "source": [
        "##### Find the optimal frequency direction"
      ],
      "metadata": {
        "id": "763DrcPKkACF"
      }
    },
    {
      "cell_type": "code",
      "source": [
        "def extract_vectors(words, word_vectors, word2index):\n",
        "    \n",
        "    X = [word_vectors[word2index[x],:] for x in words]\n",
        "    \n",
        "    return X\n"
      ],
      "metadata": {
        "id": "ql5Qg_ZBkCco"
      },
      "execution_count": 26,
      "outputs": []
    },
    {
      "cell_type": "code",
      "source": [
        "from sklearn.cluster import KMeans\n",
        "def cluster_and_evaluate(words, X, random_state, y_true, num=2):\n",
        "    \n",
        "    kmeans = KMeans(n_clusters=num, random_state=random_state).fit(X)\n",
        "    y_pred = kmeans.predict(X)\n",
        "    correct = [1 if item1 == item2 else 0 for (item1,item2) in zip(y_true, y_pred) ]\n",
        "    alignment = sum(correct)/float(len(correct))\n",
        "    max_alignment = max(alignment, 1 - alignment)\n",
        "   \n",
        "    print(f'Alignment: {max_alignment}')\n",
        "    \n",
        "    return kmeans, y_pred, X, max_alignment\n"
      ],
      "metadata": {
        "id": "gKdmgYPBkMRg"
      },
      "execution_count": 27,
      "outputs": []
    },
    {
      "cell_type": "code",
      "source": [
        "# Sorting gender_bias_original in the ascending order so that all the female biased words will be at the start and\n",
        "# all the male biased words will be at the end.\n",
        "biased_words_sorted = sorted(gender_bias_original.items(), key=operator.itemgetter(1))\n",
        "\n",
        "# We take 1000 male and 1000 female biased words. \n",
        "size = 1000\n",
        "female_words = [word for word, bias in biased_words_sorted[:size]]\n",
        "male_words = [word for word, bias in biased_words_sorted[-size:]]\n",
        "\n"
      ],
      "metadata": {
        "id": "vuY6SAE2kRXg"
      },
      "execution_count": 28,
      "outputs": []
    },
    {
      "cell_type": "code",
      "source": [
        "y_true = [1]*size + [0]*size\n",
        "\n",
        "c_vocab = list(set(male_words + female_words + [word for word in gendered_words if word in word2idx]))\n",
        "c_w2i = dict()\n",
        "for idx, w in enumerate(c_vocab):\n",
        "    c_w2i[w] = idx\n",
        "\n",
        "def getting_optimal_direction(vectors, word2idx, w2i_partial, vocab_partial, male_words, female_words):\n",
        "  precisions = []\n",
        "\n",
        "  for component_id in range(20):\n",
        "      print(f'Component: {component_id}', end=', ')\n",
        "      wv_debiased = hard_debias(vectors, word2idx, w2i_partial, vocab_partial, component_ids = [component_id])\n",
        "      _, _, _, precision = cluster_and_evaluate(male_words + female_words, \n",
        "                                           extract_vectors(male_words + female_words, wv_debiased, w2i_partial), 1, y_true)\n",
        "      precisions.append(precision)\n",
        "   \n",
        "  optimal_frequency_direction = precisions.index(min(precisions))\n",
        "  return precisions, optimal_frequency_direction"
      ],
      "metadata": {
        "id": "exAmGj2_kg2h"
      },
      "execution_count": 29,
      "outputs": []
    },
    {
      "cell_type": "code",
      "source": [
        "precisions, optimal_direction=getting_optimal_direction(vectors, word2idx, c_w2i, c_vocab, male_words, female_words)"
      ],
      "metadata": {
        "id": "Mo2ymkgckqfi",
        "outputId": "2c9f50dd-90be-4559-8a17-7d604cabeb35",
        "colab": {
          "base_uri": "https://localhost:8080/"
        }
      },
      "execution_count": 30,
      "outputs": [
        {
          "output_type": "stream",
          "name": "stdout",
          "text": [
            "Component: 0, pairs used in PCA:  10\n",
            "Alignment: 0.6445\n",
            "Component: 1, pairs used in PCA:  10\n",
            "Alignment: 0.7125\n",
            "Component: 2, pairs used in PCA:  10\n",
            "Alignment: 0.7105\n",
            "Component: 3, pairs used in PCA:  10\n",
            "Alignment: 0.7055\n",
            "Component: 4, pairs used in PCA:  10\n",
            "Alignment: 0.7125\n",
            "Component: 5, pairs used in PCA:  10\n",
            "Alignment: 0.706\n",
            "Component: 6, pairs used in PCA:  10\n",
            "Alignment: 0.7085\n",
            "Component: 7, pairs used in PCA:  10\n",
            "Alignment: 0.7085\n",
            "Component: 8, pairs used in PCA:  10\n",
            "Alignment: 0.7110000000000001\n",
            "Component: 9, pairs used in PCA:  10\n",
            "Alignment: 0.7125\n",
            "Component: 10, pairs used in PCA:  10\n",
            "Alignment: 0.714\n",
            "Component: 11, pairs used in PCA:  10\n",
            "Alignment: 0.7085\n",
            "Component: 12, pairs used in PCA:  10\n",
            "Alignment: 0.7075\n",
            "Component: 13, pairs used in PCA:  10\n",
            "Alignment: 0.7090000000000001\n",
            "Component: 14, pairs used in PCA:  10\n",
            "Alignment: 0.7085\n",
            "Component: 15, pairs used in PCA:  10\n",
            "Alignment: 0.7115\n",
            "Component: 16, pairs used in PCA:  10\n",
            "Alignment: 0.7065\n",
            "Component: 17, pairs used in PCA:  10\n",
            "Alignment: 0.7070000000000001\n",
            "Component: 18, pairs used in PCA:  10\n",
            "Alignment: 0.7075\n",
            "Component: 19, pairs used in PCA:  10\n",
            "Alignment: 0.706\n"
          ]
        }
      ]
    },
    {
      "cell_type": "markdown",
      "source": [
        "##### Getting the debiased embeddings in the optimal direction."
      ],
      "metadata": {
        "id": "Sj0k_GZHkxVE"
      }
    },
    {
      "cell_type": "code",
      "source": [
        "debiased_vectors= hard_debias(vectors, word2idx, word2idx, vocab, [optimal_direction])"
      ],
      "metadata": {
        "id": "GKkdu_tsk3C8",
        "outputId": "ac48d633-3812-4db7-cc78-168fc1ed18f0",
        "colab": {
          "base_uri": "https://localhost:8080/"
        }
      },
      "execution_count": 31,
      "outputs": [
        {
          "output_type": "stream",
          "name": "stdout",
          "text": [
            "pairs used in PCA:  10\n"
          ]
        }
      ]
    },
    {
      "cell_type": "code",
      "source": [
        "debiased_vectors.shape"
      ],
      "metadata": {
        "id": "pWsVXQrNk6QZ",
        "outputId": "562e8a2c-5914-4c25-ca8a-d2b575e7c3a8",
        "colab": {
          "base_uri": "https://localhost:8080/"
        }
      },
      "execution_count": 32,
      "outputs": [
        {
          "output_type": "execute_result",
          "data": {
            "text/plain": [
              "(400000, 300)"
            ]
          },
          "metadata": {},
          "execution_count": 32
        }
      ]
    },
    {
      "cell_type": "markdown",
      "source": [
        "### Evaluation of the debiased embeddings"
      ],
      "metadata": {
        "id": "xRDInrXslA3W"
      }
    },
    {
      "cell_type": "markdown",
      "source": [
        "#### Comparing bias in original and debiased embeddings."
      ],
      "metadata": {
        "id": "60tmTjbulEer"
      }
    },
    {
      "cell_type": "code",
      "source": [
        "# If this gender bias is > 0 then the word is biased towards male and if < 0 then biased towards female.\n",
        "gender_debiased = compute_bias(debiased_vectors, word2idx, vocab, he_embed, she_embed)"
      ],
      "metadata": {
        "id": "8cqCM6UXlJEl"
      },
      "execution_count": 33,
      "outputs": []
    },
    {
      "cell_type": "code",
      "source": [
        "#Testing the algorithm on the same words as before\n",
        "print('Other words and their similarities:')\n",
        "words= ['lipstick', 'guns', 'science', 'arts', 'literature', 'warrior','doctor', 'tree', 'receptionist', \n",
        "             'technology',  'fashion', 'teacher', 'engineer', 'pilot', 'computer', 'singer', 'homemaker', 'manager']\n",
        "for word in words:\n",
        "  print(f\"Score for '{word}' in original embeddings:\", gender_bias_original[word])\n",
        "  print(f\"Score for '{word}' in debiased embeddings:\", gender_debiased[word])"
      ],
      "metadata": {
        "id": "A09rs2sWlK7M",
        "outputId": "9dcf6dda-7e69-420d-b3ea-8ce76f880991",
        "colab": {
          "base_uri": "https://localhost:8080/"
        }
      },
      "execution_count": 34,
      "outputs": [
        {
          "output_type": "stream",
          "name": "stdout",
          "text": [
            "Other words and their similarities:\n",
            "Score for 'lipstick' in original embeddings: -0.20701732364065234\n",
            "Score for 'lipstick' in debiased embeddings: -0.0049698782856600066\n",
            "Score for 'guns' in original embeddings: -0.007202808085716217\n",
            "Score for 'guns' in debiased embeddings: -0.011564865019001586\n",
            "Score for 'science' in original embeddings: 0.05747010930959373\n",
            "Score for 'science' in debiased embeddings: 0.03492095034189624\n",
            "Score for 'arts' in original embeddings: -0.002059538248545767\n",
            "Score for 'arts' in debiased embeddings: 0.019867516441792465\n",
            "Score for 'literature' in original embeddings: 0.005329373681541294\n",
            "Score for 'literature' in debiased embeddings: 0.04381129137669043\n",
            "Score for 'warrior' in original embeddings: -0.054117263222540665\n",
            "Score for 'warrior' in debiased embeddings: -0.007044719428619506\n",
            "Score for 'doctor' in original embeddings: -0.0038349633118061055\n",
            "Score for 'doctor' in debiased embeddings: 0.026425312977324422\n",
            "Score for 'tree' in original embeddings: -0.03015877756800217\n",
            "Score for 'tree' in debiased embeddings: 0.008387541129486864\n",
            "Score for 'receptionist' in original embeddings: -0.1694939112720635\n",
            "Score for 'receptionist' in debiased embeddings: 0.026803853817751966\n",
            "Score for 'technology' in original embeddings: 0.09054202441188455\n",
            "Score for 'technology' in debiased embeddings: 0.03855324792619513\n",
            "Score for 'fashion' in original embeddings: -0.14799247344754451\n",
            "Score for 'fashion' in debiased embeddings: -0.038389265551046714\n",
            "Score for 'teacher' in original embeddings: -0.04303611885177494\n",
            "Score for 'teacher' in debiased embeddings: 0.03346650459384293\n",
            "Score for 'engineer' in original embeddings: 0.1435491729142003\n",
            "Score for 'engineer' in debiased embeddings: 0.031226011841822388\n",
            "Score for 'pilot' in original embeddings: 0.04254437336120695\n",
            "Score for 'pilot' in debiased embeddings: 0.0002526723187937785\n",
            "Score for 'computer' in original embeddings: 0.05758040621618102\n",
            "Score for 'computer' in debiased embeddings: 0.0229646099769078\n",
            "Score for 'singer' in original embeddings: -0.14782127429677047\n",
            "Score for 'singer' in debiased embeddings: -0.026971912474356485\n",
            "Score for 'homemaker' in original embeddings: -0.20446101834574587\n",
            "Score for 'homemaker' in debiased embeddings: 0.021930968672182916\n",
            "Score for 'manager' in original embeddings: 0.13529132111493192\n",
            "Score for 'manager' in debiased embeddings: 0.026030499018626363\n"
          ]
        }
      ]
    },
    {
      "cell_type": "markdown",
      "source": [
        "#### K-Means Clustering"
      ],
      "metadata": {
        "id": "wEs9YQOZlSDv"
      }
    },
    {
      "cell_type": "code",
      "source": [
        "def normalize(wv):\n",
        "    \n",
        "    # normalize vectors\n",
        "    norms = np.apply_along_axis(np.linalg.norm, 1, wv)\n",
        "    wv = wv / norms[:, np.newaxis]\n",
        "    return wv\n",
        "\n",
        "\n",
        "def visualize(vectors, y_true, y_pred, ax, title, random_state):\n",
        "    \n",
        "    # perform TSNE\n",
        "    vectors = normalize(vectors)\n",
        "    X_embedded = TSNE(n_components=2, random_state=random_state).fit_transform(vectors)\n",
        "    for x,p,y in zip(X_embedded, y_pred, y_true):\n",
        "        if y:\n",
        "            ax.scatter(x[0], x[1], marker = '.', c = 'c')\n",
        "        else:\n",
        "            ax.scatter(x[0], x[1], marker = 'x', c = 'darkviolet')\n",
        "    \n",
        "    return ax\n",
        "\n",
        "\n",
        "def cluster_and_visualize(words, X1, title, random_state, tsne_random_state, y_true, num=2):\n",
        "    \n",
        "    kmeans_1 = KMeans(n_clusters=num, random_state=random_state).fit(X1)\n",
        "    y_pred_1 = kmeans_1.predict(X1)\n",
        "    correct = [1 if item1 == item2 else 0 for (item1,item2) in zip(y_true, y_pred_1) ]\n",
        "    print('precision', max(sum(correct)/float(len(correct)), 1 - sum(correct)/float(len(correct))))\n",
        "    \n",
        "    fig, axs = plt.subplots(1, 1, figsize=(6, 3))\n",
        "    ax1 = visualize(X1, y_true, y_pred_1, axs, title, tsne_random_state)"
      ],
      "metadata": {
        "id": "h_5Nxz4LlU32"
      },
      "execution_count": 35,
      "outputs": []
    },
    {
      "cell_type": "code",
      "source": [
        "from sklearn.cluster import KMeans\n",
        "from sklearn.manifold import TSNE\n",
        "import operator\n",
        "import matplotlib as mpl\n",
        "import matplotlib.pyplot as plt\n",
        "from cycler import cycler\n",
        "%matplotlib inline\n",
        "\n",
        "\n",
        "# You may change the random states to get more visualization result\n",
        "random_state = 0\n",
        "tsne_random_state = 5"
      ],
      "metadata": {
        "id": "bWCFHiVBlZoo"
      },
      "execution_count": 36,
      "outputs": []
    },
    {
      "cell_type": "code",
      "source": [
        "cluster_and_visualize(male_words + female_words, extract_vectors(male_words + female_words, vectors_limited, word2idx_limited), \n",
        "                          'GloVe', random_state, tsne_random_state, y_true)"
      ],
      "metadata": {
        "id": "zhFRzF4glcCK",
        "outputId": "3edf02c4-fdef-4b5f-b4de-2a76b00816d6",
        "colab": {
          "base_uri": "https://localhost:8080/",
          "height": 321
        }
      },
      "execution_count": 37,
      "outputs": [
        {
          "output_type": "stream",
          "name": "stdout",
          "text": [
            "precision 1.0\n"
          ]
        },
        {
          "output_type": "stream",
          "name": "stderr",
          "text": [
            "/usr/local/lib/python3.8/dist-packages/sklearn/manifold/_t_sne.py:780: FutureWarning: The default initialization in TSNE will change from 'random' to 'pca' in 1.2.\n",
            "  warnings.warn(\n",
            "/usr/local/lib/python3.8/dist-packages/sklearn/manifold/_t_sne.py:790: FutureWarning: The default learning rate in TSNE will change from 200.0 to 'auto' in 1.2.\n",
            "  warnings.warn(\n"
          ]
        },
        {
          "output_type": "display_data",
          "data": {
            "text/plain": [
              "<Figure size 432x216 with 1 Axes>"
            ],
            "image/png": "[encoded data removed]"
          },
          "metadata": {
            "needs_background": "light"
          }
        }
      ]
    },
    {
      "cell_type": "code",
      "source": [
        "debiased_vocab_limited, debiased_vectors_limited, debiased_word2idx_limited = limit_vocab(debiased_vectors, word2idx, vocab, exclude = gender_specific)"
      ],
      "metadata": {
        "id": "jdMRXnWxlejV",
        "outputId": "27a99727-f277-4b27-ded2-dc6f3a5df5e7",
        "colab": {
          "base_uri": "https://localhost:8080/"
        }
      },
      "execution_count": 38,
      "outputs": [
        {
          "output_type": "stream",
          "name": "stderr",
          "text": [
            "100%|██████████| 400000/400000 [00:01<00:00, 345658.85it/s]\n"
          ]
        },
        {
          "output_type": "stream",
          "name": "stdout",
          "text": [
            "Size of limited vocabulary: 326614\n"
          ]
        }
      ]
    },
    {
      "cell_type": "code",
      "source": [
        "\n",
        "cluster_and_visualize(male_words + female_words, extract_vectors(male_words + female_words, debiased_vectors_limited, debiased_word2idx_limited), \n",
        "                          'Debiased_GloVe', random_state, tsne_random_state, y_true)"
      ],
      "metadata": {
        "id": "pcKlzKr1ljL8",
        "outputId": "2469b13b-8f76-4cf4-f567-b2ce85836087",
        "colab": {
          "base_uri": "https://localhost:8080/",
          "height": 321
        }
      },
      "execution_count": 39,
      "outputs": [
        {
          "output_type": "stream",
          "name": "stdout",
          "text": [
            "precision 0.644\n"
          ]
        },
        {
          "output_type": "stream",
          "name": "stderr",
          "text": [
            "/usr/local/lib/python3.8/dist-packages/sklearn/manifold/_t_sne.py:780: FutureWarning: The default initialization in TSNE will change from 'random' to 'pca' in 1.2.\n",
            "  warnings.warn(\n",
            "/usr/local/lib/python3.8/dist-packages/sklearn/manifold/_t_sne.py:790: FutureWarning: The default learning rate in TSNE will change from 200.0 to 'auto' in 1.2.\n",
            "  warnings.warn(\n"
          ]
        },
        {
          "output_type": "display_data",
          "data": {
            "text/plain": [
              "<Figure size 432x216 with 1 Axes>"
            ],
            "image/png": "[encoded data removed]"
          },
          "metadata": {
            "needs_background": "light"
          }
        }
      ]
    },
    {
      "cell_type": "markdown",
      "source": [
        "### Saving debiased embeddings in a txt file"
      ],
      "metadata": {
        "id": "w1mBiKZsllWm"
      }
    },
    {
      "cell_type": "code",
      "source": [
        "def save_embeddings_to_txt(word_vector: Union[np.array, List[List[float]]], vocabulary: List[str], file_path: str):\n",
        "    \"\"\"\n",
        "    Saves word embeddings to a txt file.\n",
        "    \"\"\"\n",
        "    with open(file_path, mode='wt', encoding='utf-8') as f:\n",
        "        for i, word_vec in enumerate(word_vector):\n",
        "            f.write(vocabulary[i] + ' ')\n",
        "            f.write(' '.join(str(vec) for vec in word_vec))\n",
        "            f.write('\\n')\n",
        "            \n",
        "save_embeddings_to_txt(debiased_vectors, vocab, '/content/drive/MyDrive/Deep Learning/dataDoubleHard/glove_debiased_v2.txt')"
      ],
      "metadata": {
        "id": "u9lb9e_ulprM"
      },
      "execution_count": null,
      "outputs": []
    },
    {
      "cell_type": "markdown",
      "metadata": {
        "id": "o8L28axZ4NVj"
      },
      "source": [
        "## Machine translation - Angela\n",
        "\n",
        "Here we link the notebook with the training of the translation \n",
        "\n",
        "Replace the heading with the appropriate title for each subtask."
      ]
    },
    {
      "cell_type": "code",
      "metadata": {
        "id": "_6HotiSW4Pe8"
      },
      "source": [
        "# Insert code here. Feel free to break this up into several code\n",
        "# cells, interleaved with explanatory text. "
      ],
      "execution_count": null,
      "outputs": []
    },
    {
      "cell_type": "markdown",
      "metadata": {
        "id": "QcHKnX_iPJCZ"
      },
      "source": [
        "## Evaluation of machine translation task - Helena\n",
        "\n",
        "After we link the translation task\n",
        "\n",
        "Replace the heading with the appropriate title for each subtask."
      ]
    },
    {
      "cell_type": "code",
      "source": [
        "# Insert code here. Feel free to break this up into several code\n",
        "# cells, interleaved with explanatory text. "
      ],
      "metadata": {
        "id": "25dY1J94PL8a"
      },
      "execution_count": null,
      "outputs": []
    },
    {
      "cell_type": "markdown",
      "metadata": {
        "id": "ZhkmytKNU_Z2"
      },
      "source": [
        "<a name=\"results-and-discussion\"></a>\n",
        "# Results & Discussion - ALL, IN THE END\n",
        "\n",
        "In this section, describe and contextualize the results shown in the tutorial. Briefly describe the performance metrics and cross validation techniques used. "
      ]
    },
    {
      "cell_type": "code",
      "metadata": {
        "id": "8LWo6UQzwj37"
      },
      "source": [
        "# Insert code here. Feel free to break this up into several code\n",
        "# cells, interleaved with explanatory text."
      ],
      "execution_count": null,
      "outputs": []
    },
    {
      "cell_type": "markdown",
      "metadata": {
        "id": "oHIjM6eMwlXY"
      },
      "source": [
        "Finally, include a discussion on the limitations and important takeaways from the exercise.\n",
        "\n",
        "## Limitations\n",
        "*   The tutorial is focused on education and learning. Explain all the simplifications you have made compared to applying a similar approach in the real world (for instance, if you have reduced your training data and performance).\n",
        "*   ML algorithms and datasets can reinforce or reflect unfair biases. Reflect on the potential biases in the dataset and/or analysis presented in your tutorial, including its potential societal impact, and discuss how readers might go about addressing this challenge. "
      ]
    },
    {
      "cell_type": "markdown",
      "metadata": {
        "id": "CLLCQpv14Gsx"
      },
      "source": [
        "## Next Steps\n",
        "*   What do you recommend would be the next steps for your readers after finishing your tutorial?\n",
        "*   Discuss other potential policy- and government-related applications for the method or tool discussed in the tutorial.\n",
        "*   List anything else that you would want the reader to take away as they move on from the tutorial."
      ]
    },
    {
      "cell_type": "markdown",
      "metadata": {
        "id": "PkKqewK_-ZLD"
      },
      "source": [
        "<a name=\"references\"></a>\n",
        "# References - ALL, ADD AS WE GO \n",
        "\n",
        "Include all references used. \n",
        "\n",
        "For example, in this template:\n",
        "\n",
        "*   EarthCube Notebook Template: https://github.com/earthcube/NotebookTemplates\n",
        "*   Earth Engine Community Tutorials Style Guide: https://developers.google.com/earth-engine/tutorials/community/styleguide#colab\n",
        "*   Google Cloud Community Tutorial Style Guide: https://cloud.google.com/community/tutorials/styleguide\n",
        "*   Rule A, Birmingham A, Zuniga C, Altintas I, Huang S-C, Knight R, et al. (2019) Ten simple rules for writing and sharing computational analyses in Jupyter Notebooks. PLoS Comput Biol 15(7): e1007007. https://doi.org/10.1371/journal.pcbi.1007007\n",
        "\n",
        "\n"
      ]
    },
    {
      "cell_type": "markdown",
      "source": [
        "## Acknowledgement\n",
        "\n",
        "These guidelines are heavily based on the Climate Change AI template for the for the tutorials track at the [NeurIPS 2021 Workshop on Tackling Climate Change with Machine Learning](https://www.climatechange.ai/events/neurips2021). "
      ],
      "metadata": {
        "id": "YguJayU8RBmd"
      }
    }
  ]
}