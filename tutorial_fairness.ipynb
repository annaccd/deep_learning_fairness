{
  "nbformat": 4,
  "nbformat_minor": 0,
  "metadata": {
    "colab": {
      "provenance": [],
      "toc_visible": true
    },
    "kernelspec": {
      "name": "python3",
      "display_name": "Python 3"
    },
    "language_info": {
      "name": "python"
    },
    "gpuClass": "standard"
  },
  "cells": [
    {
      "cell_type": "markdown",
      "metadata": {
        "id": "13i7KQ9t-CV8"
      },
      "source": [
        "# Tutorial Notebook Template\n",
        "## GRAD-E1394 Deep Learning -- Assignment 3\n",
        "Author(s):\n",
        "*   Author, Email\n",
        "\n",
        "This serves as a template for Assignment 3. \n",
        "\n",
        "To get started, replace the tutorial notebook title and author information accordingly (one bullet point per group member). Replace the information in this cell with a brief summary of the tutorial as well as users' expected learning outcomes. \n",
        "\n"
      ]
    },
    {
      "cell_type": "markdown",
      "metadata": {
        "id": "yNv0ANr5WcD_"
      },
      "source": [
        "# Table of Contents\n",
        "\n",
        "\n",
        "*   [Memo](#memo)\n",
        "*   [Overview](#overview)\n",
        "*   [Background & Prerequisites](#background-and-prereqs)\n",
        "*   [Software Requirements](#software-requirements)\n",
        "*   [Data Description](#data-description)\n",
        "*   [Methodology](#methodology)\n",
        "*   [Results & Discussion](#results-and-discussion)\n",
        "*   [References](#references)\n"
      ]
    },
    {
      "cell_type": "markdown",
      "metadata": {
        "id": "rqD_ftUYJE1n"
      },
      "source": [
        "# General Guidelines\n",
        "*(Please remove this and other guideline sections from your final tutorial submission.)*\n",
        "\n",
        "This template should help you create your tutorial. You may introduce modifications and extensions but adhere to the general principles for writing the tutorial:\n",
        "\n",
        "*   Be brief. \n",
        "    *  Keep it short and simple. Avoid unnecessary complexity.\n",
        "*   Clearly illustrate how the content relates to public policy. \n",
        "    *  Identify the ways in which this tutorial would help the users (your collegues) in their work.\n",
        "*   Provide enough context.\n",
        "    *  Explain important concepts directly in the tutorial notebook, but feel free to direct users to external resources when necessary.  \n",
        "*   Avoid or minimize the use of jargon. \n",
        "    *  Ideally, the content can be understood by both an ML audience and by people who are relatively new to ML and deep learning.\n",
        "*   Focus on readability and usability. \n",
        "    *  Interleave code cells with explanatory text, keeping your audience in mind.\n",
        "*   Follow guidelines to avoid plagiarism. \n",
        "    * Any verbatim text needs to be put in quotation marks. \n",
        "    * Do not copy code.\n",
        "    * Clearly reference ideas and work of others.\n",
        "    * [Hertie School Code of Conduct](https://hertieschool-f4e6.kxcdn.com/fileadmin/5_WhoWeAre/Code_of_Conduct.pdf)\n",
        "* Ensure reproducibility.\n",
        "    * Ensure that your notebook can be rerun by somebody else on a different machine in a reasonable amount of time. If the task is computationally expensive, provide an additional, smaller data sample for fast reproduction, and use that in your tutorial. \n",
        "\n",
        "## Additional Instructions\n",
        "We highly recommend that you follow the [Ten simple rules for writing and sharing computational analyses using Jupyter Notebooks](https://journals.plos.org/ploscompbiol/article?id=10.1371/journal.pcbi.1007007). We summarize the ten rules as follows:\n",
        "\n",
        "<center><img src=\"https://journals.plos.org/ploscompbiol/article/figure/image?size=large&id=info:doi/10.1371/journal.pcbi.1007007.g001\" width=400>\n",
        "\n",
        "<small>Rule, Adam, et al. \"Ten simple rules for writing and sharing computational analyses in Jupyter Notebooks.\" PLoS computational biology 15.7 (2019).</small></center>\n",
        "\n",
        "### Rule 1: Tell a story for an audience\n",
        "* Interleave explanatory text and code to tell a compelling story.\n",
        "* Describe not just what you did but why you did it.\n",
        "* How you tell your story depends on your goal and your audience.\n",
        "\n",
        "### Rule 2: Document the process, not just the results\n",
        "* Document relevant interactive explorations.\n",
        "* Don't wait until the end to add explanatory text.\n",
        "* Generate publication-ready version of figures from the get-go.\n",
        "\n",
        "### Rule 3: Use cell divisions to make steps clear\n",
        "* Each cell should perform one meaningful step in the analysis.\n",
        "* Think one cell = one paragraph, function, or task (e.g. creating a plot).\n",
        "* Avoid long cells (50+ lines) \n",
        "* Organize your notebook into sections/subsections.  \n",
        "\n",
        "### Rule 4: Modularize code\n",
        "* Avoid duplicate code (no copy-pasting!)\n",
        "* Wrap the code that you want to reuse in a function.\n",
        "* Use descriptive and meaningful variable and function names.\n",
        "\n",
        "### Rule 5: Record dependencies\n",
        "* Manage your dependencies using a package or environment manager (e.g. pip,conda)\n",
        "* Feel free to use tools like Binder or Docker to generate a \"container\" for better reproducibility. \n",
        "\n",
        "### Rule 6: Use version control\n",
        "- Google colab allows you to view revision history.\n",
        "- You can also opt to use Git and Github for version control.\n",
        "- As Jupyter uses JSON for serialization, tracking raw changes on GitHub is difficult. [ReviewNB](https://www.reviewnb.com/) and [nbdime](https://github.com/jupyter/nbdime) can help to generate human-readable diffs.\n",
        "\n",
        "### Rule 7: Build a pipeline\n",
        "* A well-designed notebook can be generalized into a pipeline.\n",
        "* Place key variable declarations at the top/beginning of the notebook.\n",
        "* Make a habit of regularly restarting your kernel and rerunning all cells.\n",
        "* Before submitting, reinstall all dependencies and rerun all cells in a new enviroment to ensure reproducibility.\n",
        "\n",
        "### Rule 8: Share and explain your data\n",
        "* Properly reference the data you use. \n",
        "* If using your own data, make your data or a sample of your data publicly available along with the notebook.\n",
        "* You can opt to host public copies of your data.\n",
        "\n",
        "### Rule 9: Design your notebooks to be read, run, and explored\n",
        "* Read: For code hosted in a public repository, add README and LICENSE files.\n",
        "* Run: Consider using Google Colab, Binder, or Docker for seamless replication.\n",
        "* Explore: Consider how you can design your notebook so future users can built on top of your work.\n",
        "\n",
        "### Rule 10: Advocate for open research"
      ]
    },
    {
      "cell_type": "markdown",
      "metadata": {
        "id": "QH81wjfsJsv1"
      },
      "source": [
        "<a name=\"memo\"></a>\n",
        "# Memo - FRANCI\n",
        "\n",
        "Write a memo for the leadership explaining in layman's terms why this topic is relevant for public policy. Discuss relevant research works, real-world examples of successful applications, and organizations and governments that apply such approaches for policy making. \n",
        "\n",
        "500 W\n",
        "\n",
        "Search for austrian case or other specific policy implementation area/case - something very concrete\n",
        "\n",
        "\n"
      ]
    },
    {
      "cell_type": "markdown",
      "source": [
        "<a name=\"overview\"></a>\n",
        "# Overview - ANNA, IN THE END\n",
        "\n",
        "In this section, provide a summary of the main contributions of the tutorial notebook. Note that the tutorial should introduce or demonstrate the use of a method, dataset, tool, or technology to address a problem related to public policy. Be clear on the goal of the tutorial and the expected learning outcomes for the users. \n"
      ],
      "metadata": {
        "id": "e2u40fYe3EOL"
      }
    },
    {
      "cell_type": "markdown",
      "metadata": {
        "id": "gQgijl46pYzn"
      },
      "source": [
        "<a name=\"background-and-prereqs\"></a>\n",
        "# Background & Prerequisites - ANNA \n",
        "\n",
        "You will need to specify the prerequisites and basic knowledge required for the tutorial. Afterwards, please provide a brief explanation of the most important concepts necessary for the users to follow the tutorial. \n",
        "\n",
        "Deep learning concepts - embeddings, machine translation, bias, how do language models work (language models)"
      ]
    },
    {
      "cell_type": "markdown",
      "metadata": {
        "id": "Ag9dvWcxqmEq"
      },
      "source": [
        "## Videos\n",
        "You may also opt to include short videos explaining relevant concepts.\n",
        "\n",
        "Example:\n",
        "\n",
        "SEARCH SOMETHING ON LANGUAGE MODELS"
      ]
    },
    {
      "cell_type": "code",
      "metadata": {
        "colab": {
          "base_uri": "https://localhost:8080/",
          "height": 321
        },
        "id": "E4aK3MI9qhfJ",
        "outputId": "044bd042-37c7-43d2-8a19-78dbc2dd6e46"
      },
      "source": [
        "from IPython.display import YouTubeVideo\n",
        "YouTubeVideo('aircAruvnKk')"
      ],
      "execution_count": null,
      "outputs": [
        {
          "output_type": "execute_result",
          "data": {
            "text/html": [
              "\n",
              "        <iframe\n",
              "            width=\"400\"\n",
              "            height=\"300\"\n",
              "            src=\"https://www.youtube.com/embed/aircAruvnKk\"\n",
              "            frameborder=\"0\"\n",
              "            allowfullscreen\n",
              "        ></iframe>\n",
              "        "
            ],
            "text/plain": [
              "<IPython.lib.display.YouTubeVideo at 0x7fd7ed14f0d0>"
            ],
            "image/jpeg": "[encoded data removed]"
          },
          "metadata": {
            "tags": []
          },
          "execution_count": 1
        }
      ]
    },
    {
      "cell_type": "markdown",
      "metadata": {
        "id": "7BpQklEEIFDD"
      },
      "source": [
        "## Reading materials\n",
        "Please include additional resources (e.g. research papers, blog posts, textbooks) for the readers to further study the topic of your tutorial.\n",
        "\n",
        "SAME AS BACKGROUND"
      ]
    },
    {
      "cell_type": "markdown",
      "metadata": {
        "id": "rSRCNgYzUwaf"
      },
      "source": [
        "<a name=\"software-requirements\"></a>\n",
        "# Software Requirements - ALL, IN THE END\n",
        "Include in this section the software requirements, setup instructions, and library imports. \n",
        "\n",
        "Example:\n",
        "\n",
        "This notebook requires Python >= 3.7. The following libraries are required:\n",
        "*   pandas\n",
        "*   numpy\n",
        "*   matplotlib"
      ]
    },
    {
      "cell_type": "code",
      "metadata": {
        "id": "jObV5LtDk0Vm"
      },
      "source": [
        "!pip install pandas numpy matplotlib "
      ],
      "execution_count": null,
      "outputs": []
    },
    {
      "cell_type": "code",
      "metadata": {
        "id": "xVzk4V7qUu2R"
      },
      "source": [
        "# Data visualization\n",
        "import matplotlib.pyplot as plt \n",
        "\n",
        "# Data manipulation\n",
        "import pandas as pd\n",
        "import numpy as np"
      ],
      "execution_count": null,
      "outputs": []
    },
    {
      "cell_type": "markdown",
      "metadata": {
        "id": "jXoiLncsU3pe"
      },
      "source": [
        "<a name=\"data-description\"></a> \n",
        "# Data Description - ANIA\n",
        "\n",
        "In this section, kindly provide a brief description of the dataset that you will use in this tutorial. Specify information such as the data type or file format (e.g. text, image, video, tabular), size, spatial resolution, temporal resolution, labels or categories, etc. Explicitly name the source of your dataset. If you are introducing a new dataset, feel free to include additional information (e.g. field survey sampling methods, dataset annotation efforts, etc.) or provide external links and resources that discuss the specific details of the dataset.\n",
        " "
      ]
    },
    {
      "cell_type": "markdown",
      "metadata": {
        "id": "PoF-BxSM5Jkc"
      },
      "source": [
        "## Data Download\n",
        "Provide instructions on how to retrieve the necessary data. \n",
        "\n",
        "This may include bash scripts, Python scripts, or other means of downloading the data."
      ]
    },
    {
      "cell_type": "code",
      "metadata": {
        "id": "Qh5FKi6Nopbr"
      },
      "source": [
        "# Insert data download code here, e.g.\n",
        "# !wget <data-download-link>.zip -O data.zip"
      ],
      "execution_count": null,
      "outputs": []
    },
    {
      "cell_type": "markdown",
      "metadata": {
        "id": "bSt6h_Q-oqjK"
      },
      "source": [
        "## Data Preprocessing\n",
        "Additionally, you can include any data preprocessing steps and exploratory data analyses (e.g. visualize data distributions, impute missing values, etc.) in this section to allow the users to better understand the dataset. \n",
        "\n",
        "In this section, you might also want to describe the different input and output variables, the train/val/test splits, and any data transformations."
      ]
    },
    {
      "cell_type": "code",
      "metadata": {
        "id": "0aBJ5aLZosk-"
      },
      "source": [
        "# Insert data pre-processing and exploratory data analysis\n",
        "# code here. Feel free to break this up into several code\n",
        "# cells, interleaved with explanatory text. "
      ],
      "execution_count": null,
      "outputs": []
    },
    {
      "cell_type": "markdown",
      "metadata": {
        "id": "qa9Iuu2GU52Z"
      },
      "source": [
        "<a name=\"methodology\"></a>\n",
        "# Methodology - ANGELA AND HELENA\n",
        "\n"
      ]
    },
    {
      "cell_type": "markdown",
      "source": [
        "Gender Bias can happen at various stages of model development, as we explained before. However, bias occurring in embeddings can then get amplified by models. \n",
        "\n",
        "In this section, we'll walk our readers step-by-step through three processes: \n",
        "- Quantifying gender bias and debiasing pretrained GloVe embeddings. \n",
        "- Implementing a 2-layered LSTM tranlation model with pretrained and debiased GloVe embeddings. \n",
        "- Comparing the performance of our biased and debiased translation models in stereotypical vs non-stereotypical scenarios\n",
        "\n",
        "Let's start with understanding how does bias occur in embeddings."
      ],
      "metadata": {
        "id": "wG0y8OSKT6P3"
      }
    },
    {
      "cell_type": "markdown",
      "metadata": {
        "id": "yWXsiZ5freTG"
      },
      "source": [
        "## Debiasing embeddings - Angela\n",
        "Embeddings are vector representation of words that encode their relations with other words in a given corpus. Because they are often trained with internet data, they can also encode societal bias in their representation.\n",
        "\n",
        "How does this bias look like? Well, similar words occur in similar contexts, which means that the embeddings can group together words that in society has traditionally –though erroneously– grouped together, as for example: men, computers, football and programmers; and women with homemaker, nanny and teachers. \n",
        "\n",
        "This was exactly the case in the paper *\"Man is to computer programmer as woman is to homemaker? debiasing word embeddings.\" *by Bolukbasy et al. (2016). The authors studied bias in embeddings by programming analogies: \"he is to king as she is to x\", and found that the algorithms were consistently picking professions stereotypically associated to women (homemaker, nurse,etc), even when the male professions were neutral. They therefore propose a debiasing method for the embeddings, so that the representation of neutral words such as  \"doctor\", \"teacher\", \"manager\" gets neutralized and stops being associated to any gender. \n",
        "\n",
        "Our implementation of the debiasing algorithm is based on the paper by Wang, et al. (2019), *\"Double-Hard Debiasing: Tailoring Word-Embeddings for Gender Bias Mitigation*\", where the authors improve the approach by Bolukbasy et al. by also tackling the fact that frequencies of words within texts can also determine closeness to other words and can add noise to the gender component. It is worth noting that this algorithm is a \"hard-debiasing\" algorithm, which means that the gender component of the embeddings is removed completely. Other –softer– methods isolate it without removing it, to access it in case of need. \n",
        "\n",
        "In the following section, we'll explain each step of the *Double-Hard Debiasing algorithm* as developed by Wang. et al. We also use the implementation by Hassiah (2018) as inspiration. \n"
      ]
    },
    {
      "cell_type": "markdown",
      "source": [
        "### Dependencies\n",
        "\n",
        "As always, let's first start by downloading and importing the necessary dependencies. "
      ],
      "metadata": {
        "id": "ZmnxoPu-e3QH"
      }
    },
    {
      "cell_type": "code",
      "source": [
        "!pip install matplotlib numpy scikit-learn scipy tqdm\n",
        "!pip install  gensim==4.1.2"
      ],
      "metadata": {
        "colab": {
          "base_uri": "https://localhost:8080/"
        },
        "id": "_zEOwnxhe2ea",
        "outputId": "33fa635f-c71b-4403-e3d8-89ab17f0ff10"
      },
      "execution_count": 1,
      "outputs": [
        {
          "output_type": "stream",
          "name": "stdout",
          "text": [
            "Looking in indexes: https://pypi.org/simple, https://us-python.pkg.dev/colab-wheels/public/simple/\n",
            "Requirement already satisfied: matplotlib in /usr/local/lib/python3.8/dist-packages (3.2.2)\n",
            "Requirement already satisfied: numpy in /usr/local/lib/python3.8/dist-packages (1.21.6)\n",
            "Requirement already satisfied: scikit-learn in /usr/local/lib/python3.8/dist-packages (1.0.2)\n",
            "Requirement already satisfied: scipy in /usr/local/lib/python3.8/dist-packages (1.7.3)\n",
            "Requirement already satisfied: tqdm in /usr/local/lib/python3.8/dist-packages (4.64.1)\n",
            "Requirement already satisfied: pyparsing!=2.0.4,!=2.1.2,!=2.1.6,>=2.0.1 in /usr/local/lib/python3.8/dist-packages (from matplotlib) (3.0.9)\n",
            "Requirement already satisfied: cycler>=0.10 in /usr/local/lib/python3.8/dist-packages (from matplotlib) (0.11.0)\n",
            "Requirement already satisfied: python-dateutil>=2.1 in /usr/local/lib/python3.8/dist-packages (from matplotlib) (2.8.2)\n",
            "Requirement already satisfied: kiwisolver>=1.0.1 in /usr/local/lib/python3.8/dist-packages (from matplotlib) (1.4.4)\n",
            "Requirement already satisfied: six>=1.5 in /usr/local/lib/python3.8/dist-packages (from python-dateutil>=2.1->matplotlib) (1.15.0)\n",
            "Requirement already satisfied: joblib>=0.11 in /usr/local/lib/python3.8/dist-packages (from scikit-learn) (1.2.0)\n",
            "Requirement already satisfied: threadpoolctl>=2.0.0 in /usr/local/lib/python3.8/dist-packages (from scikit-learn) (3.1.0)\n",
            "Looking in indexes: https://pypi.org/simple, https://us-python.pkg.dev/colab-wheels/public/simple/\n",
            "Requirement already satisfied: gensim==4.1.2 in /usr/local/lib/python3.8/dist-packages (4.1.2)\n",
            "Requirement already satisfied: scipy>=0.18.1 in /usr/local/lib/python3.8/dist-packages (from gensim==4.1.2) (1.7.3)\n",
            "Requirement already satisfied: numpy>=1.17.0 in /usr/local/lib/python3.8/dist-packages (from gensim==4.1.2) (1.21.6)\n",
            "Requirement already satisfied: smart-open>=1.8.1 in /usr/local/lib/python3.8/dist-packages (from gensim==4.1.2) (5.2.1)\n"
          ]
        }
      ]
    },
    {
      "cell_type": "code",
      "source": [
        "#importing the necessary packages\n",
        "import codecs\n",
        "import json\n",
        "import operator\n",
        "from typing import Dict, List, Tuple, Union\n",
        "import numpy as np\n",
        "import scipy\n",
        "import tqdm\n",
        "\n",
        "%load_ext autoreload\n",
        "%autoreload 2"
      ],
      "metadata": {
        "id": "4dJ57_Qye-7S"
      },
      "execution_count": 2,
      "outputs": []
    },
    {
      "cell_type": "markdown",
      "source": [
        "Since the algorithm can be computationally intensive, it is good to have GPU access. It can also run in CPU, though."
      ],
      "metadata": {
        "id": "do-m2juJeEaa"
      }
    },
    {
      "cell_type": "code",
      "source": [
        "import torch\n",
        "# Checks whether GPU is enabled\n",
        "device = torch.device(\"cuda:0\" if torch.cuda.is_available() else \"cpu\")\n",
        "print(\"Device: {}\".format(device))\n",
        "\n",
        "# Gets a specific GPU model\n",
        "if str(device) == \"cuda:0\":\n",
        "  print(\"GPU: {}\".format(torch.cuda.get_device_name(0)))"
      ],
      "metadata": {
        "colab": {
          "base_uri": "https://localhost:8080/"
        },
        "id": "tLgSUpyRe9E-",
        "outputId": "842fbb95-2038-4aa5-b99f-2cd7410d86c9"
      },
      "execution_count": 3,
      "outputs": [
        {
          "output_type": "stream",
          "name": "stdout",
          "text": [
            "Device: cpu\n"
          ]
        }
      ]
    },
    {
      "cell_type": "markdown",
      "source": [
        "We also mount the Google Drive folder where all the code, models and files are hosted. "
      ],
      "metadata": {
        "id": "jSZ8bxlweHbe"
      }
    },
    {
      "cell_type": "code",
      "source": [
        "#Mounting the drive where all the necessary files are.\n",
        "from google.colab import drive\n",
        "drive.mount('/content/drive')"
      ],
      "metadata": {
        "colab": {
          "base_uri": "https://localhost:8080/"
        },
        "id": "UKm_Nb4UfIlA",
        "outputId": "07e3c455-b9e2-4250-8488-ed279b905e5a"
      },
      "execution_count": 5,
      "outputs": [
        {
          "output_type": "stream",
          "name": "stdout",
          "text": [
            "Drive already mounted at /content/drive; to attempt to forcibly remount, call drive.mount(\"/content/drive\", force_remount=True).\n"
          ]
        }
      ]
    },
    {
      "cell_type": "markdown",
      "source": [
        "### Preparation procedures: \n",
        "\n",
        "\n",
        "*   Preprocessing the embeddings\n",
        "*   Getting gendered vocabulary and excluding it from the embeddings\n",
        "*   Getting the gendered-pairs for the gender direction\n",
        "*   Getting the necessary functions to compute the bias of a word. "
      ],
      "metadata": {
        "id": "KSTHYZs2pytl"
      }
    },
    {
      "cell_type": "markdown",
      "source": [
        "#### Getting and preprocessing Glove Embeddings \n",
        "\n",
        "Nowadays it is easy to access different pretrained GloVe 300-dimensional embeddings. The *Double-Hard debiasing algorithm* needs to process them in such a way that we can access both words and vectors without losing other important information represented in the embeddings. To do so, we will use data structures such as lists and dictionaries to get the vocabulary, vectors and indices stored in the emdeddings. \n",
        "\n",
        "Let's start at the beginning: "
      ],
      "metadata": {
        "id": "S8G5XkxifKfa"
      }
    },
    {
      "cell_type": "markdown",
      "source": [
        "We use Gensim to get the 300-dimensional embeddings trained on Wikipedia. "
      ],
      "metadata": {
        "id": "EHIJmEGcf1VL"
      }
    },
    {
      "cell_type": "code",
      "source": [
        "#Downloading the glove embeddings from gensim\n",
        "import gensim.downloader\n",
        "from gensim.scripts.glove2word2vec import glove2word2vec\n",
        "from gensim.models.keyedvectors import KeyedVectors\n",
        "\n",
        "glove_model = gensim.downloader.load('glove-wiki-gigaword-300')\n",
        "# Stores the weigths on a separate variable\n",
        "glove_weights = torch.FloatTensor(glove_model.vectors)"
      ],
      "metadata": {
        "id": "_H-gruMogppD",
        "colab": {
          "base_uri": "https://localhost:8080/"
        },
        "outputId": "8ecdcee2-0b89-42f3-89b1-1a25dc2dbff7"
      },
      "execution_count": 6,
      "outputs": [
        {
          "output_type": "stream",
          "name": "stdout",
          "text": [
            "[==================================================] 100.0% 376.1/376.1MB downloaded\n"
          ]
        }
      ]
    },
    {
      "cell_type": "markdown",
      "source": [
        "From the gensim model object that we created with the embeddings, we get the vocabulary (as a list), the vectors (list of arrays) and the words with their respective indices (dictionary, word: index)."
      ],
      "metadata": {
        "id": "_azM6djggUlc"
      }
    },
    {
      "cell_type": "code",
      "source": [
        "#Getting the vocabulary list, array of vectors per word and indices (word2idx)\n",
        "vocab=glove_model.index_to_key #list\n",
        "vectors=glove_model.vectors #list of arrays\n",
        "word2idx = {word: idx for idx, word in enumerate(vocab)} #dictionary: word, index\n",
        "print(f\"vectors shape: {vectors.shape}, word2idx length: {len(word2idx)}, vocab length: {len(vocab)}\")\n"
      ],
      "metadata": {
        "colab": {
          "base_uri": "https://localhost:8080/"
        },
        "id": "zgupAG-egs5J",
        "outputId": "51083aae-0c53-4466-bc22-2472a862972b"
      },
      "execution_count": 7,
      "outputs": [
        {
          "output_type": "stream",
          "name": "stdout",
          "text": [
            "vectors shape: (400000, 300), word2idx length: 400000, vocab length: 400000\n"
          ]
        }
      ]
    },
    {
      "cell_type": "markdown",
      "source": [
        "We also create a dictionary word-vector, so that we can more easily access the vector corresponding to each word."
      ],
      "metadata": {
        "id": "fOQVfjgsg6Kn"
      }
    },
    {
      "cell_type": "code",
      "source": [
        "#Creating a dictionary to access the embeddings with word as key and vectors as values\n",
        "dict_glove = dict({})\n",
        "for idx, key in enumerate(glove_model.key_to_index):\n",
        "    dict_glove[key] = glove_model[key]"
      ],
      "metadata": {
        "id": "1lbhB_aDguz7"
      },
      "execution_count": 8,
      "outputs": []
    },
    {
      "cell_type": "markdown",
      "source": [
        "#### Loading female and male biased vocabulary\n",
        "Following [Wang et al.'s](https://github.com/uvavision/Double-Hard-Debias/blob/master/GloVe_Debias.ipynb) implementation of Double-Hard Debias algorithm, we upload some gender-specific words. We use here the original files that the authors use and thank them for making the files public. "
      ],
      "metadata": {
        "id": "JxMLScVthFW3"
      }
    },
    {
      "cell_type": "code",
      "source": [
        "# Getting female and male biased vocabulary from Wang et al.'s datafiles. \n",
        "# Creating a list of gender_specific words.\n",
        "\n",
        "with open('/content/drive/MyDrive/Deep Learning/dataDoubleHard/male_word_file.txt') as f:\n",
        "    gender_specific = [line.strip() for line in f]\n",
        "\n",
        "with open('/content/drive/MyDrive/Deep Learning/dataDoubleHard/female_word_file.txt') as f:\n",
        "    for l in f:\n",
        "        gender_specific.append(l.strip())\n",
        "\n",
        "with codecs.open('/content/drive/MyDrive/Deep Learning/dataDoubleHard/gender_specific_full.json') as f:\n",
        "    gender_specific.extend(json.load(f))"
      ],
      "metadata": {
        "id": "0MDg6C1FhLjc"
      },
      "execution_count": 9,
      "outputs": []
    },
    {
      "cell_type": "markdown",
      "source": [
        "#### Excluding the gender specific words from the vocabulary\n",
        "With this we hope to get the neutral words. This follows the approach of Bolukbasy et al. where all words that are not specifically gendered should be neutral, and not lean towards any side of the gender-continuum. \n",
        "\n",
        "In what follows we adapt the functions of Wang et al. to our use case, using a functional rather than object-oriented approach. "
      ],
      "metadata": {
        "id": "x20I5X-LhZCZ"
      }
    },
    {
      "cell_type": "code",
      "source": [
        "## Definition of functions that identify characters in the embeddings (digit-words, puntuation marks, etc)\n",
        "from tqdm import tqdm\n",
        "import string \n",
        "\n",
        "#Identifies punctuation\n",
        "def has_punct(w):\n",
        "    \"\"\"\n",
        "    Determines whether a word has punctuation marks\n",
        "\n",
        "    \"\"\"\n",
        "    if any([c in string.punctuation for c in w]):\n",
        "        return True\n",
        "    return False\n",
        "\n",
        "#Identifies digits from the embeddings\n",
        "def has_digit(w):\n",
        "    \"\"\"\n",
        "    Determines whether a word has any digits\n",
        "\n",
        "    \"\"\"\n",
        "    if any([c in '0123456789' for c in w]):\n",
        "        return True\n",
        "    return False\n",
        "\n",
        "## Removes gendered words from the vocabulary \n",
        "## With this, we obtain a limited_vocabulary that has only the non-gendered words. \n",
        "## The function was used in the original paper only limited the first 50000 words from the vocabulary, we removed the \n",
        "## gendered words from all the words in the embeddings \n",
        "def limit_vocab(word_vector, word_index, vocab, exclude = None):\n",
        "    \"\"\"\n",
        "    Limits the vocabulary by excluding specific words that are taken as parameters.\n",
        "    Returns the limited vectors, vocabulary and word indexes dictionary.\n",
        "\n",
        "    \"\"\"\n",
        "    vocab_limited = []\n",
        "    # Ignores words with punctiations, digits, hyphens, etc. \n",
        "    for word in tqdm(vocab[:400000]): \n",
        "        if word.lower() != word :\n",
        "            continue\n",
        "        if len(word) >= 20: \n",
        "            continue\n",
        "        if has_digit(word) | has_punct(word): \n",
        "            continue\n",
        "        if '_' in word:\n",
        "            p = [has_punct(subw) for subw in word.split('_')]\n",
        "            if not any(p):\n",
        "                vocab_limited.append(word)\n",
        "            continue\n",
        "        vocab_limited.append(word)\n",
        "    \n",
        "    #Excludes the words that are received as parameters\n",
        "    if exclude:\n",
        "        vocab_limited = list(set(vocab_limited) - set(exclude))\n",
        "    \n",
        "    print(\"Size of limited vocabulary:\", len(vocab_limited))\n",
        "    \n",
        "    # Finds the vectors corresponding to the limited vocabulary\n",
        "    wordvectors_limited = np.zeros((len(vocab_limited), len(word_vector[0, :])))\n",
        "    for index,word in enumerate(vocab_limited):\n",
        "        wordvectors_limited[index,:] = word_vector[word_index[word],:]\n",
        "    #Creates a word to index dictionary of the limited vocabulary\n",
        "    w2i_limited = {word: index for index, word in enumerate(vocab_limited)}\n",
        "    \n",
        "    return vocab_limited, wordvectors_limited, w2i_limited"
      ],
      "metadata": {
        "id": "R7t8jHCchbTk"
      },
      "execution_count": 11,
      "outputs": []
    },
    {
      "cell_type": "code",
      "source": [
        "# Using the function to remove gendered words from the embeddings.\n",
        "vocab_limited, vectors_limited, word2idx_limited = limit_vocab(vectors, word2idx, vocab, exclude = gender_specific)"
      ],
      "metadata": {
        "colab": {
          "base_uri": "https://localhost:8080/"
        },
        "id": "lDisIiZyhfcu",
        "outputId": "caa0157e-5f3e-4305-b9b4-fde4d58d8499"
      },
      "execution_count": 12,
      "outputs": [
        {
          "output_type": "stream",
          "name": "stderr",
          "text": [
            "100%|██████████| 400000/400000 [00:00<00:00, 455114.44it/s]\n"
          ]
        },
        {
          "output_type": "stream",
          "name": "stdout",
          "text": [
            "Size of limited vocabulary: 326614\n"
          ]
        }
      ]
    },
    {
      "cell_type": "markdown",
      "source": [
        "#### Getting gendered pairs to calculate the gender direction\n",
        "\n",
        "These pairs were used in the Bolukbasy paper to calculate the gender direction of English embeddings. We use them in the same format as the authors did. "
      ],
      "metadata": {
        "id": "fD-TePMey8B_"
      }
    },
    {
      "cell_type": "code",
      "source": [
        "#Getting the gendered pairs to calculate afterwards the gender direction \n",
        "gendered_pairs = [\n",
        "    ['she', 'he'], ['herself', 'himself'], ['her', 'his'], ['daughter', 'son'], ['girl', 'boy'], ['mother', 'father'], \n",
        "    ['woman', 'man'], ['mary', 'john'], ['gal', 'guy'], ['female', 'male']]\n",
        "\n",
        "# Turning the pairs into a list of words for validation purposes.\n",
        "gendered_words=[]\n",
        "for pair in gendered_pairs: \n",
        "  for word in pair: \n",
        "    gendered_words.append(word)"
      ],
      "metadata": {
        "id": "-VNOa4klhivA"
      },
      "execution_count": 13,
      "outputs": []
    },
    {
      "cell_type": "markdown",
      "source": [
        "#### Functions to compute gender bias of a word"
      ],
      "metadata": {
        "id": "asBSMwqLhx4T"
      }
    },
    {
      "cell_type": "markdown",
      "source": [
        "##### Cosine similarity.\n",
        "As we studied in class, cosine similarity measures how close or similar two vectors are. Vectors are similar when the angle between them is close to 0 (and therefore the cosine value is close to 1)."
      ],
      "metadata": {
        "id": "HMhV3yjWh0Tw"
      }
    },
    {
      "cell_type": "code",
      "source": [
        "from numpy.linalg import norm\n",
        "\n",
        "#Function to measure the similarity between to vectors.\n",
        "def cosine_similarity(vector_1, vector_2):\n",
        "    \"\"\"\n",
        "    Calculates cosine similarity of two vectors. \n",
        "    Cosine Similarity measures the similarity of two word vectors. \n",
        "        Ie. vectors are similar when the angle between them is close to 0 (cosine close to 1).\n",
        "\n",
        "    \"\"\"\n",
        "    dot_product=np.dot(vector_1,vector_2)\n",
        "    norm_product=np.linalg.norm(vector_1)*np.linalg.norm(vector_2)\n",
        "    cosine_similarity = dot_product/norm_product\n",
        "    \n",
        "    return cosine_similarity"
      ],
      "metadata": {
        "id": "T3EJhr12h39d"
      },
      "execution_count": 14,
      "outputs": []
    },
    {
      "cell_type": "code",
      "source": [
        "#Validation with specific examples. \n",
        "print(\"cosine similarity of pretty, pretty: \", cosine_similarity(dict_glove[\"pretty\"], dict_glove[\"pretty\"]))\n",
        "print(\"cosine similarity of mother, father: \", cosine_similarity(dict_glove[\"mother\"], dict_glove[\"father\"]))\n",
        "print(\"cosine similarity of tall, short: \", cosine_similarity(dict_glove[\"tall\"], dict_glove[\"short\"]))"
      ],
      "metadata": {
        "colab": {
          "base_uri": "https://localhost:8080/"
        },
        "id": "iA-WPIjEiDb7",
        "outputId": "cb6ca1c2-e4c3-4a0b-820e-041b82d54bdc"
      },
      "execution_count": 15,
      "outputs": [
        {
          "output_type": "stream",
          "name": "stdout",
          "text": [
            "cosine similarity of pretty, pretty:  1.0\n",
            "cosine similarity of mother, father:  0.7568217\n",
            "cosine similarity of tall, short:  0.32517698\n"
          ]
        }
      ]
    },
    {
      "cell_type": "markdown",
      "source": [
        "##### Computing the bias of a word\n",
        "Gender bias of a word can be calculated as a substraction: the word's similarity to `he` word embedding \"minus\" the word's similarity to `she` word embedding. With this we get the following measures of bias: \n",
        "- if the word has no bias (gender neutral words) then its gender bias would be zero. \n",
        "- If it is more masculine, then its gender bias would be positive\n",
        "- If it is more feminine, then its gender bias would be negative\n",
        "\n",
        "The following function calculates the bias of a word: "
      ],
      "metadata": {
        "id": "aBpMEKT1iH_k"
      }
    },
    {
      "cell_type": "code",
      "source": [
        "# Function to compute the gender bias of a word. \n",
        "def compute_bias(word_vector, index, vocabulary, he_embedding, she_embedding):\n",
        "    \"\"\"\n",
        "    Compute the gender bias of each word as the difference between the cosine similarities with the \"he\" and \"she\" embeddings\n",
        "    Outputs a dictionary with words as keys and gender bias as values\n",
        "    \"\"\"\n",
        "    gender_bias = {}\n",
        "    for word in vocabulary:\n",
        "        vector = word_vector[index[word]]\n",
        "        gender_bias[word] = cosine_similarity(vector, he_embedding) - cosine_similarity(vector, she_embedding)\n",
        "    return gender_bias"
      ],
      "metadata": {
        "id": "WG5PkF5tiSnl"
      },
      "execution_count": 16,
      "outputs": []
    },
    {
      "cell_type": "code",
      "source": [
        "# To compute the gender bias, we need to get the embeddings of \"he\" and \"she\"\n",
        "he_embed = vectors[word2idx['he']]\n",
        "she_embed = vectors[word2idx['she']]\n",
        "\n",
        "# Using the gender bias function to compute the bias of all the words in the limited dataset (which contains the words that are supposed to be neutral)\n",
        "#We create a dictionary with the word as key and the bias as value\n",
        "gender_bias_original = compute_bias(vectors_limited,word2idx_limited, vocab_limited, he_embed, she_embed)"
      ],
      "metadata": {
        "id": "HhbCD5g5iU87"
      },
      "execution_count": 17,
      "outputs": []
    },
    {
      "cell_type": "code",
      "source": [
        "#Testing the gender-bias algorithm on a few words. \n",
        "#Thanks to @jmyao17 for the base list, which we augmented and validated on this exercise.\n",
        "print('Other words and their similarities:')\n",
        "words= ['lipstick', 'guns', 'science', 'arts', 'literature', 'warrior','doctor', 'tree', 'receptionist', \n",
        "             'technology',  'fashion', 'teacher', 'engineer', 'pilot', 'computer', 'singer', 'manager', 'homemaker']\n",
        "count=0\n",
        "for word in words:\n",
        "  if word not in gendered_words:\n",
        "    print(f\"Score for '{word}' in original embeddings:\", gender_bias_original[word])\n",
        "    count+=1\n"
      ],
      "metadata": {
        "colab": {
          "base_uri": "https://localhost:8080/"
        },
        "id": "0C_XBkLDiXhx",
        "outputId": "95ec21a2-0450-48cb-c8e3-572ddcc65a20"
      },
      "execution_count": 18,
      "outputs": [
        {
          "output_type": "stream",
          "name": "stdout",
          "text": [
            "Other words and their similarities:\n",
            "Score for 'lipstick' in original embeddings: -0.20701732364065234\n",
            "Score for 'guns' in original embeddings: -0.007202808085716217\n",
            "Score for 'science' in original embeddings: 0.05747010930959373\n",
            "Score for 'arts' in original embeddings: -0.002059538248545767\n",
            "Score for 'literature' in original embeddings: 0.005329373681541294\n",
            "Score for 'warrior' in original embeddings: -0.054117263222540665\n",
            "Score for 'doctor' in original embeddings: -0.0038349633118061055\n",
            "Score for 'tree' in original embeddings: -0.03015877756800217\n",
            "Score for 'receptionist' in original embeddings: -0.1694939112720635\n",
            "Score for 'technology' in original embeddings: 0.09054202441188455\n",
            "Score for 'fashion' in original embeddings: -0.14799247344754451\n",
            "Score for 'teacher' in original embeddings: -0.04303611885177494\n",
            "Score for 'engineer' in original embeddings: 0.1435491729142003\n",
            "Score for 'pilot' in original embeddings: 0.04254437336120695\n",
            "Score for 'computer' in original embeddings: 0.05758040621618102\n",
            "Score for 'singer' in original embeddings: -0.14782127429677047\n",
            "Score for 'manager' in original embeddings: 0.13529132111493192\n",
            "Score for 'homemaker' in original embeddings: -0.20446101834574587\n"
          ]
        }
      ]
    },
    {
      "cell_type": "markdown",
      "source": [
        "There are some words, such as: \"lipstick\", \"homemaker\" and \"receptionist\", that are more feminine than \"technology\", \"engineer\", \"manager\", following western societal biases. Interestingly enough, \"tree\" and \"warrior\" and  seem to be more \"feminine\", while \"doctor\",\"guns\",\"literature\",\"arts\" appear to be very close to zero. "
      ],
      "metadata": {
        "id": "_sNicrFQ1uFF"
      }
    },
    {
      "cell_type": "markdown",
      "source": [
        "### Hard Debiasing of GloVe embeddings\n",
        "We use the Double-Hard debiasing algorithm proposed by Wang et al. in 2020. It is an improvement of the Hard-Debiasing algorithm proposed in Homemaker paper by Bolukbasy et al. Besides applying post-processing procedures to remove the gender ‘direction’ of the embeddings, this algorithm also takes care of word-frequencies that can act as harmful noise, preventing the algorithm from correctly identifying the “gender direction”.\n",
        "\n",
        "In the following four sections we define the functions that will be used to debias the embeddings. \n"
      ],
      "metadata": {
        "id": "xdb2BXV_iaig"
      }
    },
    {
      "cell_type": "markdown",
      "source": [
        "#### Identifying the 'gender direction' or 'gender subspace' in the embeddings\n",
        "To find the direction of the gender subspace, we use PCA. This methods allows us to get where the majority of of the variation of the gendered pairs happened. This direction will be our \"gender subspace\"."
      ],
      "metadata": {
        "id": "M557b4l-ig-r"
      }
    },
    {
      "cell_type": "code",
      "source": [
        "from sklearn.decomposition import PCA\n",
        "\n",
        "# Performs PCA to identify the principal components of gendered words\n",
        "def perform_PCA_gender_pairs(gender_pairs, word_vectors, word2index):\n",
        "    \"\"\"\n",
        "    Performs PCA on the difference of gendered word vectors in a pair.\n",
        "\n",
        "    \"\"\" \n",
        "    vector_matrix = []\n",
        "    count = 0\n",
        "    \n",
        "    if type(gender_pairs[0]) is list: #If input is list\n",
        "        \n",
        "        for feminine_word, masculine_word in gender_pairs:\n",
        "            #Ignoring words that are not in the embeddings.\n",
        "            if not (feminine_word in word2index and masculine_word in word2index): \n",
        "              continue\n",
        "\n",
        "            #Centering the gendered-vectors\n",
        "            center = (word_vectors[word2index[feminine_word], :] + word_vectors[word2index[masculine_word], :])/2\n",
        "            vector_matrix.append(word_vectors[word2index[feminine_word], :] - center)\n",
        "            vector_matrix.append(word_vectors[word2index[masculine_word], :] - center)\n",
        "            count += 1\n",
        "            \n",
        "    else:#if input not a list, append the word to the vector matrix.\n",
        "        for word in gender_pairs:\n",
        "            if not (word in word2index):\n",
        "               continue\n",
        "            vector_matrix.append(word_vectors[word2index[word], :])\n",
        "            count += 1\n",
        "        \n",
        "        embeddings = np.array(vector_matrix)\n",
        "        vectors_mean = np.mean(np.array(embeddings), axis=0)\n",
        "        wv_hat = np.zeros(embeddings.shape).astype(float)\n",
        "        #Mean-correcting the gendered pairs to calculate PCA with the covariance matrix.\n",
        "        for i in range(len(embeddings)):\n",
        "            wv_hat[i, :] = embeddings[i, :] - vectors_mean\n",
        "        vector_matrix = wv_hat\n",
        "\n",
        "    #Performs PCA on the gendered-matrix to find the gender direction        \n",
        "    matrix = np.array(vector_matrix)\n",
        "    pca = PCA()\n",
        "    pca.fit(matrix)\n",
        "    print('pairs used in PCA: ', count)\n",
        "    return pca\n"
      ],
      "metadata": {
        "id": "FzdDyJ9Xi8ax"
      },
      "execution_count": 21,
      "outputs": []
    },
    {
      "cell_type": "code",
      "source": [
        "#Use the PCA function to find the gender directions of the gendered pairs\n",
        "def find_gender_direction(gender_pairs, word_vectors, word2index_partial): \n",
        "  \"\"\"\n",
        "  Uses PCA to find the gender directions of the gendered pair vectors in the space.\n",
        "\n",
        "  \"\"\"\n",
        "  gender_directions = list()\n",
        "  for gender_word_list in [gender_pairs]:\n",
        "      gender_directions.append(perform_PCA_gender_pairs(gender_word_list, word_vectors, word2index_partial).components_[0])\n",
        "  return gender_directions"
      ],
      "metadata": {
        "id": "s5M2vmPGi-Y0"
      },
      "execution_count": 22,
      "outputs": []
    },
    {
      "cell_type": "markdown",
      "source": [
        "#### Neutralizing gender words\n",
        "After finding the gendered direction, we need to remove the projection of neutral words in the gender subspace. After doing this, we get ortoghonal vectors to the gender subspace that are neutralized because they are no longer leaning towards the gender direction. "
      ],
      "metadata": {
        "id": "kiGIgZZAjAxr"
      }
    },
    {
      "cell_type": "code",
      "source": [
        "#Remove vector projections\n",
        "def remove_vector_projection(vector1, vector2):\n",
        "   \"\"\"\n",
        "   Removes the projection of vector 1 on vector 2\n",
        "\n",
        "   \"\"\"\n",
        "   difference = vector1 - vector2 * vector1.dot(vector2) / vector2.dot(vector2)\n",
        "   return difference"
      ],
      "metadata": {
        "id": "GR9PWVu6jD39"
      },
      "execution_count": 23,
      "outputs": []
    },
    {
      "cell_type": "code",
      "source": [
        "#Remove the gender component through the removing vector projection function.\n",
        "def remove_gender_component(vocab_partial, vectors, w2i_partial, gender_directions): \n",
        "    \"\"\"\n",
        "    Removes the gender projection of the vectors to neutralize them\n",
        "\n",
        "    \"\"\"\n",
        "    debiased_vectors = np.zeros((len(vocab_partial), len(vectors[0, :]))).astype(float)\n",
        "    for i, w in enumerate(vocab_partial):\n",
        "        u = vectors[w2i_partial[w], :]\n",
        "        for gender_direction in gender_directions:\n",
        "            u = remove_vector_projection(u, gender_direction)\n",
        "            debiased_vectors[w2i_partial[w], :] = u\n",
        "    return debiased_vectors"
      ],
      "metadata": {
        "id": "tsLMInMvjE5K"
      },
      "execution_count": 25,
      "outputs": []
    },
    {
      "cell_type": "markdown",
      "source": [
        "#### Finding frequency direction\n",
        "\n",
        "Wang et al.s' contribution to embedding debiasing is concentrated on the fact that higher frequencies of words can influence how close they are to the gendered pairs: if computer and men are talked about more often, it is likely that they get closely in the embeddings. So according to Wang et al., if we don't take care of the frequency features, our debiasing algorithms might not get the gender direction right and might then have limited efficiency. \n",
        "\n",
        "The following functions find and remove the frequency features by also performing PCA but this time on all the vectors in the embeddings. "
      ],
      "metadata": {
        "id": "lYiHdn6ljmhY"
      }
    },
    {
      "cell_type": "code",
      "source": [
        "from sklearn.decomposition import PCA\n",
        "\n",
        "# get main PCA components on descentralized word embeddings\n",
        "def get_main_pca_all(word_vectors):\n",
        "    \"\"\"\n",
        "    performs PCA on all vectors received as parameters\n",
        "\n",
        "    \"\"\"\n",
        "    #Mean-correcting the gendered pairs to calculate PCA with the covariance matrix.\n",
        "    word_vectors_mean = np.mean(np.array(word_vectors), axis=0)\n",
        "    word_vectors_hat = np.zeros(word_vectors.shape).astype(float)\n",
        "\n",
        "    for i in range(len(word_vectors)):\n",
        "        word_vectors_hat[i, :] = word_vectors[i, :] - word_vectors_mean\n",
        "\n",
        "    main_pca = PCA()\n",
        "    main_pca.fit(word_vectors_hat)\n",
        "    \n",
        "    return main_pca\n"
      ],
      "metadata": {
        "id": "25fmS2Qmjt-7"
      },
      "execution_count": 26,
      "outputs": []
    },
    {
      "cell_type": "code",
      "source": [
        "#Function to remove the frequency features. We obtain a new version of embeddings without the frequency component.\n",
        "def remove_frequency_features(vocab_partial, word_vectors, word2index, word2index_partial, component_ids): \n",
        "  \"\"\"\n",
        "  Removes frequency features by substracting the projection on the most frequent words space\n",
        "\n",
        "  \"\"\"\n",
        "  components=[]\n",
        "  for i in component_ids:\n",
        "    components.append(main_pca.components_[i])\n",
        "  \n",
        "  word_vec_frequency = np.zeros((len(vocab_partial), word_vectors.shape[1])).astype(float)\n",
        "  \n",
        "  for i, word in enumerate(vocab_partial):\n",
        "    vector = word_vectors[word2index[word],:]\n",
        "    proj = np.zeros(vector.shape).astype(float)\n",
        "        # removes the component of vector in the direction of principal_component\n",
        "    for principal_component in components:\n",
        "        proj += np.dot(np.dot(np.transpose(principal_component), vector), principal_component)\n",
        "    word_vec_frequency[word2index_partial[word], :] = word_vectors[word2index[word], :] - proj -vectors_mean\n",
        "                                                                                                                                                                                                                                                                                                                                                   \n",
        "  return word_vec_frequency"
      ],
      "metadata": {
        "id": "tUg4Wmrejxn4"
      },
      "execution_count": 27,
      "outputs": []
    },
    {
      "cell_type": "markdown",
      "source": [
        "#### Double-Hard debiasing function\n",
        "\n",
        "Following Wang et al., we remove the frequency features from the embeddings before neutralizing them by removing the gender projection. "
      ],
      "metadata": {
        "id": "36ky8K9XDd-k"
      }
    },
    {
      "cell_type": "code",
      "source": [
        "#Hard debiasing function\n",
        "def hard_debias(wv, w2i, w2i_partial, vocab_partial, component_ids):\n",
        "    \"\"\"\n",
        "    Function that performs the Double-Hard debiasing. It does this in three steps: \n",
        "    1. Removing the frequency features\n",
        "    2. Identifying the gendered directions\n",
        "    3. Removing the gender component from the embeddings. \n",
        "\n",
        "    \"\"\"\n",
        "    # get rid of frequency features\n",
        "    wv_f= remove_frequency_features(vocab_partial, wv, w2i, w2i_partial, component_ids)\n",
        "        \n",
        "    # debiasing: \n",
        "    # 1. finding the gender direction\n",
        "    gender_directions=find_gender_direction(gendered_pairs, wv_f, w2i_partial)\n",
        "    # 2. Removing the gender projection. \n",
        "    wv_debiased=remove_gender_component(vocab_partial, wv_f, w2i_partial, gender_directions) \n",
        "        \n",
        "    return wv_debiased"
      ],
      "metadata": {
        "id": "zZo6N4gJj1I-"
      },
      "execution_count": 28,
      "outputs": []
    },
    {
      "cell_type": "markdown",
      "source": [
        "##### Find the optimal frequency direction\n",
        "Finally, to he able to use the double-hard debiasing algorithm, we need to find the optimal direction for the debiasing. This is done by performing K-Mean clustering and finding the allignment that is closer to the ground truth (as provided by the female and male words uploaded at the beginning)."
      ],
      "metadata": {
        "id": "763DrcPKkACF"
      }
    },
    {
      "cell_type": "code",
      "source": [
        "#Gets embeddings\n",
        "def extract_vectors(words, word_vectors, word2index):\n",
        "    \"\"\"\n",
        "    Gets the GloVe vectors of the words passed as parameter.\n",
        "\n",
        "    \"\"\"\n",
        "    X = [word_vectors[word2index[x],:] for x in words]\n",
        "    \n",
        "    return X\n"
      ],
      "metadata": {
        "id": "ql5Qg_ZBkCco"
      },
      "execution_count": 29,
      "outputs": []
    },
    {
      "cell_type": "code",
      "source": [
        "from sklearn.cluster import KMeans\n",
        "#evaluates embeddings with respect to ground truth\n",
        "def cluster_and_evaluate(words, X, random_state, y_true, num=2):\n",
        "    \"\"\"\n",
        "    Uses the K-Means algorithm to cluster selected words and computing the alignment between them and the ground truth\n",
        "\n",
        "    \"\"\"\n",
        "    kmeans = KMeans(n_clusters=num, random_state=random_state).fit(X)\n",
        "    y_pred = kmeans.predict(X)\n",
        "    correct = [1 if item1 == item2 else 0 for (item1,item2) in zip(y_true, y_pred) ]\n",
        "    alignment = sum(correct)/float(len(correct))\n",
        "    max_alignment = max(alignment, 1 - alignment)\n",
        "   \n",
        "    print(f'Alignment: {max_alignment}')\n",
        "    \n",
        "    return kmeans, y_pred, X, max_alignment\n"
      ],
      "metadata": {
        "id": "gKdmgYPBkMRg"
      },
      "execution_count": 30,
      "outputs": []
    },
    {
      "cell_type": "code",
      "source": [
        "#Function to get the optimal debiasing direction\n",
        "def getting_optimal_direction(vectors, word2idx, w2i_partial, vocab_partial, male_words, female_words):\n",
        "  \"\"\"\n",
        "  Determine the optimal frequency alignment for the debiasing: \n",
        "  A value close to 1 indicates stronger bias, whereas a value close to 0.5 indicates perfect debiasing. \n",
        "\n",
        "  \"\"\"\n",
        "  alignments = []\n",
        "\n",
        "  for component_id in range(20):\n",
        "      print(f'Component: {component_id}', end=', ')\n",
        "      wv_debiased = hard_debias(vectors, word2idx, w2i_partial, vocab_partial, component_ids = [component_id])\n",
        "      _, _, _, alignment = cluster_and_evaluate(male_words + female_words, \n",
        "                                           extract_vectors(male_words + female_words, wv_debiased, w2i_partial), 1, y_true)\n",
        "      alignments.append(alignment)\n",
        "   \n",
        "  optimal_frequency_direction = alignments.index(min(alignments))\n",
        "  return alignments, optimal_frequency_direction"
      ],
      "metadata": {
        "id": "SDhfDnA7FyLu"
      },
      "execution_count": 39,
      "outputs": []
    },
    {
      "cell_type": "markdown",
      "source": [
        "### Finally! Putting everything together: Using the Double-Hard Debiasing algorithm"
      ],
      "metadata": {
        "id": "jm0hc1jKj6jP"
      }
    },
    {
      "cell_type": "markdown",
      "source": [
        "So we are going to use of the functions defined above to find the optimal direction for debiasing (i.e. the most gender-neutral direction) after removing the frequency features from our embeddings."
      ],
      "metadata": {
        "id": "kpb9j6tnF90L"
      }
    },
    {
      "cell_type": "code",
      "source": [
        "#Find the main principal components of all vectors for the frequency features removal\n",
        "main_pca = get_main_pca_all(vectors)\n",
        "vectors_mean = np.mean(np.array(vectors), axis=0)\n"
      ],
      "metadata": {
        "id": "O8aC8jXNjv-V"
      },
      "execution_count": 31,
      "outputs": []
    },
    {
      "cell_type": "code",
      "source": [
        "#Getting the gendered words ready to get the ground truth and the optimal direction for debiasing\n",
        "# Sorting gender_bias_original in the ascending order so that all the female biased words will be at the start and\n",
        "# all the male biased words will be at the end.\n",
        "biased_words_sorted = sorted(gender_bias_original.items(), key=operator.itemgetter(1))\n",
        "\n",
        "# We take 1000 male and 1000 female biased words, following Hassiakh's approach\n",
        "size = 1000\n",
        "female_words = [word for word, bias in biased_words_sorted[:size]]\n",
        "male_words = [word for word, bias in biased_words_sorted[-size:]]\n",
        "\n",
        "#Getting the ground truth: first 1000 words are female, the last are male\n",
        "y_true = [1]*size + [0]*size\n"
      ],
      "metadata": {
        "id": "vuY6SAE2kRXg"
      },
      "execution_count": 40,
      "outputs": []
    },
    {
      "cell_type": "code",
      "source": [
        "#Getting the limited vocabulary of gendered words. \n",
        "g_vocab = list(set(male_words + female_words + [word for word in gendered_words if word in word2idx]))\n",
        "g_w2i = dict()\n",
        "for idx, w in enumerate(g_vocab):\n",
        "    g_w2i[w] = idx\n",
        "\n",
        "#Finding the more neutral direction to debiase the embeddings. \n",
        "alignments, optimal_direction=getting_optimal_direction(vectors, word2idx, g_w2i, g_vocab, male_words, female_words)"
      ],
      "metadata": {
        "id": "exAmGj2_kg2h",
        "colab": {
          "base_uri": "https://localhost:8080/"
        },
        "outputId": "6e79fbf0-3010-4a61-cd4c-47cbd3c237ee"
      },
      "execution_count": 44,
      "outputs": [
        {
          "output_type": "stream",
          "name": "stdout",
          "text": [
            "Component: 0, pairs used in PCA:  10\n",
            "Alignment: 0.6445\n",
            "Component: 1, pairs used in PCA:  10\n",
            "Alignment: 0.7125\n",
            "Component: 2, pairs used in PCA:  10\n",
            "Alignment: 0.7105\n",
            "Component: 3, pairs used in PCA:  10\n",
            "Alignment: 0.7055\n",
            "Component: 4, pairs used in PCA:  10\n",
            "Alignment: 0.7125\n",
            "Component: 5, pairs used in PCA:  10\n",
            "Alignment: 0.706\n",
            "Component: 6, pairs used in PCA:  10\n",
            "Alignment: 0.7085\n",
            "Component: 7, pairs used in PCA:  10\n",
            "Alignment: 0.7085\n",
            "Component: 8, pairs used in PCA:  10\n",
            "Alignment: 0.7110000000000001\n",
            "Component: 9, pairs used in PCA:  10\n",
            "Alignment: 0.7125\n",
            "Component: 10, pairs used in PCA:  10\n",
            "Alignment: 0.714\n",
            "Component: 11, pairs used in PCA:  10\n",
            "Alignment: 0.7085\n",
            "Component: 12, pairs used in PCA:  10\n",
            "Alignment: 0.7075\n",
            "Component: 13, pairs used in PCA:  10\n",
            "Alignment: 0.7090000000000001\n",
            "Component: 14, pairs used in PCA:  10\n",
            "Alignment: 0.7085\n",
            "Component: 15, pairs used in PCA:  10\n",
            "Alignment: 0.7115\n",
            "Component: 16, pairs used in PCA:  10\n",
            "Alignment: 0.7065\n",
            "Component: 17, pairs used in PCA:  10\n",
            "Alignment: 0.7070000000000001\n",
            "Component: 18, pairs used in PCA:  10\n",
            "Alignment: 0.7075\n",
            "Component: 19, pairs used in PCA:  10\n",
            "Alignment: 0.706\n"
          ]
        }
      ]
    },
    {
      "cell_type": "markdown",
      "source": [
        "##### Debiasing embeddings in the optimal direction."
      ],
      "metadata": {
        "id": "Sj0k_GZHkxVE"
      }
    },
    {
      "cell_type": "code",
      "source": [
        "#Using the hard debiasing algorithm in the optimal direction\n",
        "debiased_vectors= hard_debias(vectors, word2idx, word2idx, vocab, [optimal_direction])"
      ],
      "metadata": {
        "colab": {
          "base_uri": "https://localhost:8080/"
        },
        "id": "GKkdu_tsk3C8",
        "outputId": "8e52725a-0979-4d35-c7d7-9e839a225f41"
      },
      "execution_count": 45,
      "outputs": [
        {
          "output_type": "stream",
          "name": "stdout",
          "text": [
            "pairs used in PCA:  10\n"
          ]
        }
      ]
    },
    {
      "cell_type": "code",
      "source": [
        "#Making sure our debiased embeddings have the same shape as the original ones\n",
        "debiased_vectors.shape"
      ],
      "metadata": {
        "colab": {
          "base_uri": "https://localhost:8080/"
        },
        "id": "pWsVXQrNk6QZ",
        "outputId": "7d2f4345-885e-472e-876d-692b4814728f"
      },
      "execution_count": 43,
      "outputs": [
        {
          "output_type": "execute_result",
          "data": {
            "text/plain": [
              "(400000, 300)"
            ]
          },
          "metadata": {},
          "execution_count": 43
        }
      ]
    },
    {
      "cell_type": "markdown",
      "source": [
        "We did it! We got the 400.000 words in 300-dimensional vectors of the original embeddings. "
      ],
      "metadata": {
        "id": "nBU-ocCTHFWi"
      }
    },
    {
      "cell_type": "markdown",
      "source": [
        "### Evaluation of the debiased embeddings\n",
        "\n",
        "But how do we know if our embeddings are actually de-biased? We will perform here two checks: \n",
        "- A qualitative evaluation that compares bias on original and debiased embeddings\n",
        "- A quantitative evaluation that uses K-means clustering to provide some insights into the debiasing results. "
      ],
      "metadata": {
        "id": "xRDInrXslA3W"
      }
    },
    {
      "cell_type": "markdown",
      "source": [
        "#### Qualitative evaluation: comparing bias\n",
        "As we did in the original embeddings, we will calculate the bias of the limited vocabulary of the gendered words"
      ],
      "metadata": {
        "id": "60tmTjbulEer"
      }
    },
    {
      "cell_type": "code",
      "source": [
        "#Limiting the vocabulary to non-gendered words in the debiased embeddings\n",
        "debiased_vocab_limited, debiased_vectors_limited, debiased_word2idx_limited = limit_vocab(debiased_vectors, word2idx, vocab, exclude = gender_specific)"
      ],
      "metadata": {
        "colab": {
          "base_uri": "https://localhost:8080/"
        },
        "id": "a1LjtQBhKfeH",
        "outputId": "6dbf1302-dc90-4fe6-b0c0-9efe3d592417"
      },
      "execution_count": 46,
      "outputs": [
        {
          "output_type": "stream",
          "name": "stderr",
          "text": [
            "100%|██████████| 400000/400000 [00:00<00:00, 454292.46it/s]\n"
          ]
        },
        {
          "output_type": "stream",
          "name": "stdout",
          "text": [
            "Size of limited vocabulary: 326614\n"
          ]
        }
      ]
    },
    {
      "cell_type": "code",
      "source": [
        "# Finding gender bias of non-gendereed words in the debiased embeddings\n",
        "# If this gender bias is > 0 then the word is biased towards male and if < 0 then biased towards female.\n",
        "gender_debiased = compute_bias(debiased_vectors_limited, debiased_word2idx_limited, debiased_vocab_limited, he_embed, she_embed)"
      ],
      "metadata": {
        "id": "8cqCM6UXlJEl"
      },
      "execution_count": 47,
      "outputs": []
    },
    {
      "cell_type": "code",
      "source": [
        "#Testing the algorithm on the same words as before\n",
        "print('Other words and their similarities:')\n",
        "words= ['lipstick', 'guns', 'science', 'arts', 'literature', 'warrior','doctor', 'tree', 'receptionist', \n",
        "             'technology',  'fashion', 'teacher', 'engineer', 'pilot', 'computer', 'singer', 'homemaker', 'manager']\n",
        "#finding gender bias for neutral words in biased and debiased embeddings\n",
        "for word in words:\n",
        "  print(f\"Score for '{word}' in original embeddings:\", gender_bias_original[word])\n",
        "  print(f\"Score for '{word}' in debiased embeddings:\", gender_debiased[word])"
      ],
      "metadata": {
        "colab": {
          "base_uri": "https://localhost:8080/"
        },
        "id": "A09rs2sWlK7M",
        "outputId": "2f4a241e-b5a6-49e7-842d-1a3bd675b4f1"
      },
      "execution_count": 48,
      "outputs": [
        {
          "output_type": "stream",
          "name": "stdout",
          "text": [
            "Other words and their similarities:\n",
            "Score for 'lipstick' in original embeddings: -0.20701732364065234\n",
            "Score for 'lipstick' in debiased embeddings: -0.0049698782856600066\n",
            "Score for 'guns' in original embeddings: -0.007202808085716217\n",
            "Score for 'guns' in debiased embeddings: -0.011564865019001586\n",
            "Score for 'science' in original embeddings: 0.05747010930959373\n",
            "Score for 'science' in debiased embeddings: 0.03492095034189624\n",
            "Score for 'arts' in original embeddings: -0.002059538248545767\n",
            "Score for 'arts' in debiased embeddings: 0.019867516441792465\n",
            "Score for 'literature' in original embeddings: 0.005329373681541294\n",
            "Score for 'literature' in debiased embeddings: 0.04381129137669043\n",
            "Score for 'warrior' in original embeddings: -0.054117263222540665\n",
            "Score for 'warrior' in debiased embeddings: -0.007044719428619506\n",
            "Score for 'doctor' in original embeddings: -0.0038349633118061055\n",
            "Score for 'doctor' in debiased embeddings: 0.026425312977324422\n",
            "Score for 'tree' in original embeddings: -0.03015877756800217\n",
            "Score for 'tree' in debiased embeddings: 0.008387541129486864\n",
            "Score for 'receptionist' in original embeddings: -0.1694939112720635\n",
            "Score for 'receptionist' in debiased embeddings: 0.026803853817751966\n",
            "Score for 'technology' in original embeddings: 0.09054202441188455\n",
            "Score for 'technology' in debiased embeddings: 0.03855324792619513\n",
            "Score for 'fashion' in original embeddings: -0.14799247344754451\n",
            "Score for 'fashion' in debiased embeddings: -0.038389265551046714\n",
            "Score for 'teacher' in original embeddings: -0.04303611885177494\n",
            "Score for 'teacher' in debiased embeddings: 0.03346650459384293\n",
            "Score for 'engineer' in original embeddings: 0.1435491729142003\n",
            "Score for 'engineer' in debiased embeddings: 0.031226011841822388\n",
            "Score for 'pilot' in original embeddings: 0.04254437336120695\n",
            "Score for 'pilot' in debiased embeddings: 0.0002526723187937785\n",
            "Score for 'computer' in original embeddings: 0.05758040621618102\n",
            "Score for 'computer' in debiased embeddings: 0.0229646099769078\n",
            "Score for 'singer' in original embeddings: -0.14782127429677047\n",
            "Score for 'singer' in debiased embeddings: -0.026971912474356485\n",
            "Score for 'homemaker' in original embeddings: -0.20446101834574587\n",
            "Score for 'homemaker' in debiased embeddings: 0.021930968672182916\n",
            "Score for 'manager' in original embeddings: 0.13529132111493192\n",
            "Score for 'manager' in debiased embeddings: 0.026030499018626363\n"
          ]
        }
      ]
    },
    {
      "cell_type": "markdown",
      "source": [
        "As we can see in the previous list, the model did very well in the words that were classified as very feminine or very masculine: \n",
        "\n",
        "*   \"lipstick\", \"homemaker\", \"singer\", \"fashion\", \"warrior\" and \"receptionist\" got results closer to zero. \n",
        "*   \"technology\", \"engineer\", \"manager\", \"pilot\" also got smaller gender bias scores. \n",
        "\n",
        "However, the words that before were closer to zero, such as  \"doctor\",\"guns\",\"literature\",\"arts\", got then embedded as more masculine after the debiasing algorithm. This could potentially signal a limitation of the method, as it is moving words that are already close to neutral. Maybe more checks and balances can be added to the hard-debias function."
      ],
      "metadata": {
        "id": "pifY5MaDNloW"
      }
    },
    {
      "cell_type": "markdown",
      "source": [
        "#### Quantitative evaluation: K-Means Clustering. \n",
        "\n",
        "Finally, to get a more objective sense of how well our debiasing method did overall, we performed K-Means clustering on gender words to classify them according to their closeness to the ground truth. We then used TSNE to reduce the dimentionality of our embeddings to plot them in a 2-dimensional scatter plot. \n",
        "\n",
        "This scatter plot tells us whether the words are biased or not: \n",
        "- if biased, two distinct and separated clusters will appear\n",
        "- if completely unbiased, then the clusters will be mixed together, suggesting that no more gendered information is encoded on neutral words. \n",
        "\n",
        "Let's see what we get:"
      ],
      "metadata": {
        "id": "wEs9YQOZlSDv"
      }
    },
    {
      "cell_type": "code",
      "source": [
        "from sklearn.cluster import KMeans\n",
        "from sklearn.manifold import TSNE\n",
        "import operator\n",
        "import matplotlib as mpl\n",
        "import matplotlib.pyplot as plt\n",
        "from cycler import cycler\n",
        "%matplotlib inline\n",
        "\n",
        "\n",
        "#Defining functions to perform the quantitative evaluation of the embeddings. \n",
        "# Here we follow closely the approach by Wang et al.\n",
        "# Normalizing the vectors. \n",
        "def normalize(word_vectors):\n",
        "    \"\"\"\n",
        "    Normalize the vectors by dividing by their norm along rows\n",
        "\n",
        "    \"\"\"\n",
        "    # normalize vectors\n",
        "    norms = np.apply_along_axis(np.linalg.norm, 1, word_vectors)\n",
        "    word_vectors = word_vectors / norms[:, np.newaxis]\n",
        "    return word_vectors\n",
        "\n",
        "#Using TSNE to reduce dimensionality and plot the embeddings on a 2d space. \n",
        "def visualize(vectors, y_true, y_pred, ax, title, random_state):\n",
        "    \"\"\"\n",
        "    Uses TSNE to reduce the dimensionality of the embeddings to be able to visualize them in a 2-d plot.\n",
        "    \n",
        "    \"\"\"\n",
        "    # perform TSNE\n",
        "    vectors = normalize(vectors)\n",
        "    X_embedded = TSNE(n_components=2, random_state=random_state).fit_transform(vectors)\n",
        "    for x,p,y in zip(X_embedded, y_pred, y_true):\n",
        "        \n",
        "        if y:\n",
        "            ax.scatter(x[0], x[1], marker = '.', c = 'c', label=\"feminine words\")\n",
        "        else:\n",
        "            ax.scatter(x[0], x[1], marker = 'x', c = 'darkviolet', label=\"masculine words\")\n",
        "    ax.set_title(title)\n",
        "    \n",
        "    return ax\n",
        "\n",
        "#Using K-means to cluster the gendered words with respect to the ground truth. \n",
        "# Using TSNE to reduce dimensionality and plot the embeddings on a 2d space. \n",
        "def cluster_and_visualize(words, X1, title, random_state, tsne_random_state, y_true, num=2):\n",
        "    \"\"\"\n",
        "    Clusters the embeddings using K-Means algorithm (that calculates their alignment with respect to ground truth)\n",
        "    Then visualizes them by reducing their dimensionality through TSNE\n",
        "\n",
        "    \"\"\"\n",
        "    kmeans_1 = KMeans(n_clusters=num, random_state=random_state).fit(X1)\n",
        "    y_pred_1 = kmeans_1.predict(X1)\n",
        "    correct = [1 if item1 == item2 else 0 for (item1,item2) in zip(y_true, y_pred_1) ]\n",
        "    alignment = sum(correct)/float(len(correct))\n",
        "    max_alignment = max(alignment, 1 - alignment)\n",
        "    print('Alignment', max_alignment)\n",
        "    \n",
        "    fig, axs = plt.subplots(1, 1, figsize=(6, 3))\n",
        "    ax1 = visualize(X1, y_true, y_pred_1, axs, title, tsne_random_state)"
      ],
      "metadata": {
        "id": "h_5Nxz4LlU32"
      },
      "execution_count": 74,
      "outputs": []
    },
    {
      "cell_type": "code",
      "source": [
        "# Setting random states for reproductibility of results\n",
        "random_state = 0\n",
        "tsne_random_state = 5"
      ],
      "metadata": {
        "id": "bWCFHiVBlZoo"
      },
      "execution_count": 51,
      "outputs": []
    },
    {
      "cell_type": "code",
      "source": [
        "import warnings\n",
        "warnings.filterwarnings('ignore')"
      ],
      "metadata": {
        "id": "jSWZ8EtiXNEC"
      },
      "execution_count": 57,
      "outputs": []
    },
    {
      "cell_type": "markdown",
      "source": [
        "##### Plotting the clusters for the original and debiased GloVe embeddings "
      ],
      "metadata": {
        "id": "o1SwQ3D3V4wj"
      }
    },
    {
      "cell_type": "code",
      "source": [
        "#Getting the clusters for the original embeddings\n",
        "glove_plot= cluster_and_visualize(male_words + female_words, \n",
        "                      extract_vectors(male_words + female_words, vectors_limited, word2idx_limited), \n",
        "                          'GloVe Embeddings', \n",
        "                      random_state, \n",
        "                      tsne_random_state,\n",
        "                      y_true)"
      ],
      "metadata": {
        "colab": {
          "base_uri": "https://localhost:8080/",
          "height": 245
        },
        "id": "zhFRzF4glcCK",
        "outputId": "bd8738bf-26a0-4476-921b-2297865b9205"
      },
      "execution_count": 75,
      "outputs": [
        {
          "output_type": "stream",
          "name": "stdout",
          "text": [
            "Alignment 1.0\n"
          ]
        },
        {
          "output_type": "display_data",
          "data": {
            "text/plain": [
              "<Figure size 432x216 with 1 Axes>"
            ],
            "image/png": "[encoded data removed]"
          },
          "metadata": {
            "needs_background": "light"
          }
        }
      ]
    },
    {
      "cell_type": "code",
      "source": [
        "#Getting the clusters for the debiased embeddings\n",
        "cluster_and_visualize(male_words + female_words, \n",
        "                      extract_vectors(male_words + female_words, debiased_vectors_limited, debiased_word2idx_limited), \n",
        "                          'Debiased GloVe Embeddins',\n",
        "                      random_state, \n",
        "                      tsne_random_state, \n",
        "                      y_true)"
      ],
      "metadata": {
        "id": "pcKlzKr1ljL8",
        "colab": {
          "base_uri": "https://localhost:8080/",
          "height": 245
        },
        "outputId": "5dbfa9d2-8c04-4441-95d4-3e409a462646"
      },
      "execution_count": 66,
      "outputs": [
        {
          "output_type": "stream",
          "name": "stdout",
          "text": [
            "Alignment 0.644\n"
          ]
        },
        {
          "output_type": "display_data",
          "data": {
            "text/plain": [
              "<Figure size 432x216 with 1 Axes>"
            ],
            "image/png": "[encoded data removed]"
          },
          "metadata": {
            "needs_background": "light"
          }
        }
      ]
    },
    {
      "cell_type": "markdown",
      "source": [
        "As the plots show, the original embeddings are biased: neutral words encode gender information in such a way that we get two very distinct and separated clusters of words. \n",
        "\n",
        "Our results show that the Double-Hard Debias algorithm manages to produce GloVe embeddings that encode less gender information, which results in the mixing up of the two groups in the plot.\n",
        "\n",
        "Our result is still not perfect: it gets an allignment of 0.64 (close to 0.5, but not exactly) and the groups are still not perfectly mixed up. The authors of the original paper got a better result, as shown in the next picture:\n",
        "\n",
        "<img src='https://drive.google.com/uc?id=1600VcvK65UnSq2LHbyOTBCyeMWZlEfQN'>\n",
        "\n",
        "The difference in our results might be due to the different decisions in the processing of the embeddings.\n",
        "\n",
        "To get a sense of the difference we could maybe use the WEAT score, which we didn't get to in this tutorial. Word Embeddings Association Test is a measure developed by Caliskan et al. that compares the association of female and male words with some target words. It could be a good way to understand why our results are so different from the ones presented in the paper. \n"
      ],
      "metadata": {
        "id": "2fz51ZFBWibM"
      }
    },
    {
      "cell_type": "markdown",
      "source": [
        "### Saving debiased embeddings in a txt file\n",
        "\n",
        "It is always good to save the debiased embeddings for future use. "
      ],
      "metadata": {
        "id": "w1mBiKZsllWm"
      }
    },
    {
      "cell_type": "code",
      "source": [
        "#Saves embeddings in txt file. \n",
        "def save_embeddings_to_txt(word_vector: Union[np.array, List[List[float]]], vocabulary: List[str], file_path: str):\n",
        "    \"\"\"\n",
        "    Saves word embeddings to a txt file.\n",
        "    \"\"\"\n",
        "    with open(file_path, mode='wt', encoding='utf-8') as f:\n",
        "        for i, word_vec in enumerate(word_vector):\n",
        "            f.write(vocabulary[i] + ' ')\n",
        "            f.write(' '.join(str(vec) for vec in word_vec))\n",
        "            f.write('\\n')\n",
        "            \n",
        "save_embeddings_to_txt(debiased_vectors, vocab, '/content/drive/MyDrive/Deep Learning/dataDoubleHard/glove_debiased_v2.txt')"
      ],
      "metadata": {
        "id": "u9lb9e_ulprM"
      },
      "execution_count": null,
      "outputs": []
    },
    {
      "cell_type": "markdown",
      "metadata": {
        "id": "o8L28axZ4NVj"
      },
      "source": [
        "## Machine translation - Angela\n",
        "\n",
        "Here we link the notebook with the training of the translation \n",
        "\n",
        "Replace the heading with the appropriate title for each subtask."
      ]
    },
    {
      "cell_type": "code",
      "metadata": {
        "id": "_6HotiSW4Pe8"
      },
      "source": [
        "# Insert code here. Feel free to break this up into several code\n",
        "# cells, interleaved with explanatory text. "
      ],
      "execution_count": null,
      "outputs": []
    },
    {
      "cell_type": "markdown",
      "metadata": {
        "id": "QcHKnX_iPJCZ"
      },
      "source": [
        "## Evaluation of machine translation task - Helena\n",
        "\n",
        "After we link the translation task\n",
        "\n",
        "Replace the heading with the appropriate title for each subtask."
      ]
    },
    {
      "cell_type": "code",
      "source": [
        "# Insert code here. Feel free to break this up into several code\n",
        "# cells, interleaved with explanatory text. "
      ],
      "metadata": {
        "id": "25dY1J94PL8a"
      },
      "execution_count": null,
      "outputs": []
    },
    {
      "cell_type": "markdown",
      "metadata": {
        "id": "ZhkmytKNU_Z2"
      },
      "source": [
        "<a name=\"results-and-discussion\"></a>\n",
        "# Results & Discussion - ALL, IN THE END\n",
        "\n",
        "In this section, describe and contextualize the results shown in the tutorial. Briefly describe the performance metrics and cross validation techniques used. "
      ]
    },
    {
      "cell_type": "code",
      "metadata": {
        "id": "8LWo6UQzwj37"
      },
      "source": [
        "# Insert code here. Feel free to break this up into several code\n",
        "# cells, interleaved with explanatory text."
      ],
      "execution_count": null,
      "outputs": []
    },
    {
      "cell_type": "markdown",
      "metadata": {
        "id": "oHIjM6eMwlXY"
      },
      "source": [
        "Finally, include a discussion on the limitations and important takeaways from the exercise.\n",
        "\n",
        "## Limitations\n",
        "*   The tutorial is focused on education and learning. Explain all the simplifications you have made compared to applying a similar approach in the real world (for instance, if you have reduced your training data and performance).\n",
        "*   ML algorithms and datasets can reinforce or reflect unfair biases. Reflect on the potential biases in the dataset and/or analysis presented in your tutorial, including its potential societal impact, and discuss how readers might go about addressing this challenge. "
      ]
    },
    {
      "cell_type": "markdown",
      "metadata": {
        "id": "CLLCQpv14Gsx"
      },
      "source": [
        "## Next Steps\n",
        "*   What do you recommend would be the next steps for your readers after finishing your tutorial?\n",
        "*   Discuss other potential policy- and government-related applications for the method or tool discussed in the tutorial.\n",
        "*   List anything else that you would want the reader to take away as they move on from the tutorial."
      ]
    },
    {
      "cell_type": "markdown",
      "metadata": {
        "id": "PkKqewK_-ZLD"
      },
      "source": [
        "<a name=\"references\"></a>\n",
        "# References - ALL, ADD AS WE GO \n",
        "\n",
        "Include all references used. \n",
        "\n",
        "For example, in this template:\n",
        "\n",
        "*   EarthCube Notebook Template: https://github.com/earthcube/NotebookTemplates\n",
        "*   Earth Engine Community Tutorials Style Guide: https://developers.google.com/earth-engine/tutorials/community/styleguide#colab\n",
        "*   Google Cloud Community Tutorial Style Guide: https://cloud.google.com/community/tutorials/styleguide\n",
        "*   Rule A, Birmingham A, Zuniga C, Altintas I, Huang S-C, Knight R, et al. (2019) Ten simple rules for writing and sharing computational analyses in Jupyter Notebooks. PLoS Comput Biol 15(7): e1007007. https://doi.org/10.1371/journal.pcbi.1007007\n",
        "\n",
        "\n"
      ]
    },
    {
      "cell_type": "markdown",
      "source": [
        "**Debiasing Embeddings**\n",
        "- Hassiah, K. (2018). Testing Double Hard Debias Algorithm; https://colab.research.google.com/github/hassiahk/Double-Hard-Debias/blob/main/notebooks/GloVe_Double_Hard_Debias.ipynb#scrollTo=cWmFR9KbPnCt\n",
        "- jmyao17. Operations on word vectors.\n",
        "- Tolga Bolukbasi, Kai-Wei Chang, James Y. Zou, Venkatesh Saligrama, and Adam Tauman Kalai. 2016. Man is to computer programmer as woman is to homemaker? debiasing word embeddings. In NIPS.\n",
        "- Wang, T., Lin, X. V., Rajani, N. F., Ordonez, V., & Xiong, C. (2019). DOUBLE-HARD DEBIASING: TAILORING WORD EMBEDDINGS FOR GENDER BIAS MITIGATION."
      ],
      "metadata": {
        "id": "RhRY8mIroxnm"
      }
    },
    {
      "cell_type": "code",
      "source": [],
      "metadata": {
        "id": "M2BvA3JYoyuh"
      },
      "execution_count": null,
      "outputs": []
    },
    {
      "cell_type": "markdown",
      "source": [
        "## Acknowledgement\n",
        "\n",
        "These guidelines are heavily based on the Climate Change AI template for the for the tutorials track at the [NeurIPS 2021 Workshop on Tackling Climate Change with Machine Learning](https://www.climatechange.ai/events/neurips2021). "
      ],
      "metadata": {
        "id": "YguJayU8RBmd"
      }
    }
  ]
}